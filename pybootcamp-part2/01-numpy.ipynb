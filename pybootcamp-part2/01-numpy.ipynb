{
 "cells": [
  {
   "cell_type": "markdown",
   "metadata": {},
   "source": [
    "######The cell above loads the visual style of the notebook when run."
   ]
  },
  {
   "cell_type": "code",
   "execution_count": 1,
   "metadata": {
    "collapsed": false
   },
   "outputs": [
    {
     "data": {
      "text/html": [
       "<link href='http://fonts.googleapis.com/css?family=Crimson+Text' rel='stylesheet' type='text/css'>\n",
       "<link href='http://fonts.googleapis.com/css?family=Kameron' rel='stylesheet' type='text/css'>\n",
       "<link href='http://fonts.googleapis.com/css?family=Lato:200,300,400' rel='stylesheet' type='text/css'>\n",
       "<link href='http://fonts.googleapis.com/css?family=Source+Code+Pro' rel='stylesheet' type='text/css'>\n",
       "<style>\n",
       "\n",
       "@font-face {\n",
       "    font-family: \"Computer Modern\";\n",
       "    src: url('http://mirrors.ctan.org/fonts/cm-unicode/fonts/otf/cmunss.otf');\n",
       "}\n",
       "\n",
       "#notebook_panel { /* main background */\n",
       "    background: rgb(245,245,245);\n",
       "}\n",
       "\n",
       "\n",
       "div #notebook { /* centre the content */\n",
       "    background: #fff; /* white background for content */\n",
       "    margin: auto;\n",
       "    padding-left: 0em;\n",
       "}\n",
       "\n",
       "\n",
       "#notebook li { /* More space between bullet points */\n",
       "    margin-top:0.8em;\n",
       "}\n",
       "\n",
       "/* draw border around running cells */\n",
       "div.cell.border-box-sizing.code_cell.running { \n",
       "    border: 1px solid #111;\n",
       "}\n",
       "\n",
       "/* Put a solid color box around each cell and its output, visually linking them*/\n",
       "div.cell.code_cell {\n",
       "    background-color: rgb(256,256,256); \n",
       "    border-radius: 0px; \n",
       "    /* width: 105ex; */\n",
       "    padding: 0.5em;\n",
       "    margin-left:1em;\n",
       "    margin-top: 1em;\n",
       "}\n",
       "\n",
       "div.input_area {\n",
       "    border-color: rgba(0,0,0,0.10);\n",
       "    background: rbga(0,0,0,0.5);\n",
       "}\n",
       "\n",
       "/*\n",
       "div.text_cell {\n",
       "    max-width: 105ex; /* instead of 100%, */\n",
       "}\n",
       "*/\n",
       "\n",
       "div.text_cell_render {\n",
       "    font-family: \"Crimson Text\";\n",
       "    font-size: 12pt;\n",
       "    line-height: 145%; /* added for some line spacing of text. */\n",
       "}\n",
       "\n",
       "div.text_cell_render h1,\n",
       "div.text_cell_render h2,\n",
       "div.text_cell_render h3,\n",
       "div.text_cell_render h4,\n",
       "div.text_cell_render h5,\n",
       "div.text_cell_render h6 {\n",
       "    font-family: 'Kameron';\n",
       "    font-weight: 300;\n",
       "}\n",
       "\n",
       "div.text_cell_render h1 {\n",
       "    font-size: 24pt;\n",
       "}\n",
       "\n",
       "div.text_cell_render h2 {\n",
       "    font-size: 18pt;\n",
       "}\n",
       "\n",
       "div.text_cell_render h3 {\n",
       "    font-size: 14pt;\n",
       "}\n",
       "\n",
       ".rendered_html pre,\n",
       ".rendered_html code {\n",
       "    font-size: medium;\n",
       "}\n",
       "\n",
       ".rendered_html ol {\n",
       "    list-style:decimal;\n",
       "    margin: 1em 2em;\n",
       "}\n",
       "\n",
       ".CodeMirror pre{\n",
       "        font-family: 'Source Code Pro', Consolas, monocco, monospace;\n",
       "}\n",
       "\n",
       "/* Make space between the fa icon and the rest of the header */\n",
       ".panel-heading h1 span,\n",
       ".panel-heading h2 span,\n",
       ".panel-heading h3 span,\n",
       ".panel-heading h4 span,\n",
       ".panel-heading h5 span,\n",
       ".panel-heading h6 span {\n",
       "    padding-right: 10px;\n",
       "}\n",
       "\n",
       ".fa {\n",
       "    padding: 5px;\n",
       "    }\n",
       "    \n",
       "kbd {\n",
       "    padding:0.1em 0.6em;\n",
       "    border:1px solid #ccc;\n",
       "    font-size:11px;\n",
       "    font-family:Arial,Helvetica,sans-serif;\n",
       "    background-color:#f7f7f7;\n",
       "    color:#333;\n",
       "    -moz-box-shadow:0 1px 0px rgba(0, 0, 0, 0.2),0 0 0 2px #ffffff inset;\n",
       "    -webkit-box-shadow:0 1px 0px rgba(0, 0, 0, 0.2),0 0 0 2px #ffffff inset;\n",
       "    box-shadow:0 1px 0px rgba(0, 0, 0, 0.2),0 0 0 2px #ffffff inset;\n",
       "    -moz-border-radius:3px;\n",
       "    -webkit-border-radius:3px;\n",
       "    border-radius:3px;\n",
       "    display:inline-block;\n",
       "    margin:0 0.1em;\n",
       "    text-shadow:0 1px 0 #fff;\n",
       "    line-height:1.4;\n",
       "    white-space:nowrap;\n",
       "}\n",
       "\n",
       "</style>\n",
       "<script>\n",
       "    MathJax.Hub.Config({\n",
       "                        TeX: {\n",
       "                           extensions: [\"AMSmath.js\"],\n",
       "                           equationNumbers: { autoNumber: \"AMS\", useLabelIds: true}\n",
       "                           },\n",
       "                tex2jax: {\n",
       "                    inlineMath: [ ['$','$'], [\"\\\\(\",\"\\\\)\"] ],\n",
       "                    displayMath: [ ['$$','$$'], [\"\\\\[\",\"\\\\]\"] ]\n",
       "                },\n",
       "                displayAlign: 'center', // Change this to 'center' to center equations.\n",
       "                \"HTML-CSS\": {\n",
       "                    styles: {'.MathJax_Display': {\"margin\": 4}}\n",
       "                }\n",
       "        });\n",
       "</script>"
      ],
      "text/plain": [
       "<IPython.core.display.HTML object>"
      ]
     },
     "execution_count": 1,
     "metadata": {},
     "output_type": "execute_result"
    }
   ],
   "source": [
    "from IPython.core.display import HTML\n",
    "css_file = '../styles.css'\n",
    "HTML(open(css_file, \"r\").read())"
   ]
  },
  {
   "cell_type": "markdown",
   "metadata": {},
   "source": [
    "#Analysing Star Data"
   ]
  },
  {
   "cell_type": "markdown",
   "metadata": {},
   "source": [
    "<section class=\"objectives panel panel-warning\">\n",
    "<div class=\"panel-heading\">\n",
    "<h2><span class=\"fa fa-certificate\"></span>Learning Objectives</h2>\n",
    "</div>\n",
    "</section>\n",
    "\n",
    "> * Explain what a library is, and what libraries are used for.\n",
    "* Load a Python library and use the things it contains. \n",
    "* Read tabular data from a file into a program. \n",
    "* Assign values to variables.\n",
    "* Select individual values and subsections from data. \n",
    "* Perform operations on arrays of data. \n",
    "* Display simple graphs. \n",
    "\n",
    "---\n",
    "\n",
    "Words are useful, but what’s more useful are the sentences and stories we build with them. Similarly, while a lot of powerful tools are built into languages like Python, even more live in the libraries they are used to build.\n",
    "\n",
    "In order to load our star data, we need to import a library called NumPy. In general you should use this library if you want to do fancy things with numbers, especially if you have matrices or arrays. We can load NumPy using:"
   ]
  },
  {
   "cell_type": "code",
   "execution_count": 2,
   "metadata": {
    "collapsed": true
   },
   "outputs": [],
   "source": [
    "import numpy"
   ]
  },
  {
   "cell_type": "markdown",
   "metadata": {},
   "source": [
    "Importing a library is like getting a piece of lab equipment out of a storage locker and setting it up on the bench. Once you’ve loaded the library, we can ask the library to read our data file for us: "
   ]
  },
  {
   "cell_type": "code",
   "execution_count": 3,
   "metadata": {
    "collapsed": false
   },
   "outputs": [
    {
     "data": {
      "text/plain": [
       "array([[ 18.97153723,  19.71682896,  18.16796441, ...,  23.75579278,\n",
       "         23.51735192,  24.38526557],\n",
       "       [ 19.34308333,  18.51221206,  19.11193359, ...,  23.18805672,\n",
       "         23.38196123,  24.5238498 ],\n",
       "       [ 21.14437679,  18.79183746,  18.24962432, ...,  24.07262327,\n",
       "         22.64626061,  22.03138833],\n",
       "       ..., \n",
       "       [ 17.84964996,  19.63922181,  20.33860771, ...,  24.04436543,\n",
       "         22.44925162,  24.49778332],\n",
       "       [ 20.70130427,  19.60856684,  18.36354757, ...,  24.12754538,\n",
       "         24.5550029 ,  22.81197184],\n",
       "       [ 19.11101889,  18.31922674,  20.28738127, ...,  24.05150958,\n",
       "         23.47755354,  23.75159116]])"
      ]
     },
     "execution_count": 3,
     "metadata": {},
     "output_type": "execute_result"
    }
   ],
   "source": [
    "numpy.loadtxt(fname='data/star_data_01.csv', delimiter=',')"
   ]
  },
  {
   "cell_type": "markdown",
   "metadata": {},
   "source": [
    "The expression `numpy.loadtxt(...)` is a [function call](reference.html#function-call)\n",
    "that asks Python to run the function `loadtxt` that belongs to the `numpy` library.\n",
    "This [dotted notation](reference.html#dotted-notation) is used everywhere in Python\n",
    "to refer to the parts of things as `thing.component`.\n",
    "\n",
    "`numpy.loadtxt` has two [parameters](reference.html#parameter): the name of the file we want to read, and the [delimiter](reference.html#delimiter) that separates values on a line. These both need to be character strings (or [strings](reference.html#string) for short), so we put them in quotes.\n",
    "\n",
    "When we are finished typing and press <kbd>Shift</kbd>+<kbd>Enter</kbd>, the notebook runs our command. Since we haven't told it to do anything else with the function's output, the notebook displays it.\n",
    "In this case, that output is the data we just loaded. By default, only a few rows and columns are shown (with `...` to omit elements when displaying big arrays).\n",
    "\n",
    "Our call to `numpy.loadtxt` read our file, but didn't save the data in memory. To do that,\n",
    "we need to [assign](reference.html#assignment) the array to a [variable](reference.html#variable). A variable is just a name for a value, such as `x`, `current_temperature`, or `subject_id`.\n",
    "\n",
    "Python's variables must begin with a letter and are [case sensitive](reference.html#case-sensitive). We can create a new variable by assigning a value to it using `=`.\n",
    "As an illustration, let's step back and instead of considering a table of data, consider the simplest \"collection\" of data, a single value. The line below assigns the value `55` to a variable `weight_kg`:"
   ]
  },
  {
   "cell_type": "code",
   "execution_count": 4,
   "metadata": {
    "collapsed": true
   },
   "outputs": [],
   "source": [
    "weight_kg = 55"
   ]
  },
  {
   "cell_type": "markdown",
   "metadata": {},
   "source": [
    "This statement says to the computer \"put the value of `55` inside the box labelled `weight_kg`\". This is useful because we can use it later in calculations. For example: once a variable has a value, we can print it to the screen: "
   ]
  },
  {
   "cell_type": "code",
   "execution_count": 5,
   "metadata": {
    "collapsed": false
   },
   "outputs": [
    {
     "name": "stdout",
     "output_type": "stream",
     "text": [
      "55\n"
     ]
    }
   ],
   "source": [
    "print(weight_kg)"
   ]
  },
  {
   "cell_type": "markdown",
   "metadata": {},
   "source": [
    "and do arithmetic with it: "
   ]
  },
  {
   "cell_type": "code",
   "execution_count": 6,
   "metadata": {
    "collapsed": false
   },
   "outputs": [
    {
     "name": "stdout",
     "output_type": "stream",
     "text": [
      "weight in pounds 121.00000000000001\n"
     ]
    }
   ],
   "source": [
    "print('weight in pounds', 2.2*weight_kg)"
   ]
  },
  {
   "cell_type": "markdown",
   "metadata": {},
   "source": [
    "We can also change a variable’s value by assigning it a new one: "
   ]
  },
  {
   "cell_type": "code",
   "execution_count": 7,
   "metadata": {
    "collapsed": false
   },
   "outputs": [
    {
     "name": "stdout",
     "output_type": "stream",
     "text": [
      "weight in kilograms is now: 57.5\n"
     ]
    }
   ],
   "source": [
    "weight_kg = 57.5\n",
    "print ('weight in kilograms is now:', weight_kg)"
   ]
  },
  {
   "cell_type": "markdown",
   "metadata": {},
   "source": [
    "As the example above shows, we can print several things at once by separating them with commas.\n",
    "\n",
    "We should imagine the variable as a box to store something in the computer's memory. The name of the variable is the label attached to the box, like a sticky note.\n",
    "\n",
    "<img src='images/python-sticky-note-variables-01.svg'/>\n",
    "<div style=\"text-align: center;\">Figure: Variables as sticky note labels on boxes</div>\n",
    "\n",
    "This means that assigning a value to one variable does *not* change the values of other variables. For example, let’s store the subject’s weight in pounds in a variable:"
   ]
  },
  {
   "cell_type": "code",
   "execution_count": 8,
   "metadata": {
    "collapsed": false
   },
   "outputs": [
    {
     "name": "stdout",
     "output_type": "stream",
     "text": [
      "weight in kilograms: 57.5 and in pounds: 126.50000000000001\n"
     ]
    }
   ],
   "source": [
    "weight_lb = 2.2 * weight_kg\n",
    "print ('weight in kilograms:', weight_kg, 'and in pounds:', weight_lb)"
   ]
  },
  {
   "cell_type": "markdown",
   "metadata": {},
   "source": [
    "<img src='images/python-sticky-note-variables-02.svg'/>\n",
    "<div style=\"text-align: center;\">Figure: Creating another variable</div>\n",
    "\n",
    "and then change `weight_kg`"
   ]
  },
  {
   "cell_type": "code",
   "execution_count": 9,
   "metadata": {
    "collapsed": false
   },
   "outputs": [
    {
     "name": "stdout",
     "output_type": "stream",
     "text": [
      "weight in kilograms is now: 100.0 and weight in pounds is still: 126.50000000000001\n"
     ]
    }
   ],
   "source": [
    "weight_kg = 100.0\n",
    "print ('weight in kilograms is now:', weight_kg, 'and weight in pounds is still:', weight_lb)"
   ]
  },
  {
   "cell_type": "markdown",
   "metadata": {},
   "source": [
    "<img src='images/python-sticky-note-variables-03.svg'/>\n",
    "<div style=\"text-align: center;\">Figure: Updating a variable</div>\n",
    "    \n",
    "Since `weight_lb` doesn’t “remember” where its value came from, it isn’t \n",
    "automatically updated when `weight_kg` changes. This is different from the way \n",
    "spreadsheets work.\n",
    "\n",
    "The statement `weight_kg=100.0` is not a mathematical equation. It's an instruction to the computer which means \"take the value on the RHS (`100.0`), and store it in a variable with the name on the LHS (`weight_kg`)\". The RHS is calculated first, then the result is put in the variable named on the left. Therefore, the following statement makes perfect sense in Python!"
   ]
  },
  {
   "cell_type": "code",
   "execution_count": 10,
   "metadata": {
    "collapsed": false
   },
   "outputs": [
    {
     "name": "stdout",
     "output_type": "stream",
     "text": [
      "weight in kilograms is now: 95.0\n"
     ]
    }
   ],
   "source": [
    "weight_kg = weight_kg - 5\n",
    "print ('weight in kilograms is now:', weight_kg)"
   ]
  },
  {
   "cell_type": "markdown",
   "metadata": {},
   "source": [
    "Just as we can assign a single value to a variable, we can also assign an array of values to a variable using the same syntax. Let’s re-run `numpy.loadtxt` and save its result:"
   ]
  },
  {
   "cell_type": "code",
   "execution_count": 11,
   "metadata": {
    "collapsed": true
   },
   "outputs": [],
   "source": [
    "data = numpy.loadtxt(fname='data/star_data_01.csv', delimiter=',')"
   ]
  },
  {
   "cell_type": "markdown",
   "metadata": {},
   "source": [
    "This statement doesn’t produce any output because assignment doesn’t display anything. If we want to check that our data has been loaded, we can print the variable’s value:"
   ]
  },
  {
   "cell_type": "code",
   "execution_count": 12,
   "metadata": {
    "collapsed": false
   },
   "outputs": [
    {
     "name": "stdout",
     "output_type": "stream",
     "text": [
      "[[ 18.97153723  19.71682896  18.16796441 ...,  23.75579278  23.51735192\n",
      "   24.38526557]\n",
      " [ 19.34308333  18.51221206  19.11193359 ...,  23.18805672  23.38196123\n",
      "   24.5238498 ]\n",
      " [ 21.14437679  18.79183746  18.24962432 ...,  24.07262327  22.64626061\n",
      "   22.03138833]\n",
      " ..., \n",
      " [ 17.84964996  19.63922181  20.33860771 ...,  24.04436543  22.44925162\n",
      "   24.49778332]\n",
      " [ 20.70130427  19.60856684  18.36354757 ...,  24.12754538  24.5550029\n",
      "   22.81197184]\n",
      " [ 19.11101889  18.31922674  20.28738127 ...,  24.05150958  23.47755354\n",
      "   23.75159116]]\n"
     ]
    }
   ],
   "source": [
    "print(data)"
   ]
  },
  {
   "cell_type": "markdown",
   "metadata": {},
   "source": [
    "Now that our data is in memory, we can start doing things with it. First,\n",
    "let's ask what [type](reference.html#type) of thing `data` refers to:"
   ]
  },
  {
   "cell_type": "code",
   "execution_count": 13,
   "metadata": {
    "collapsed": false
   },
   "outputs": [
    {
     "name": "stdout",
     "output_type": "stream",
     "text": [
      "<class 'numpy.ndarray'>\n"
     ]
    }
   ],
   "source": [
    "print( type(data) )"
   ]
  },
  {
   "cell_type": "markdown",
   "metadata": {},
   "source": [
    "The output tells us that `data` currently refers to an N-dimensional array created by the NumPy library. These data corresponds to star's brightness over time. The rows are the individual stars and the columns are their brightness measurements.\n",
    "\n",
    "We can see what its [shape](reference.html#shape) is like this:"
   ]
  },
  {
   "cell_type": "code",
   "execution_count": 14,
   "metadata": {
    "collapsed": false
   },
   "outputs": [
    {
     "name": "stdout",
     "output_type": "stream",
     "text": [
      "(20, 101)\n"
     ]
    }
   ],
   "source": [
    "print( data.shape )"
   ]
  },
  {
   "cell_type": "markdown",
   "metadata": {},
   "source": [
    "This tells us that `data` has 20 rows and 101 columns. When we created the\n",
    "variable `data` to store our star data, we didn't just create the array, we also created information about the array, called [members](reference.html#member) or attributes. This extra information describes `data` in the same way an adjective describes a noun.\n",
    "\n",
    "`data.shape` is an attribute  of `data` which described the dimensions of `data`. We use the same dotted notation for the attributes of variables that we use for the functions in libraries because they have the same part-and-whole relationship.\n",
    "\n",
    "If we want to get a single number from the array, we must provide an [index](reference.html#index) in square brackets, just as we do in math:"
   ]
  },
  {
   "cell_type": "code",
   "execution_count": 15,
   "metadata": {
    "collapsed": false
   },
   "outputs": [
    {
     "name": "stdout",
     "output_type": "stream",
     "text": [
      "first value in data: 18.9715372282\n"
     ]
    }
   ],
   "source": [
    "print('first value in data:', data[0,0])"
   ]
  },
  {
   "cell_type": "code",
   "execution_count": 16,
   "metadata": {
    "collapsed": false
   },
   "outputs": [
    {
     "name": "stdout",
     "output_type": "stream",
     "text": [
      "middle value in data: 23.8057991275\n"
     ]
    }
   ],
   "source": [
    "print('middle value in data:', data[10,50])"
   ]
  },
  {
   "cell_type": "markdown",
   "metadata": {},
   "source": [
    "The expression `data[10, 50]` may not surprise you if you've done some programming before,\n",
    "but `data[0, 0]` might. Programming languages like Fortran and MATLAB start counting at 1,\n",
    "because that's what human beings have done for thousands of years. Languages in the C family (including C++, Java, Perl, and Python) count from 0 because that's simpler for computers to do.\n",
    "\n",
    "As a result, if we have an M$\\times$N array in Python, its indices go from 0 to M-1 on the first axis and 0 to N-1 on the second. It takes a bit of getting used to, but one way to remember the rule is that the index is how many steps we have to take from the start to get the item we want."
   ]
  },
  {
   "cell_type": "markdown",
   "metadata": {},
   "source": [
    "<section class=\"panel panel-info\">\n",
    "<div class=\"panel-heading\">\n",
    "<h2><span class=\"fa fa-thumb-tack\"></span>In the corner</h2>\n",
    "</div>\n",
    "</section>"
   ]
  },
  {
   "cell_type": "markdown",
   "metadata": {},
   "source": [
    "> What may also surprise you is that when Python displays an array,\n",
    "> it shows the element with index `[0, 0]` in the upper left corner\n",
    "> rather than the lower left.\n",
    "> This is consistent with the way mathematicians draw matrices,\n",
    "> but different from the Cartesian coordinates.\n",
    "> The indices are (row, column) instead of (column, row) for the same reason,\n",
    "> which can be confusing when plotting data."
   ]
  },
  {
   "cell_type": "markdown",
   "metadata": {},
   "source": [
    "An index like `[10, 50]` selects a single element of an array,\n",
    "but we can select whole sections as well.\n",
    "For example,\n",
    "we can select the first five measurements (columns) of brightness\n",
    "for the first four stars (rows) like this:"
   ]
  },
  {
   "cell_type": "code",
   "execution_count": 17,
   "metadata": {
    "collapsed": false
   },
   "outputs": [
    {
     "name": "stdout",
     "output_type": "stream",
     "text": [
      "[[ 18.97153723  19.71682896  18.16796441  18.03660433  19.43408084]\n",
      " [ 19.34308333  18.51221206  19.11193359  20.3713731   21.54563855]\n",
      " [ 21.14437679  18.79183746  18.24962432  18.50492595  19.92174678]\n",
      " [ 19.67139494  18.38118258  19.96200843  20.99787141  19.50493701]]\n"
     ]
    }
   ],
   "source": [
    "print( data[0:4, 0:5] )"
   ]
  },
  {
   "cell_type": "markdown",
   "metadata": {
    "collapsed": true
   },
   "source": [
    "The [slice](reference.html#slice) `0:4` means, \"Start at index 0 and go up to, but not including, index 4.\" Again, the up-to-but-not-including takes a bit of getting used to, but the rule is that the difference between the upper and lower bounds is the number of values in the slice.\n",
    "\n",
    "We don't have to start slices at 0:"
   ]
  },
  {
   "cell_type": "code",
   "execution_count": 18,
   "metadata": {
    "collapsed": false
   },
   "outputs": [
    {
     "name": "stdout",
     "output_type": "stream",
     "text": [
      "[[ 20.49777241  18.35014389  20.28880072  18.66409741  21.69025218]\n",
      " [ 18.40348141  19.75920767  20.33090082  20.28944047  21.23300029]\n",
      " [ 18.61099912  19.65488484  18.7258674   19.21476931  19.5908777 ]\n",
      " [ 21.0921982   18.66642426  18.88130079  20.70230919  20.34363952]\n",
      " [ 20.31228774  19.41084377  19.59223322  20.73801699  21.17272561]]\n"
     ]
    }
   ],
   "source": [
    "print (data[5:10, 0:5])"
   ]
  },
  {
   "cell_type": "markdown",
   "metadata": {},
   "source": [
    "We also don't have to include the upper and lower bound on the slice. If we don't include the lower bound, Python uses 0 by default;\n",
    "if we don't include the upper, the slice runs to the end of the axis,\n",
    "and if we don't include either (i.e., if we just use ':' on its own),\n",
    "the slice includes everything:"
   ]
  },
  {
   "cell_type": "code",
   "execution_count": 19,
   "metadata": {
    "collapsed": false
   },
   "outputs": [
    {
     "name": "stdout",
     "output_type": "stream",
     "text": [
      "small is:\n",
      "[[ 23.75579278  23.51735192  24.38526557]\n",
      " [ 23.18805672  23.38196123  24.5238498 ]\n",
      " [ 24.07262327  22.64626061  22.03138833]]\n"
     ]
    }
   ],
   "source": [
    "small = data[:3, 98:]\n",
    "print ('small is:')\n",
    "print (small)"
   ]
  },
  {
   "cell_type": "markdown",
   "metadata": {},
   "source": [
    "Arrays also know how to perform common mathematical operations on their values. The simplest operations with data are arithmetic: add, subtract, multiply, and divide. When you do such operations on arrays, the operation is done on each individual element of the array.\n",
    "\n",
    "Thus:"
   ]
  },
  {
   "cell_type": "code",
   "execution_count": 20,
   "metadata": {
    "collapsed": true
   },
   "outputs": [],
   "source": [
    "doubledata = data * 2.0"
   ]
  },
  {
   "cell_type": "markdown",
   "metadata": {},
   "source": [
    "will create a new array `doubledata` whose elements have the value of two times the value of the corresponding elements in `data`:"
   ]
  },
  {
   "cell_type": "code",
   "execution_count": 21,
   "metadata": {
    "collapsed": false
   },
   "outputs": [
    {
     "name": "stdout",
     "output_type": "stream",
     "text": [
      "original:\n",
      "[[ 23.75579278  23.51735192  24.38526557]\n",
      " [ 23.18805672  23.38196123  24.5238498 ]\n",
      " [ 24.07262327  22.64626061  22.03138833]]\n",
      "doubledata:\n",
      "[[ 47.51158556  47.03470384  48.77053114]\n",
      " [ 46.37611343  46.76392247  49.0476996 ]\n",
      " [ 48.14524653  45.29252121  44.06277666]]\n"
     ]
    }
   ],
   "source": [
    "print ('original:')\n",
    "print (data[:3,98:])\n",
    "print ('doubledata:')\n",
    "print (doubledata[:3,98:])"
   ]
  },
  {
   "cell_type": "markdown",
   "metadata": {},
   "source": [
    "If, instead of taking an array and doing arithmetic with a single value (as above) you did the arithmetic operation with another array of the same shape, the operation will be done on corresponding elements of the two arrays.\n",
    "\n",
    "Thus:"
   ]
  },
  {
   "cell_type": "code",
   "execution_count": 22,
   "metadata": {
    "collapsed": true
   },
   "outputs": [],
   "source": [
    "tripledata = data + doubledata"
   ]
  },
  {
   "cell_type": "markdown",
   "metadata": {},
   "source": [
    "will give you an array where `tripledata[0,0]` will equal `doubledata[0,0]` plus `data[0,0]`, and so on for all other elements of the arrays."
   ]
  },
  {
   "cell_type": "code",
   "execution_count": 23,
   "metadata": {
    "collapsed": false
   },
   "outputs": [
    {
     "name": "stdout",
     "output_type": "stream",
     "text": [
      "tripledata:\n",
      "[[ 71.26737834  70.55205576  73.15579671]\n",
      " [ 69.56417015  70.1458837   73.57154939]\n",
      " [ 72.2178698   67.93878182  66.09416499]]\n"
     ]
    }
   ],
   "source": [
    "print ('tripledata:')\n",
    "print (tripledata[:3,98:])"
   ]
  },
  {
   "cell_type": "markdown",
   "metadata": {},
   "source": [
    "Often, we want to do more than add, subtract, multiply, and divide values of data.\n",
    "Arrays also know how to do more complex operations on their values.\n",
    "If we want to find the average brightness for all stars at all times,\n",
    "for example, we can just ask the array for its mean value"
   ]
  },
  {
   "cell_type": "code",
   "execution_count": 24,
   "metadata": {
    "collapsed": false
   },
   "outputs": [
    {
     "name": "stdout",
     "output_type": "stream",
     "text": [
      "22.7270484315\n"
     ]
    }
   ],
   "source": [
    "print (data.mean())"
   ]
  },
  {
   "cell_type": "markdown",
   "metadata": {},
   "source": [
    "`mean` is a [method](reference.html#method) of the array, i.e., a function that belongs to it in the same way that the member `shape` does. If variables are nouns, methods are verbs: they are what the thing in question knows how to do. We need empty parentheses for `data.mean()`,\n",
    "even when we're not passing in any parameters, to tell Python to go and do something for us. `data.shape` doesn't need `()` because it is just a description but `data.mean()` requires the `()` because it is an action. This will become clearer when we cover functions later.\n",
    "\n",
    "Numpy arrays have lots of useful methods:"
   ]
  },
  {
   "cell_type": "code",
   "execution_count": 25,
   "metadata": {
    "collapsed": false
   },
   "outputs": [
    {
     "name": "stdout",
     "output_type": "stream",
     "text": [
      "maximum brightness: 26.9273336564\n",
      "minimum brightness: 17.6667461298\n",
      "standard deviation: 1.65817176944\n"
     ]
    }
   ],
   "source": [
    "print ('maximum brightness:', data.max())\n",
    "print ('minimum brightness:', data.min())\n",
    "print ('standard deviation:', data.std())"
   ]
  },
  {
   "cell_type": "markdown",
   "metadata": {},
   "source": [
    "When analyzing data, though, we often want to look at partial statistics, such as the maximum brightness per star or the average brightness per day. One way to do this is to create a new temporary array of the data we want, then ask it to do the calculation:"
   ]
  },
  {
   "cell_type": "code",
   "execution_count": 26,
   "metadata": {
    "collapsed": false
   },
   "outputs": [
    {
     "name": "stdout",
     "output_type": "stream",
     "text": [
      "maximum brightness for star 0: 25.475432981\n"
     ]
    }
   ],
   "source": [
    "star_0 = data[0,:] # 0 on the first axis (row), everything on the second (column)\n",
    "print ('maximum brightness for star 0:', star_0.max())"
   ]
  },
  {
   "cell_type": "markdown",
   "metadata": {},
   "source": [
    "We don’t actually need to store the row in a variable of its own. Instead, we can combine the selection and the method call:"
   ]
  },
  {
   "cell_type": "code",
   "execution_count": 27,
   "metadata": {
    "collapsed": false
   },
   "outputs": [
    {
     "name": "stdout",
     "output_type": "stream",
     "text": [
      "mean brightness for star 2: 22.6614075227\n"
     ]
    }
   ],
   "source": [
    "print ('mean brightness for star 2:', data[2,:].mean())"
   ]
  },
  {
   "cell_type": "markdown",
   "metadata": {},
   "source": [
    "What if we need the maximum brightness for all stars (as in the next diagram on the left), or the average at each time (as in the diagram on the right)? As the diagram below shows, we want to perform the operation across an axis: \n",
    "\n",
    "<img src='images/numpy_apply_axis.svg'/>\n",
    "<div style=\"text-align: center;\">Figure: Operations across axes</div>"
   ]
  },
  {
   "cell_type": "markdown",
   "metadata": {},
   "source": [
    "To support this, most array methods allow us to specify the axis we want to work on. If we ask for the average across axis 0 (rows in our 2D example), we get:"
   ]
  },
  {
   "cell_type": "code",
   "execution_count": 28,
   "metadata": {
    "collapsed": false
   },
   "outputs": [
    {
     "name": "stdout",
     "output_type": "stream",
     "text": [
      "[ 19.38516116  19.08716993  19.46730184  19.85374814  20.26075701\n",
      "  20.38174462  20.52727663  20.80068968  20.64810762  20.43919493\n",
      "  20.80905437  20.82075735  21.06928793  21.26492662  21.45630816\n",
      "  21.51050951  21.4664111   21.4068431   21.46073133  21.21440057\n",
      "  21.31443699  21.11943214  20.63114718  20.94909546  21.58723755\n",
      "  21.6573279   21.55111851  21.73747072  21.6344651   21.76335715\n",
      "  21.97916766  21.87432505  22.33586755  22.23105493  21.8660849\n",
      "  21.83865685  22.26363701  21.73312117  22.35991824  22.49517767\n",
      "  22.78382669  22.78328208  22.92160227  23.11587636  22.69680829\n",
      "  23.07148853  22.78907919  23.32076932  23.362999    23.4627108\n",
      "  23.81709901  23.98893344  23.2745819   22.77279402  22.98167593\n",
      "  22.78298053  22.75046943  22.47787922  22.13680465  22.61001078\n",
      "  22.35805445  22.59480705  22.30063998  22.84766996  22.9481354\n",
      "  23.4003985   23.96372165  23.81451695  24.5361723   24.50669111\n",
      "  25.00064151  24.41235295  24.33114199  24.17576664  23.79712786\n",
      "  23.88251696  24.01703632  24.12431461  24.22464     24.19792247\n",
      "  24.26881129  24.48584217  24.47527207  24.68362408  24.799092\n",
      "  24.80141486  24.6210006   24.50751422  24.72976871  24.75494407\n",
      "  24.97631751  24.42643289  24.29217557  24.62904776  24.09353385\n",
      "  24.10678081  23.99084365  24.14219344  23.84915013  23.58229025\n",
      "  23.62742023]\n"
     ]
    }
   ],
   "source": [
    "print (data.mean(axis=0))"
   ]
  },
  {
   "cell_type": "markdown",
   "metadata": {},
   "source": [
    "As a quick check, we can ask this array what its shape is:"
   ]
  },
  {
   "cell_type": "code",
   "execution_count": 29,
   "metadata": {
    "collapsed": false
   },
   "outputs": [
    {
     "name": "stdout",
     "output_type": "stream",
     "text": [
      "(101,)\n"
     ]
    }
   ],
   "source": [
    "print  ( data.mean(axis=0).shape )"
   ]
  },
  {
   "cell_type": "markdown",
   "metadata": {},
   "source": [
    "The expression `(101,)` tells us we have an N$\\times$1 vector,\n",
    "so this is the average brightness as a function of time for all stars.\n",
    "\n",
    "##Visualising Data\n",
    "\n",
    "The mathematician Richard Hamming once said, \"The purpose of computing is insight, not numbers,\" and the best way to develop insight is often to visualize data. Visualization deserves an entire lecture (or course) of its own, but we can explore a few features of Python's `matplotlib` library here. While there is no \"official\" plotting library, this package is the de facto standard. First, we will import the `pyplot` module from `matplotlib` and use two of its functions to create and display a heat map of our data:"
   ]
  },
  {
   "cell_type": "code",
   "execution_count": 30,
   "metadata": {
    "collapsed": false
   },
   "outputs": [
    {
     "data": {
      "image/png": "[encoded data removed]",
      "text/plain": [
       "<matplotlib.figure.Figure at 0x10c7acef0>"
      ]
     },
     "metadata": {},
     "output_type": "display_data"
    }
   ],
   "source": [
    "import matplotlib.pyplot\n",
    "%matplotlib inline\n",
    "image  = matplotlib.pyplot.imshow(data) \n",
    "matplotlib.pyplot.show(image) "
   ]
  },
  {
   "cell_type": "markdown",
   "metadata": {},
   "source": [
    "Dark regions in this heat map are low values, while light regions show high values. As we can see, most stars in our data show roughly the same trends with time. "
   ]
  },
  {
   "cell_type": "markdown",
   "metadata": {},
   "source": [
    "<section class=\"panel panel-info\">\n",
    "<div class=\"panel-heading\">\n",
    "<h2><span class=\"fa fa-thumb-tack\"></span>Some IPython 'magic'</h2>\n",
    "</div>\n",
    "</section>"
   ]
  },
  {
   "cell_type": "markdown",
   "metadata": {},
   "source": [
    "> If you're using an IPython / Jupyter notebook,\n",
    "> you'll need to execute the following command\n",
    "> in order for your matplotlib images to appear\n",
    "> in the notebook when `show()` is called:\n",
    ">\n",
    "> ~~~ {.python}\n",
    "> % matplotlib inline\n",
    "> ~~~\n",
    ">  \n",
    "> The `%` indicates an IPython magic function -\n",
    "> a function that is only valid within the notebook environment.\n",
    "> Note that you only have to execute this function once per notebook.\n",
    "\n",
    "Let's take a look at the average brightness of a star over time:"
   ]
  },
  {
   "cell_type": "code",
   "execution_count": 31,
   "metadata": {
    "collapsed": false
   },
   "outputs": [
    {
     "data": {
      "image/png": "[encoded data removed]",
      "text/plain": [
       "<matplotlib.figure.Figure at 0x10c8b97b8>"
      ]
     },
     "metadata": {},
     "output_type": "display_data"
    }
   ],
   "source": [
    "ave_brightness = data.mean(axis=0)\n",
    "ave_plot = matplotlib.pyplot.plot(ave_brightness)\n",
    "matplotlib.pyplot.xlabel('Time')\n",
    "matplotlib.pyplot.ylabel('Brightness')\n",
    "matplotlib.pyplot.show()"
   ]
  },
  {
   "cell_type": "markdown",
   "metadata": {},
   "source": [
    "Here, we have put the average across all stars in the variable `ave_brightness`, then asked `matplotlib.pyplot` to create and display a line graph of those values.\n",
    "\n",
    "Since most stars follow the same trend, these changes in brightness can't be intrinsic to the stars themselves. They are probably changes due to clouds absorbing some of the light from all of the stars we see in our data.\n",
    "\n",
    "We could see if any of the stars deviate from this common trend by dividing the brightness of each star the average brightness of all stars:"
   ]
  },
  {
   "cell_type": "code",
   "execution_count": 32,
   "metadata": {
    "collapsed": false
   },
   "outputs": [
    {
     "data": {
      "image/png": "[encoded data removed]",
      "text/plain": [
       "<matplotlib.figure.Figure at 0x10c8bdb00>"
      ]
     },
     "metadata": {},
     "output_type": "display_data"
    }
   ],
   "source": [
    "processed_data = data / ave_brightness\n",
    "image  = matplotlib.pyplot.imshow(processed_data) \n",
    "matplotlib.pyplot.show(image) "
   ]
  },
  {
   "cell_type": "markdown",
   "metadata": {},
   "source": [
    "It looks like all of our stars just follow this general trend, since there is nothing but random noise left in the processed data. If any of our stars were varying, it should stand out in this plot. \n",
    "\n",
    "Interestingly, it looks like all of our stars show roughly the same amount of noise - a fact that can be confirmed using `numpy` and an extra plot."
   ]
  },
  {
   "cell_type": "code",
   "execution_count": 33,
   "metadata": {
    "collapsed": false
   },
   "outputs": [
    {
     "name": "stdout",
     "output_type": "stream",
     "text": [
      "Std. deviation of star 0 is  0.0333071408268\n",
      "Std. deviation of star 1 is  0.0346758566177\n",
      "Std. deviation of star 2 is  0.0344168828934\n"
     ]
    },
    {
     "data": {
      "image/png": "[encoded data removed]",
      "text/plain": [
       "<matplotlib.figure.Figure at 0x10ca7fb38>"
      ]
     },
     "metadata": {},
     "output_type": "display_data"
    }
   ],
   "source": [
    "print(\"Std. deviation of star 0 is \", processed_data[0,:].std())\n",
    "print(\"Std. deviation of star 1 is \", processed_data[1,:].std())\n",
    "print(\"Std. deviation of star 2 is \", processed_data[2,:].std())\n",
    "matplotlib.pyplot.plot(processed_data[0,:])\n",
    "matplotlib.pyplot.plot(processed_data[1,:])\n",
    "matplotlib.pyplot.plot(processed_data[2,:])\n",
    "matplotlib.pyplot.show()"
   ]
  },
  {
   "cell_type": "markdown",
   "metadata": {},
   "source": [
    "<section class=\"challenge panel panel-success\"> \n",
    "<div class=\"panel-heading\">\n",
    "<h2><span class=\"fa fa-pencil\"></span>Check your understanding</h2>\n",
    "</div>\n",
    "</section>"
   ]
  },
  {
   "cell_type": "markdown",
   "metadata": {},
   "source": [
    "> What variables refer to what values after each statement in the following program? Check your answer with the person next to you, then run the program in the cell below and see if you were correct.\n",
    "```python\n",
    "mass = 47.5\n",
    "age  = 122\n",
    "mass = mass*2.0\n",
    "age  = age-20\n",
    "```"
   ]
  },
  {
   "cell_type": "code",
   "execution_count": 34,
   "metadata": {
    "collapsed": true
   },
   "outputs": [],
   "source": [
    "# INSERT YOUR CODE HERE"
   ]
  },
  {
   "cell_type": "markdown",
   "metadata": {},
   "source": [
    "<section class=\"challenge panel panel-success\"> \n",
    "<div class=\"panel-heading\">\n",
    "<h2><span class=\"fa fa-pencil\"></span>Sorting out references</h2>\n",
    "</div>\n",
    "</section>"
   ]
  },
  {
   "cell_type": "markdown",
   "metadata": {},
   "source": [
    "> What does the following program print out?\n",
    "```python\n",
    "first, second = 'Grace', 'Hopper'\n",
    "third, fourth = second, first\n",
    "print(third, fourth)\n",
    "```\n",
    "Run the code below and see if you were right."
   ]
  },
  {
   "cell_type": "code",
   "execution_count": 35,
   "metadata": {
    "collapsed": true
   },
   "outputs": [],
   "source": [
    "# INSERT YOUR CODE HERE"
   ]
  },
  {
   "cell_type": "markdown",
   "metadata": {},
   "source": [
    "<section class=\"challenge panel panel-success\"> \n",
    "<div class=\"panel-heading\">\n",
    "<h2><span class=\"fa fa-pencil\"></span>Slicing strings</h2>\n",
    "</div>\n",
    "</section>"
   ]
  },
  {
   "cell_type": "markdown",
   "metadata": {},
   "source": [
    ">A section of an array is called a [slice](reference.html#slice). We can take slices of character strings as well:"
   ]
  },
  {
   "cell_type": "code",
   "execution_count": 36,
   "metadata": {
    "collapsed": false
   },
   "outputs": [
    {
     "name": "stdout",
     "output_type": "stream",
     "text": [
      "first three characters: oxy\n",
      "last three characters: gen\n"
     ]
    }
   ],
   "source": [
    "element = 'oxygen'\n",
    "print ('first three characters:', element[0:3])\n",
    "print ('last three characters:', element[3:6])"
   ]
  },
  {
   "cell_type": "markdown",
   "metadata": {},
   "source": [
    "> What is the value of `element[:4]`?\n",
    "> What about `element[4:]`?\n",
    "> Or `element[:]`?\n",
    ">\n",
    "> What is `element[-1]`?\n",
    "> What is `element[-2]`?\n",
    "> Given those answers,\n",
    "> explain what `element[1:-1]` does."
   ]
  },
  {
   "cell_type": "markdown",
   "metadata": {},
   "source": [
    "<section class=\"challenge panel panel-success\"> \n",
    "<div class=\"panel-heading\">\n",
    "<h2><span class=\"fa fa-pencil\"></span>Make your own plot</h2>\n",
    "</div>\n",
    "</section>"
   ]
  },
  {
   "cell_type": "markdown",
   "metadata": {},
   "source": [
    ">Create a plot showing the standard deviation (`numpy.std`) of the star data at each time across all stars"
   ]
  }
 ],
 "metadata": {
  "kernelspec": {
   "display_name": "IPython (Python 3)",
   "language": "python",
   "name": "python3"
  },
  "language_info": {
   "codemirror_mode": {
    "name": "ipython",
    "version": 3
   },
   "file_extension": ".py",
   "mimetype": "text/x-python",
   "name": "python",
   "nbconvert_exporter": "python",
   "pygments_lexer": "ipython3",
   "version": "3.4.3"
  }
 },
 "nbformat": 4,
 "nbformat_minor": 0
}
