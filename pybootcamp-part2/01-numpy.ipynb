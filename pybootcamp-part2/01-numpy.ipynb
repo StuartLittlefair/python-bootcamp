{
 "cells": [
  {
   "cell_type": "markdown",
   "metadata": {},
   "source": [
    "###### The cell above loads the visual style of the notebook when run."
   ]
  },
  {
   "cell_type": "code",
   "execution_count": 1,
   "metadata": {
    "collapsed": false,
    "jupyter": {
     "outputs_hidden": false
    }
   },
   "outputs": [
    {
     "data": {
      "text/html": [
       "<link href='http://fonts.googleapis.com/css?family=Crimson+Text' rel='stylesheet' type='text/css'>\n",
       "<link href='http://fonts.googleapis.com/css?family=Kameron' rel='stylesheet' type='text/css'>\n",
       "<link href='http://fonts.googleapis.com/css?family=Lato:200,300,400' rel='stylesheet' type='text/css'>\n",
       "<link href='http://fonts.googleapis.com/css?family=Source+Code+Pro' rel='stylesheet' type='text/css'>\n",
       "<style>\n",
       "\n",
       "@font-face {\n",
       "    font-family: \"Computer Modern\";\n",
       "    src: url('http://mirrors.ctan.org/fonts/cm-unicode/fonts/otf/cmunss.otf');\n",
       "}\n",
       "\n",
       "#notebook_panel { /* main background */\n",
       "    background: rgb(245,245,245);\n",
       "}\n",
       "\n",
       "\n",
       "div #notebook { /* centre the content */\n",
       "    background: #fff; /* white background for content */\n",
       "    margin: auto;\n",
       "    padding-left: 0em;\n",
       "}\n",
       "\n",
       "\n",
       "#notebook li { /* More space between bullet points */\n",
       "    margin-top:0.8em;\n",
       "}\n",
       "\n",
       "/* draw border around running cells */\n",
       "div.cell.border-box-sizing.code_cell.running { \n",
       "    border: 1px solid #111;\n",
       "}\n",
       "\n",
       "/* Put a solid color box around each cell and its output, visually linking them*/\n",
       "div.cell.code_cell {\n",
       "    background-color: rgb(256,256,256); \n",
       "    border-radius: 0px; \n",
       "    /* width: 105ex; */\n",
       "    padding: 0.5em;\n",
       "    margin-left:1em;\n",
       "    margin-top: 1em;\n",
       "}\n",
       "\n",
       "div.input_area {\n",
       "    border-color: rgba(0,0,0,0.10);\n",
       "    background: rbga(0,0,0,0.5);\n",
       "}\n",
       "\n",
       "/*\n",
       "div.text_cell {\n",
       "    max-width: 105ex; /* instead of 100%, */\n",
       "}\n",
       "*/\n",
       "\n",
       "div.text_cell_render {\n",
       "    font-family: \"Crimson Text\";\n",
       "    font-size: 12pt;\n",
       "    line-height: 145%; /* added for some line spacing of text. */\n",
       "}\n",
       "\n",
       "div.text_cell_render h1,\n",
       "div.text_cell_render h2,\n",
       "div.text_cell_render h3,\n",
       "div.text_cell_render h4,\n",
       "div.text_cell_render h5,\n",
       "div.text_cell_render h6 {\n",
       "    font-family: 'Kameron';\n",
       "    font-weight: 300;\n",
       "}\n",
       "\n",
       "div.text_cell_render h1 {\n",
       "    font-size: 24pt;\n",
       "}\n",
       "\n",
       "div.text_cell_render h2 {\n",
       "    font-size: 18pt;\n",
       "}\n",
       "\n",
       "div.text_cell_render h3 {\n",
       "    font-size: 14pt;\n",
       "}\n",
       "\n",
       ".rendered_html pre,\n",
       ".rendered_html code {\n",
       "    font-size: medium;\n",
       "    background-color: rgba(246,246,246,1);\n",
       "    padding: 2px;\n",
       "}\n",
       "\n",
       ".rendered_html ol {\n",
       "    list-style:decimal;\n",
       "    margin: 1em 2em;\n",
       "}\n",
       "\n",
       ".CodeMirror pre{\n",
       "        font-family: 'Source Code Pro', Consolas, monocco, monospace;\n",
       "}\n",
       "\n",
       "/* Make space between the fa icon and the rest of the header */\n",
       ".panel-heading h1 span,\n",
       ".panel-heading h2 span,\n",
       ".panel-heading h3 span,\n",
       ".panel-heading h4 span,\n",
       ".panel-heading h5 span,\n",
       ".panel-heading h6 span {\n",
       "    padding-right: 10px;\n",
       "}\n",
       "\n",
       ".fa {\n",
       "    padding: 5px;\n",
       "    }\n",
       "   \n",
       "kbd {\n",
       "    padding:0.1em 0.6em;\n",
       "    border:1px solid #ccc;\n",
       "    font-size:11px;\n",
       "    font-family:Arial,Helvetica,sans-serif;\n",
       "    background-color:#f7f7f7;\n",
       "    color:#333;\n",
       "    -moz-box-shadow:0 1px 0px rgba(0, 0, 0, 0.2),0 0 0 2px #ffffff inset;\n",
       "    -webkit-box-shadow:0 1px 0px rgba(0, 0, 0, 0.2),0 0 0 2px #ffffff inset;\n",
       "    box-shadow:0 1px 0px rgba(0, 0, 0, 0.2),0 0 0 2px #ffffff inset;\n",
       "    -moz-border-radius:3px;\n",
       "    -webkit-border-radius:3px;\n",
       "    border-radius:3px;\n",
       "    display:inline-block;\n",
       "    margin:0 0.1em;\n",
       "    text-shadow:0 1px 0 #fff;\n",
       "    line-height:1.4;\n",
       "    white-space:nowrap;\n",
       "}\n",
       "\n",
       "</style>\n",
       "<script>\n",
       "    MathJax.Hub.Config({\n",
       "                        TeX: {\n",
       "                           extensions: [\"AMSmath.js\"],\n",
       "                           equationNumbers: { autoNumber: \"AMS\", useLabelIds: true}\n",
       "                           },\n",
       "                tex2jax: {\n",
       "                    inlineMath: [ ['$','$'], [\"\\\\(\",\"\\\\)\"] ],\n",
       "                    displayMath: [ ['$$','$$'], [\"\\\\[\",\"\\\\]\"] ]\n",
       "                },\n",
       "                displayAlign: 'center', // Change this to 'center' to center equations.\n",
       "                \"HTML-CSS\": {\n",
       "                    styles: {'.MathJax_Display': {\"margin\": 4}}\n",
       "                }\n",
       "        });\n",
       "</script>"
      ],
      "text/plain": [
       "<IPython.core.display.HTML object>"
      ]
     },
     "execution_count": 1,
     "metadata": {},
     "output_type": "execute_result"
    }
   ],
   "source": [
    "from IPython.core.display import HTML\n",
    "css_file = '../styles.css'\n",
    "HTML(open(css_file, \"r\").read())"
   ]
  },
  {
   "cell_type": "markdown",
   "metadata": {},
   "source": [
    "# Analysing Star Data"
   ]
  },
  {
   "cell_type": "markdown",
   "metadata": {},
   "source": [
    "<section class=\"objectives panel panel-warning\">\n",
    "<div class=\"panel-heading\">\n",
    "<h2><span class=\"fa fa-certificate\"></span>Learning Objectives</h2>\n",
    "</div>\n",
    "</section>\n",
    "\n",
    "> * Explain what a library is, and what libraries are used for.\n",
    "* Load a Python library and use the things it contains. \n",
    "* Read tabular data from a file into a program. \n",
    "* Assign values to variables.\n",
    "* Select individual values and subsections from data. \n",
    "* Perform operations on arrays of data. \n",
    "* Display simple graphs. \n",
    "\n",
    "---\n",
    "\n",
    "Words are useful, but what’s more useful are the sentences and stories we build with them. Similarly, while a lot of powerful tools are built into languages like Python, even more live in the libraries they are used to build.\n",
    "\n",
    "In order to load our star data, we need to import a library called NumPy. In general you should use this library if you want to do fancy things with numbers, especially if you have matrices or arrays. We can load NumPy using:"
   ]
  },
  {
   "cell_type": "code",
   "execution_count": 2,
   "metadata": {
    "collapsed": true,
    "jupyter": {
     "outputs_hidden": true
    }
   },
   "outputs": [],
   "source": [
    "import numpy"
   ]
  },
  {
   "cell_type": "markdown",
   "metadata": {},
   "source": [
    "Importing a library is like getting a piece of lab equipment out of a storage locker and setting it up on the bench. Once you’ve loaded the library, we can ask the library to read our data file for us: "
   ]
  },
  {
   "cell_type": "code",
   "execution_count": 3,
   "metadata": {
    "collapsed": false,
    "jupyter": {
     "outputs_hidden": false
    }
   },
   "outputs": [
    {
     "data": {
      "text/plain": [
       "array([[ 18.82835767,  18.68449456,  18.36846526, ...,  22.74609287,\n",
       "         21.59114633,  22.94081404],\n",
       "       [ 18.44871905,  19.02446975,  20.04453884, ...,  23.23142209,\n",
       "         21.62410045,  23.72676083],\n",
       "       [ 17.59471749,  17.86504252,  19.04176145, ...,  21.65369823,\n",
       "         22.58501188,  22.75590757],\n",
       "       ..., \n",
       "       [ 19.14663683,  17.5576204 ,  17.7209417 , ...,  23.08328494,\n",
       "         23.2540362 ,  22.54150028],\n",
       "       [ 17.91820205,  17.51246092,  19.22285053, ...,  22.40570422,\n",
       "         22.20877154,  23.69307697],\n",
       "       [ 18.99298186,  18.17059033,  20.43678823, ...,  23.82297922,\n",
       "         22.80203104,  23.13107049]])"
      ]
     },
     "execution_count": 3,
     "metadata": {},
     "output_type": "execute_result"
    }
   ],
   "source": [
    "numpy.loadtxt(fname='data/star_data_01.csv', delimiter=',')"
   ]
  },
  {
   "cell_type": "markdown",
   "metadata": {},
   "source": [
    "The expression `numpy.loadtxt(...)` is a [function call](reference.html#function-call)\n",
    "that asks Python to run the function `loadtxt` that belongs to the `numpy` library.\n",
    "This [dotted notation](reference.html#dotted-notation) is used everywhere in Python\n",
    "to refer to the parts of things as `thing.component`.\n",
    "\n",
    "`numpy.loadtxt` has two [parameters](reference.html#parameter): the name of the file we want to read, and the [delimiter](reference.html#delimiter) that separates values on a line. These both need to be character strings (or [strings](reference.html#string) for short), so we put them in quotes.\n",
    "\n",
    "When we are finished typing and press <kbd>Shift</kbd>+<kbd>Enter</kbd>, the notebook runs our command. Since we haven't told it to do anything else with the function's output, the notebook displays it.\n",
    "In this case, that output is the data we just loaded. By default, only a few rows and columns are shown (with `...` to omit elements when displaying big arrays).\n",
    "\n",
    "Our call to `numpy.loadtxt` read our file, but didn't save the data in memory. To do that,\n",
    "we need to [assign](reference.html#assignment) the array to a [variable](reference.html#variable). A variable is just a name for a value, such as `x`, `current_temperature`, or `subject_id`.\n",
    "\n",
    "\n",
    "## Variables\n",
    "\n",
    "Python's variables must begin with a letter and are [case sensitive](reference.html#case-sensitive). We can create a new variable by assigning a value to it using `=`.\n",
    "As an illustration, let's step back and instead of considering a table of data, consider the simplest \"collection\" of data, a single value. The line below assigns the value `55` to a variable `weight_kg`:"
   ]
  },
  {
   "cell_type": "code",
   "execution_count": 4,
   "metadata": {
    "collapsed": true,
    "jupyter": {
     "outputs_hidden": true
    }
   },
   "outputs": [],
   "source": [
    "weight_kg = 55"
   ]
  },
  {
   "cell_type": "markdown",
   "metadata": {},
   "source": [
    "This statement says to the computer \"put the value of `55` inside the box labelled `weight_kg`\". This is useful because we can use it later in calculations. For example: once a variable has a value, we can print it to the screen: "
   ]
  },
  {
   "cell_type": "code",
   "execution_count": 5,
   "metadata": {
    "collapsed": false,
    "jupyter": {
     "outputs_hidden": false
    }
   },
   "outputs": [
    {
     "name": "stdout",
     "output_type": "stream",
     "text": [
      "55\n"
     ]
    }
   ],
   "source": [
    "print(weight_kg)"
   ]
  },
  {
   "cell_type": "markdown",
   "metadata": {},
   "source": [
    "and do arithmetic with it: "
   ]
  },
  {
   "cell_type": "code",
   "execution_count": 6,
   "metadata": {
    "collapsed": false,
    "jupyter": {
     "outputs_hidden": false
    }
   },
   "outputs": [
    {
     "name": "stdout",
     "output_type": "stream",
     "text": [
      "weight in pounds 121.00000000000001\n"
     ]
    }
   ],
   "source": [
    "print('weight in pounds', 2.2*weight_kg)"
   ]
  },
  {
   "cell_type": "markdown",
   "metadata": {},
   "source": [
    "We can also change a variable’s value by assigning it a new one: "
   ]
  },
  {
   "cell_type": "code",
   "execution_count": 7,
   "metadata": {
    "collapsed": false,
    "jupyter": {
     "outputs_hidden": false
    }
   },
   "outputs": [
    {
     "name": "stdout",
     "output_type": "stream",
     "text": [
      "weight in kilograms is now: 57.5\n"
     ]
    }
   ],
   "source": [
    "weight_kg = 57.5\n",
    "print ('weight in kilograms is now:', weight_kg)"
   ]
  },
  {
   "cell_type": "markdown",
   "metadata": {},
   "source": [
    "As the example above shows, we can print several things at once by separating them with commas.\n",
    "\n",
    "We should imagine the variable as a box to store something in the computer's memory. The name of the variable is the label attached to the box, like a sticky note.\n",
    "\n",
    "<img src='images/python-sticky-note-variables-01.svg'/>\n",
    "<div style=\"text-align: center;\">Figure: Variables as sticky note labels on boxes</div>\n",
    "\n",
    "This means that assigning a value to one variable does *not* change the values of other variables. For example, let’s store the subject’s weight in pounds in a variable:"
   ]
  },
  {
   "cell_type": "code",
   "execution_count": 8,
   "metadata": {
    "collapsed": false,
    "jupyter": {
     "outputs_hidden": false
    }
   },
   "outputs": [
    {
     "name": "stdout",
     "output_type": "stream",
     "text": [
      "weight in kilograms: 57.5 and in pounds: 126.50000000000001\n"
     ]
    }
   ],
   "source": [
    "weight_lb = 2.2 * weight_kg\n",
    "print ('weight in kilograms:', weight_kg, 'and in pounds:', weight_lb)"
   ]
  },
  {
   "cell_type": "markdown",
   "metadata": {},
   "source": [
    "<img src='images/python-sticky-note-variables-02.svg'/>\n",
    "<div style=\"text-align: center;\">Figure: Creating another variable</div>\n",
    "\n",
    "and then change `weight_kg`"
   ]
  },
  {
   "cell_type": "code",
   "execution_count": 9,
   "metadata": {
    "collapsed": false,
    "jupyter": {
     "outputs_hidden": false
    }
   },
   "outputs": [
    {
     "name": "stdout",
     "output_type": "stream",
     "text": [
      "weight in kilograms is now: 100.0 and weight in pounds is still: 126.50000000000001\n"
     ]
    }
   ],
   "source": [
    "weight_kg = 100.0\n",
    "print ('weight in kilograms is now:', weight_kg, 'and weight in pounds is still:', weight_lb)"
   ]
  },
  {
   "cell_type": "markdown",
   "metadata": {},
   "source": [
    "<img src='images/python-sticky-note-variables-03.svg'/>\n",
    "<div style=\"text-align: center;\">Figure: Updating a variable</div>\n",
    "    \n",
    "Since `weight_lb` doesn’t “remember” where its value came from, it isn’t \n",
    "automatically updated when `weight_kg` changes. This is different from the way \n",
    "spreadsheets work.\n",
    "\n",
    "The statement `weight_kg=100.0` is not a mathematical equation. It's an instruction to the computer which means \"take the value on the RHS (`100.0`), and store it in a variable with the name on the LHS (`weight_kg`)\". The RHS is calculated first, then the result is put in the variable named on the left. Therefore, the following statement makes perfect sense in Python!"
   ]
  },
  {
   "cell_type": "code",
   "execution_count": 10,
   "metadata": {
    "collapsed": false,
    "jupyter": {
     "outputs_hidden": false
    }
   },
   "outputs": [
    {
     "name": "stdout",
     "output_type": "stream",
     "text": [
      "weight in kilograms is now: 95.0\n"
     ]
    }
   ],
   "source": [
    "weight_kg = weight_kg - 5\n",
    "print ('weight in kilograms is now:', weight_kg)"
   ]
  },
  {
   "cell_type": "markdown",
   "metadata": {},
   "source": [
    "Just as we can assign a single value to a variable, we can also assign an array of values to a variable using the same syntax. Let’s re-run `numpy.loadtxt` and save its result:"
   ]
  },
  {
   "cell_type": "code",
   "execution_count": 11,
   "metadata": {
    "collapsed": true,
    "jupyter": {
     "outputs_hidden": true
    }
   },
   "outputs": [],
   "source": [
    "data = numpy.loadtxt(fname='data/star_data_01.csv', delimiter=',')"
   ]
  },
  {
   "cell_type": "markdown",
   "metadata": {},
   "source": [
    "This statement doesn’t produce any output because assignment doesn’t display anything. If we want to check that our data has been loaded, we can print the variable’s value:"
   ]
  },
  {
   "cell_type": "code",
   "execution_count": 12,
   "metadata": {
    "collapsed": false,
    "jupyter": {
     "outputs_hidden": false
    }
   },
   "outputs": [
    {
     "name": "stdout",
     "output_type": "stream",
     "text": [
      "[[ 18.82835767  18.68449456  18.36846526 ...,  22.74609287  21.59114633\n",
      "   22.94081404]\n",
      " [ 18.44871905  19.02446975  20.04453884 ...,  23.23142209  21.62410045\n",
      "   23.72676083]\n",
      " [ 17.59471749  17.86504252  19.04176145 ...,  21.65369823  22.58501188\n",
      "   22.75590757]\n",
      " ..., \n",
      " [ 19.14663683  17.5576204   17.7209417  ...,  23.08328494  23.2540362\n",
      "   22.54150028]\n",
      " [ 17.91820205  17.51246092  19.22285053 ...,  22.40570422  22.20877154\n",
      "   23.69307697]\n",
      " [ 18.99298186  18.17059033  20.43678823 ...,  23.82297922  22.80203104\n",
      "   23.13107049]]\n"
     ]
    }
   ],
   "source": [
    "print(data)"
   ]
  },
  {
   "cell_type": "markdown",
   "metadata": {},
   "source": [
    "Now that our data is in memory, we can start doing things with it. First,\n",
    "let's ask what [type](reference.html#type) of thing `data` refers to:"
   ]
  },
  {
   "cell_type": "code",
   "execution_count": 13,
   "metadata": {
    "collapsed": false,
    "jupyter": {
     "outputs_hidden": false
    }
   },
   "outputs": [
    {
     "name": "stdout",
     "output_type": "stream",
     "text": [
      "<class 'numpy.ndarray'>\n"
     ]
    }
   ],
   "source": [
    "print( type(data) )"
   ]
  },
  {
   "cell_type": "markdown",
   "metadata": {},
   "source": [
    "The output tells us that `data` currently refers to an N-dimensional array created by the NumPy library. These data corresponds to star's brightness over time. The rows are the individual stars and the columns are their brightness measurements.\n",
    "\n",
    "We can see what its [shape](reference.html#shape) is like this:"
   ]
  },
  {
   "cell_type": "code",
   "execution_count": 14,
   "metadata": {
    "collapsed": false,
    "jupyter": {
     "outputs_hidden": false
    }
   },
   "outputs": [
    {
     "name": "stdout",
     "output_type": "stream",
     "text": [
      "(20, 101)\n"
     ]
    }
   ],
   "source": [
    "print( data.shape )"
   ]
  },
  {
   "cell_type": "markdown",
   "metadata": {},
   "source": [
    "This tells us that `data` has 20 rows and 101 columns. \n",
    "\n",
    "When we created the\n",
    "variable `data` to store our star data, we didn't just create the array, we also created information about the array, called [members](reference.html#member) or attributes. This extra information describes `data` in the same way an adjective describes a noun.\n",
    "\n",
    "`data.shape` is an attribute  of `data` which described the dimensions of `data`. We use the same dotted notation for the attributes of variables that we use for the functions in libraries because they have the same part-and-whole relationship.\n",
    "\n",
    "If we want to get a single number from the array, we must provide an [index](reference.html#index) in square brackets, just as we do in math:"
   ]
  },
  {
   "cell_type": "code",
   "execution_count": 15,
   "metadata": {
    "collapsed": false,
    "jupyter": {
     "outputs_hidden": false
    }
   },
   "outputs": [
    {
     "name": "stdout",
     "output_type": "stream",
     "text": [
      "first value in data: 18.8283576684\n"
     ]
    }
   ],
   "source": [
    "print('first value in data:', data[0,0])"
   ]
  },
  {
   "cell_type": "code",
   "execution_count": 16,
   "metadata": {
    "collapsed": false,
    "jupyter": {
     "outputs_hidden": false
    }
   },
   "outputs": [
    {
     "name": "stdout",
     "output_type": "stream",
     "text": [
      "middle value in data: 22.9296967381\n"
     ]
    }
   ],
   "source": [
    "print('middle value in data:', data[10,50])"
   ]
  },
  {
   "cell_type": "markdown",
   "metadata": {},
   "source": [
    "The expression `data[10, 50]` may not surprise you if you've done some programming before,\n",
    "but `data[0, 0]` might. Programming languages like Fortran and MATLAB start counting at 1,\n",
    "because that's what human beings have done for thousands of years. Languages in the C family (including C++, Java, Perl, and Python) count from 0 because that's simpler for computers to do.\n",
    "\n",
    "As a result, if we have an M$\\times$N array in Python, its indices go from 0 to M-1 on the first axis and 0 to N-1 on the second. It takes a bit of getting used to, but one way to remember the rule is that the index is how many steps we have to take from the start to get the item we want."
   ]
  },
  {
   "cell_type": "markdown",
   "metadata": {},
   "source": [
    "<section class=\"panel panel-info\">\n",
    "<div class=\"panel-heading\">\n",
    "<h2><span class=\"fa fa-thumb-tack\"></span>In the corner</h2>\n",
    "</div>\n",
    "</section>\n",
    "\n",
    "> What may also surprise you is that when Python displays an array,\n",
    "> it shows the element with index `[0, 0]` in the upper left corner\n",
    "> rather than the lower left.\n",
    "> This is consistent with the way mathematicians draw matrices,\n",
    "> but different from the Cartesian coordinates.\n",
    "> The indices are (row, column) instead of (column, row) for the same reason,\n",
    "> which can be confusing when plotting data."
   ]
  },
  {
   "cell_type": "markdown",
   "metadata": {},
   "source": [
    "An index like `[10, 50]` selects a single element of an array,\n",
    "but we can select whole sections as well.\n",
    "For example,\n",
    "we can select the first five measurements (columns) of brightness\n",
    "for the first four stars (rows) like this:"
   ]
  },
  {
   "cell_type": "code",
   "execution_count": 17,
   "metadata": {
    "collapsed": false,
    "jupyter": {
     "outputs_hidden": false
    }
   },
   "outputs": [
    {
     "name": "stdout",
     "output_type": "stream",
     "text": [
      "[[ 18.82835767  18.68449456  18.36846526  19.58984702  20.03332339]\n",
      " [ 18.44871905  19.02446975  20.04453884  18.37560557  20.13318031]\n",
      " [ 17.59471749  17.86504252  19.04176145  18.6676958   19.09431148]\n",
      " [ 18.1584409   19.6630396   19.33900909  19.53610008  19.49240261]]\n"
     ]
    }
   ],
   "source": [
    "print( data[0:4, 0:5] )"
   ]
  },
  {
   "cell_type": "markdown",
   "metadata": {},
   "source": [
    "The [slice](reference.html#slice) `0:4` means, \"Start at index 0 and go up to, but not including, index 4.\" Again, the up-to-but-not-including takes a bit of getting used to, but the rule is that the difference between the upper and lower bounds is the number of values in the slice.\n",
    "\n",
    "We don't have to start slices at 0:"
   ]
  },
  {
   "cell_type": "code",
   "execution_count": 18,
   "metadata": {
    "collapsed": false,
    "jupyter": {
     "outputs_hidden": false
    }
   },
   "outputs": [
    {
     "name": "stdout",
     "output_type": "stream",
     "text": [
      "[[ 18.54685036  17.38553589  18.62617314  18.97304937  18.46415131]\n",
      " [ 18.67357342  18.41288864  18.79151865  18.18382694  19.81400528]\n",
      " [ 17.85769513  17.60871584  17.3801041   19.27209263  19.8817563 ]\n",
      " [ 18.93911752  18.38229775  18.65671745  19.50607296  18.65884615]\n",
      " [ 18.01124928  17.54423449  19.16271396  18.79464109  19.12882441]]\n"
     ]
    }
   ],
   "source": [
    "print (data[5:10, 0:5])"
   ]
  },
  {
   "cell_type": "markdown",
   "metadata": {},
   "source": [
    "We also don't have to include the upper and lower bound on the slice. If we don't include the lower bound, Python uses 0 by default;\n",
    "if we don't include the upper, the slice runs to the end of the axis,\n",
    "and if we don't include either (i.e., if we just use ':' on its own),\n",
    "the slice includes everything:"
   ]
  },
  {
   "cell_type": "code",
   "execution_count": 19,
   "metadata": {
    "collapsed": false,
    "jupyter": {
     "outputs_hidden": false
    }
   },
   "outputs": [
    {
     "name": "stdout",
     "output_type": "stream",
     "text": [
      "small is:\n",
      "[[ 22.74609287  21.59114633  22.94081404]\n",
      " [ 23.23142209  21.62410045  23.72676083]\n",
      " [ 21.65369823  22.58501188  22.75590757]]\n"
     ]
    }
   ],
   "source": [
    "small = data[:3, 98:]\n",
    "print ('small is:')\n",
    "print (small)"
   ]
  },
  {
   "cell_type": "markdown",
   "metadata": {},
   "source": [
    "Arrays also know how to perform common mathematical operations on their values. The simplest operations with data are arithmetic: add, subtract, multiply, and divide. When you do such operations on arrays, the operation is done on each individual element of the array.\n",
    "\n",
    "Thus:"
   ]
  },
  {
   "cell_type": "code",
   "execution_count": 20,
   "metadata": {
    "collapsed": true,
    "jupyter": {
     "outputs_hidden": true
    }
   },
   "outputs": [],
   "source": [
    "doubledata = data * 2.0"
   ]
  },
  {
   "cell_type": "markdown",
   "metadata": {},
   "source": [
    "will create a new array `doubledata` whose elements have the value of two times the value of the corresponding elements in `data`:"
   ]
  },
  {
   "cell_type": "code",
   "execution_count": 21,
   "metadata": {
    "collapsed": false,
    "jupyter": {
     "outputs_hidden": false
    }
   },
   "outputs": [
    {
     "name": "stdout",
     "output_type": "stream",
     "text": [
      "original:\n",
      "[[ 22.74609287  21.59114633  22.94081404]\n",
      " [ 23.23142209  21.62410045  23.72676083]\n",
      " [ 21.65369823  22.58501188  22.75590757]]\n",
      "doubledata:\n",
      "[[ 45.49218574  43.18229266  45.88162809]\n",
      " [ 46.46284418  43.2482009   47.45352166]\n",
      " [ 43.30739646  45.17002377  45.51181515]]\n"
     ]
    }
   ],
   "source": [
    "print ('original:')\n",
    "print (data[:3,98:])\n",
    "print ('doubledata:')\n",
    "print (doubledata[:3,98:])"
   ]
  },
  {
   "cell_type": "markdown",
   "metadata": {},
   "source": [
    "If, instead of taking an array and doing arithmetic with a single value (as above) you did the arithmetic operation with another array of the same shape, the operation will be done on corresponding elements of the two arrays.\n",
    "\n",
    "Thus:"
   ]
  },
  {
   "cell_type": "code",
   "execution_count": 22,
   "metadata": {
    "collapsed": true,
    "jupyter": {
     "outputs_hidden": true
    }
   },
   "outputs": [],
   "source": [
    "tripledata = data + doubledata"
   ]
  },
  {
   "cell_type": "markdown",
   "metadata": {},
   "source": [
    "will give you an array where `tripledata[0,0]` will equal `doubledata[0,0]` plus `data[0,0]`, and so on for all other elements of the arrays."
   ]
  },
  {
   "cell_type": "code",
   "execution_count": 23,
   "metadata": {
    "collapsed": false,
    "jupyter": {
     "outputs_hidden": false
    }
   },
   "outputs": [
    {
     "name": "stdout",
     "output_type": "stream",
     "text": [
      "tripledata:\n",
      "[[ 68.2382786   64.77343899  68.82244213]\n",
      " [ 69.69426627  64.87230134  71.18028248]\n",
      " [ 64.96109469  67.75503565  68.26772272]]\n"
     ]
    }
   ],
   "source": [
    "print ('tripledata:')\n",
    "print (tripledata[:3,98:])"
   ]
  },
  {
   "cell_type": "markdown",
   "metadata": {},
   "source": [
    "Often, we want to do more than add, subtract, multiply, and divide values of data.\n",
    "Arrays also know how to do more complex operations on their values.\n",
    "If we want to find the average brightness for all stars at all times,\n",
    "for example, we can just ask the array for its mean value"
   ]
  },
  {
   "cell_type": "code",
   "execution_count": 24,
   "metadata": {
    "collapsed": false,
    "jupyter": {
     "outputs_hidden": false
    }
   },
   "outputs": [
    {
     "name": "stdout",
     "output_type": "stream",
     "text": [
      "22.5002003719\n"
     ]
    }
   ],
   "source": [
    "print (data.mean())"
   ]
  },
  {
   "cell_type": "markdown",
   "metadata": {},
   "source": [
    "`mean` is a [method](reference.html#method) of the array, i.e., a function that belongs to it in the same way that the member `shape` does. If variables are nouns, methods are verbs: they are what the thing in question knows how to do. We need empty parentheses for `data.mean()`,\n",
    "even when we're not passing in any parameters, to tell Python to go and do something for us. `data.shape` doesn't need `()` because it is just a description but `data.mean()` requires the `()` because it is an action. This will become clearer when we cover functions later.\n",
    "\n",
    "Numpy arrays have lots of useful methods:"
   ]
  },
  {
   "cell_type": "code",
   "execution_count": 25,
   "metadata": {
    "collapsed": false,
    "jupyter": {
     "outputs_hidden": false
    }
   },
   "outputs": [
    {
     "name": "stdout",
     "output_type": "stream",
     "text": [
      "maximum brightness: 26.9747210312\n",
      "minimum brightness: 16.4477700722\n",
      "standard deviation: 1.71095670561\n"
     ]
    }
   ],
   "source": [
    "print ('maximum brightness:', data.max())\n",
    "print ('minimum brightness:', data.min())\n",
    "print ('standard deviation:', data.std())"
   ]
  },
  {
   "cell_type": "markdown",
   "metadata": {},
   "source": [
    "When analyzing data, though, we often want to look at partial statistics, such as the maximum brightness per star or the average brightness per day. One way to do this is to create a new temporary array of the data we want, then ask it to do the calculation:"
   ]
  },
  {
   "cell_type": "code",
   "execution_count": 26,
   "metadata": {
    "collapsed": false,
    "jupyter": {
     "outputs_hidden": false
    }
   },
   "outputs": [
    {
     "name": "stdout",
     "output_type": "stream",
     "text": [
      "maximum brightness for star 0: 26.0072998375\n"
     ]
    }
   ],
   "source": [
    "star_0 = data[0,:] # 0 on the first axis (row), everything on the second (column)\n",
    "print ('maximum brightness for star 0:', star_0.max())"
   ]
  },
  {
   "cell_type": "markdown",
   "metadata": {},
   "source": [
    "We don’t actually need to store the row in a variable of its own. Instead, we can combine the selection and the method call:"
   ]
  },
  {
   "cell_type": "code",
   "execution_count": 27,
   "metadata": {
    "collapsed": false,
    "jupyter": {
     "outputs_hidden": false
    }
   },
   "outputs": [
    {
     "name": "stdout",
     "output_type": "stream",
     "text": [
      "mean brightness for star 2: 22.4261580993\n"
     ]
    }
   ],
   "source": [
    "print ('mean brightness for star 2:', data[2,:].mean())"
   ]
  },
  {
   "cell_type": "markdown",
   "metadata": {},
   "source": [
    "What if we need the maximum brightness for all stars (as in the next diagram on the left), or the average at each time (as in the diagram on the right)? As the diagram below shows, we want to perform the operation across an axis: \n",
    "\n",
    "<img src='images/numpy_apply_axis.svg'/>\n",
    "<div style=\"text-align: center;\">Figure: Operations across axes</div>"
   ]
  },
  {
   "cell_type": "markdown",
   "metadata": {},
   "source": [
    "To support this, most array methods allow us to specify the axis we want to work on. If we ask for the average across axis 0 (rows in our 2D example), we get:"
   ]
  },
  {
   "cell_type": "code",
   "execution_count": 28,
   "metadata": {
    "collapsed": false,
    "jupyter": {
     "outputs_hidden": false
    }
   },
   "outputs": [
    {
     "name": "stdout",
     "output_type": "stream",
     "text": [
      "[ 18.09248632  18.35365907  18.85192129  18.71415503  19.37229196\n",
      "  19.52248221  19.67364454  20.29042241  20.4574627   20.31294399\n",
      "  20.57276817  20.81105239  21.22518779  21.33178541  21.27505307\n",
      "  21.18294918  21.55675437  21.40098742  21.51005242  21.79133686\n",
      "  21.71258645  21.95332038  22.1794417   21.76243396  21.90496963\n",
      "  22.30208365  22.00749989  21.8791797   21.86355606  21.85633962\n",
      "  21.89303383  21.44298308  21.86877405  21.85459712  22.06337395\n",
      "  21.57714292  21.49346007  21.31626957  21.40087753  21.2563051\n",
      "  21.21483226  21.50582255  21.25908068  22.17820386  22.26884077\n",
      "  23.01761462  23.31593697  23.78381811  24.08434858  24.18429216\n",
      "  24.04024153  23.82691284  24.10082433  24.13538645  23.97002714\n",
      "  24.02488626  24.34074191  24.338722    24.13667692  24.13243851\n",
      "  24.09342369  24.82766196  24.37718333  24.77509604  24.77981012\n",
      "  24.72882825  24.25050139  24.30764042  24.39156066  24.23850235\n",
      "  24.1826964   24.13769011  24.17456216  23.77952067  23.77599953\n",
      "  23.52540135  23.54859622  23.47995816  23.30139227  23.1124789\n",
      "  23.25623871  22.86721499  22.68945751  22.56457647  22.37963091\n",
      "  22.37735687  22.84335853  22.6586068   22.63715706  22.88578965\n",
      "  22.85114912  23.08154727  23.27159687  23.56745498  23.29833557\n",
      "  23.24320422  23.33254035  22.82910288  23.16761664  22.49790649\n",
      "  22.68461845]\n"
     ]
    }
   ],
   "source": [
    "print (data.mean(axis=0))"
   ]
  },
  {
   "cell_type": "markdown",
   "metadata": {},
   "source": [
    "As a quick check, we can ask this array what its shape is:"
   ]
  },
  {
   "cell_type": "code",
   "execution_count": 29,
   "metadata": {
    "collapsed": false,
    "jupyter": {
     "outputs_hidden": false
    }
   },
   "outputs": [
    {
     "name": "stdout",
     "output_type": "stream",
     "text": [
      "(101,)\n"
     ]
    }
   ],
   "source": [
    "print  ( data.mean(axis=0).shape )"
   ]
  },
  {
   "cell_type": "markdown",
   "metadata": {},
   "source": [
    "The expression `(101,)` tells us we have an N$\\times$1 vector,\n",
    "so this is the average brightness as a function of time for all stars.\n",
    "\n",
    "## Visualising Data\n",
    "\n",
    "The mathematician Richard Hamming once said, \"The purpose of computing is insight, not numbers,\" and the best way to develop insight is often to visualize data. Visualization deserves an entire lecture (or course) of its own, but we can explore a few features of Python's `matplotlib` library here. While there is no \"official\" plotting library, this package is the de facto standard. First, we will import the `pyplot` module from `matplotlib` and use two of its functions to create and display a heat map of our data:"
   ]
  },
  {
   "cell_type": "code",
   "execution_count": 30,
   "metadata": {
    "collapsed": false,
    "jupyter": {
     "outputs_hidden": false
    }
   },
   "outputs": [
    {
     "data": {
      "image/png": "[encoded data removed]",
      "text/plain": [
       "<matplotlib.figure.Figure at 0x10ff326a0>"
      ]
     },
     "metadata": {},
     "output_type": "display_data"
    }
   ],
   "source": [
    "import matplotlib.pyplot \n",
    "%matplotlib inline \n",
    "image  = matplotlib.pyplot.imshow(data) \n",
    "matplotlib.pyplot.xlabel('Time')\n",
    "matplotlib.pyplot.ylabel('Star number')\n",
    "matplotlib.pyplot.show(image)"
   ]
  },
  {
   "cell_type": "markdown",
   "metadata": {},
   "source": [
    "Dark regions in this heat map are low values, while light regions show high values. As we can see, most stars in our data show roughly the same trends with time. "
   ]
  },
  {
   "cell_type": "markdown",
   "metadata": {},
   "source": [
    "<section class=\"panel panel-info\">\n",
    "<div class=\"panel-heading\">\n",
    "<h2><span class=\"fa fa-thumb-tack\"></span>Some IPython 'magic'</h2>\n",
    "</div>\n",
    "</section>\n",
    "\n",
    "> If you’re using an IPython / Jupyter notebook, you’ll need to execute the following command in order for your matplotlib images to appear in the notebook when ```show()``` is called:\n",
    "\n",
    "> ```python\n",
    "> % matplotlib inline\n",
    "> ```\n",
    "\n",
    "> The % indicates an IPython magic function - a function that is only valid within the notebook environment. Note that you only have to execute this function once per notebook.\n",
    "\n",
    "---"
   ]
  },
  {
   "cell_type": "markdown",
   "metadata": {},
   "source": [
    "Let's take a look at the average brightness of a star over time:"
   ]
  },
  {
   "cell_type": "code",
   "execution_count": 31,
   "metadata": {
    "collapsed": false,
    "jupyter": {
     "outputs_hidden": false
    }
   },
   "outputs": [
    {
     "data": {
      "image/png": "[encoded data removed]",
      "text/plain": [
       "<matplotlib.figure.Figure at 0x113a54b70>"
      ]
     },
     "metadata": {},
     "output_type": "display_data"
    }
   ],
   "source": [
    "ave_brightness = data.mean(axis=0)\n",
    "ave_plot = matplotlib.pyplot.plot(ave_brightness)\n",
    "matplotlib.pyplot.xlabel('Time')\n",
    "matplotlib.pyplot.ylabel('Brightness')\n",
    "matplotlib.pyplot.show()"
   ]
  },
  {
   "cell_type": "markdown",
   "metadata": {},
   "source": [
    "Here, we have put the average across all stars in the variable `ave_brightness`, then asked `matplotlib.pyplot` to create and display a line graph of those values.\n",
    "\n",
    "Since most stars follow the same trend, these changes in brightness can't be intrinsic to the stars themselves. They are probably changes due to clouds absorbing some of the light from all of the stars we see in our data.\n",
    "\n",
    "We could see if any of the stars deviate from this common trend by dividing the brightness of each star the average brightness of all stars:"
   ]
  },
  {
   "cell_type": "code",
   "execution_count": 32,
   "metadata": {
    "collapsed": false,
    "jupyter": {
     "outputs_hidden": false
    }
   },
   "outputs": [
    {
     "data": {
      "image/png": "[encoded data removed]",
      "text/plain": [
       "<matplotlib.figure.Figure at 0x113a576a0>"
      ]
     },
     "metadata": {},
     "output_type": "display_data"
    }
   ],
   "source": [
    "processed_data = data / ave_brightness\n",
    "image  = matplotlib.pyplot.imshow(processed_data) \n",
    "matplotlib.pyplot.show(image) "
   ]
  },
  {
   "cell_type": "markdown",
   "metadata": {},
   "source": [
    "It looks like all of our stars just follow this general trend, since there is nothing but random noise left in the processed data. If any of our stars were varying, it should stand out in this plot. \n",
    "\n",
    "Interestingly, it looks like all of our stars show roughly the same amount of noise - a fact that can be confirmed using `numpy` and an extra plot."
   ]
  },
  {
   "cell_type": "code",
   "execution_count": 33,
   "metadata": {
    "collapsed": false,
    "jupyter": {
     "outputs_hidden": false
    }
   },
   "outputs": [
    {
     "name": "stdout",
     "output_type": "stream",
     "text": [
      "Std. deviation of star 0 is  0.0321183778763\n",
      "Std. deviation of star 1 is  0.0320419928419\n",
      "Std. deviation of star 2 is  0.031276317636\n"
     ]
    },
    {
     "data": {
      "image/png": "[encoded data removed]",
      "text/plain": [
       "<matplotlib.figure.Figure at 0x113b3ed30>"
      ]
     },
     "metadata": {},
     "output_type": "display_data"
    }
   ],
   "source": [
    "print(\"Std. deviation of star 0 is \", processed_data[0,:].std())\n",
    "print(\"Std. deviation of star 1 is \", processed_data[1,:].std())\n",
    "print(\"Std. deviation of star 2 is \", processed_data[2,:].std())\n",
    "matplotlib.pyplot.plot(processed_data[0,:])\n",
    "matplotlib.pyplot.plot(processed_data[1,:])\n",
    "matplotlib.pyplot.plot(processed_data[2,:])\n",
    "matplotlib.pyplot.show()"
   ]
  },
  {
   "cell_type": "markdown",
   "metadata": {},
   "source": [
    "<section class=\"challenge panel panel-success\"> \n",
    "<div class=\"panel-heading\">\n",
    "<h2><span class=\"fa fa-pencil\"></span>Check your understanding</h2>\n",
    "</div>\n",
    "</section>\n",
    "\n",
    "> What variables refer to what values after each statement in the following program? Check your answer with the person next to you, then run the program in the cell below and see if you were correct.\n",
    "```python\n",
    "mass = 47.5\n",
    "age  = 122\n",
    "mass = mass*2.0\n",
    "age  = age-20\n",
    "```"
   ]
  },
  {
   "cell_type": "code",
   "execution_count": 34,
   "metadata": {
    "collapsed": true,
    "jupyter": {
     "outputs_hidden": true
    }
   },
   "outputs": [],
   "source": [
    "# INSERT YOUR CODE HERE"
   ]
  },
  {
   "cell_type": "markdown",
   "metadata": {},
   "source": [
    "<section class=\"challenge panel panel-success\"> \n",
    "<div class=\"panel-heading\">\n",
    "<h2><span class=\"fa fa-pencil\"></span>Sorting out references</h2>\n",
    "</div>\n",
    "</section>\n",
    "\n",
    "> What does the following program print out?\n",
    "```python\n",
    "first, second = 'Grace', 'Hopper'\n",
    "third, fourth = second, first\n",
    "print(third, fourth)\n",
    "```\n",
    "Run the code below and see if you were right."
   ]
  },
  {
   "cell_type": "code",
   "execution_count": 35,
   "metadata": {
    "collapsed": true,
    "jupyter": {
     "outputs_hidden": true
    }
   },
   "outputs": [],
   "source": [
    "# INSERT YOUR CODE HERE"
   ]
  },
  {
   "cell_type": "markdown",
   "metadata": {},
   "source": [
    "<section class=\"challenge panel panel-success\"> \n",
    "<div class=\"panel-heading\">\n",
    "<h2><span class=\"fa fa-pencil\"></span>Slicing strings</h2>\n",
    "</div>\n",
    "</section>\n",
    "\n",
    ">A section of an array is called a [slice](reference.html#slice). We can take slices of character strings as well:"
   ]
  },
  {
   "cell_type": "code",
   "execution_count": 36,
   "metadata": {
    "collapsed": false,
    "jupyter": {
     "outputs_hidden": false
    }
   },
   "outputs": [
    {
     "name": "stdout",
     "output_type": "stream",
     "text": [
      "first three characters: oxy\n",
      "last three characters: gen\n"
     ]
    }
   ],
   "source": [
    "element = 'oxygen'\n",
    "print ('first three characters:', element[0:3])\n",
    "print ('last three characters:', element[3:6])"
   ]
  },
  {
   "cell_type": "markdown",
   "metadata": {},
   "source": [
    "> What is the value of `element[:4]`?\n",
    "> What about `element[4:]`?\n",
    "> Or `element[:]`?\n",
    ">\n",
    "> What is `element[-1]`?\n",
    "> What is `element[-2]`?\n",
    "> Given those answers,\n",
    "> explain what `element[1:-1]` does."
   ]
  },
  {
   "cell_type": "markdown",
   "metadata": {},
   "source": [
    "<section class=\"challenge panel panel-success\"> \n",
    "<div class=\"panel-heading\">\n",
    "<h2><span class=\"fa fa-pencil\"></span>Make your own plot</h2>\n",
    "</div>\n",
    "</section>\n",
    "\n",
    ">Create a plot showing the standard deviation (`numpy.std`) of each star against the star number"
   ]
  }
 ],
 "metadata": {
  "kernelspec": {
   "display_name": "Python 3 (ipykernel)",
   "language": "python",
   "name": "python3"
  },
  "language_info": {
   "codemirror_mode": {
    "name": "ipython",
    "version": 3
   },
   "file_extension": ".py",
   "mimetype": "text/x-python",
   "name": "python",
   "nbconvert_exporter": "python",
   "pygments_lexer": "ipython3",
   "version": "3.8.10"
  }
 },
 "nbformat": 4,
 "nbformat_minor": 4
}
