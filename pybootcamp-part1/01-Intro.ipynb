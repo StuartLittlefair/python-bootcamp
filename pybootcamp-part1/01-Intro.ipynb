{
 "cells": [
  {
   "cell_type": "markdown",
   "metadata": {},
   "source": [
    "Python Boot Camp\n",
    "=================================\n",
    "<img src=\"./images/FMJ.jpg\" width=500>"
   ]
  },
  {
   "cell_type": "markdown",
   "metadata": {},
   "source": [
    "<section class=\"objectives panel panel-warning\">\n",
    "<div class=\"panel-heading\">\n",
    "<h2><span class=\"fa fa-certificate\"></span>Learning Objectives</h2>\n",
    "</div>\n",
    "</section>"
   ]
  },
  {
   "cell_type": "markdown",
   "metadata": {},
   "source": [
    "> - introduce you to Python\n",
    "> - explain why you need Python in your life\n",
    "> - help you install Python on your own laptop\n",
    "> - get you *writing* Python- introduce you to Python\n",
    "> - explain why you need Python in your life\n",
    "> - help you install Python on your own laptop\n",
    "> - get you *writing* Python\n",
    "\n",
    "-----------"
   ]
  },
  {
   "cell_type": "markdown",
   "metadata": {},
   "source": [
    "\n",
    "What is Python?\n",
    "==================================\n",
    "\n",
    "Python is a modern computing language that is designed to be simple and easy to use. It is excellent for writing functional code *quickly*, and supports modules (libraries) that make achieving complicated tasks relatively simple. It was created in the early 90's by the Benevolent Dictator For Life (BDFL), Guido van Rossum. \n",
    "\n",
    "### Python - History\n",
    "\n",
    "You need to be aware that there are two versions of the Python language around at the moment. Python 2 was first released in 2000, and the latest version is 2.7. Python 3 is a slightly different language, and the one we will use for this course. It was released in 2008 and is rapidly becoming the standard version. Python 3 is **not** backwards compatible with Python 2.\n",
    "\n",
    "-------------------------------\n",
    "# Why should you learn Python?\n",
    "\n",
    "- Python is free and highly portable (Linux, Mac OSX, Windows, etc.) \n",
    "- Python is easy to understand and learn\n",
    "- Python has *great* documentation\n",
    "- **Python has a large library of useful scientific modules**\n",
    "\n",
    "These points mean that Python can be installed by anyone, anywhere. The simple syntax means Python is easy to learn. Most importantly however, the third party modules that exist for Python allow us to do **very complex tasks** with **very little code**. Let's look at an example - we'll use a third party module to quickly analyse survival statistics from the Titanic. Don't try and understand the code; it's simply intended to show you the power of Python."
   ]
  },
  {
   "cell_type": "code",
   "execution_count": 2,
   "metadata": {
    "collapsed": false
   },
   "outputs": [
    {
     "data": {
      "image/png": "[encoded data removed]",
      "text/plain": [
       "<matplotlib.figure.Figure at 0x11281d908>"
      ]
     },
     "metadata": {},
     "output_type": "display_data"
    }
   ],
   "source": [
    "# This is a comment line\n",
    "# The next lines import external modules so we can use them\n",
    "%matplotlib inline\n",
    "import numpy as np\n",
    "from matplotlib import pyplot as plt\n",
    "import seaborn as sns\n",
    "sns.set_style('darkgrid')\n",
    "\n",
    "# open titanic survival data\n",
    "titanic = sns.load_dataset(\"titanic\")\n",
    "\n",
    "# plot it\n",
    "ax= plt.figure(figsize=(10,6))\n",
    "sns.barplot(x=\"sex\", y=\"survived\", hue=\"class\", data=titanic);"
   ]
  },
  {
   "cell_type": "markdown",
   "metadata": {},
   "source": [
    "Notice how the adage \"women and children first\" does seem to be true; for a given class of ticket, women are much more likely to survive. However, we should note that males in first class had almost as much chance of survival as women in third class... "
   ]
  },
  {
   "cell_type": "markdown",
   "metadata": {},
   "source": [
    "## More reasons to learn Python\n",
    "\n",
    "In 2024, Python overtook Javascript as the most popular language on Github. It's used in the tech industry, financial services, web development and, of course, in science.\n",
    "\n",
    "Take a look at the recent [jobs](https://www.python.org/jobs/) listings for Python developers. In fact, the question should be, why not learn python?\n",
    "\n",
    "<img src=\"http://imgs.xkcd.com/comics/python.png\" width=450>\n",
    "\n",
    "## Why shouldn't I learn Python?\n",
    "\n",
    "Python is what is known as a \"dynamically typed\" language. That means that if I want to store a value in a variable I just type \n",
    "\n",
    "```python\n",
    "x = 3\n",
    "```\n",
    "\n",
    "What you are doing here is storing a value in computer memory. In this case we are storing a value (3) in a box in memory, which is labelled \"x\". \n",
    "\n",
    "Python hides a lot of complicated stuff from us here. For example, we need to know what will be stored in the box to know how much computer memory we should use. Python figures out for me that ```x``` is a variable that should store an integer (3). \n",
    "\n",
    "Python's ability to guess the types of variables on the fly is very powerful. If I try to add two variables together, Python will try and guess what I want to do, and do something sensible. So"
   ]
  },
  {
   "cell_type": "code",
   "execution_count": 4,
   "metadata": {
    "collapsed": false
   },
   "outputs": [
    {
     "name": "stdout",
     "output_type": "stream",
     "text": [
      "7\n"
     ]
    }
   ],
   "source": [
    "x = 3\n",
    "y = 4\n",
    "print (x+y)"
   ]
  },
  {
   "cell_type": "markdown",
   "metadata": {},
   "source": [
    "works exactly as we expect. Many computer languages are not like this! For example, let's look at the same code in C\n",
    "\n",
    "```c\n",
    "int x, y;\n",
    "int total;\n",
    "x = 3;\n",
    "y = 4;\n",
    "total = 3+4;\n",
    "std::cout << total << std::endl;\n",
    "```\n",
    "\n",
    "First of all, you can see that we have to tell C what *type* of object goes into each variable. You can see from these examples just how clean and easy to understand Python's syntax is in comparison to C. But wasn't I supposed to be explaining why **not** to use Python?\n",
    "\n",
    "The point is that Python is *slow*. To calculate ```x+y``` above, the computer needs to convert the code you write into a series of instructions for the computer. Because C knows it is adding two integers, it can just run the instructions to add two integers. When running Python, the computer doesn't know in advance the *type* of the things we are asking it to add. So the computer has to execute the following instructions:\n",
    "\n",
    "- what is the type of x? [integer]\n",
    "- what is the type of y? [integer]\n",
    "- what instruction can add these two types?\n",
    "- run that instruction\n",
    "\n",
    "This extra overhead makes Python slow to run compared to languages like C and Fortran. However, the speed of *writing* the Python often makes up for this, and when it does not, there are workarounds. The most common is to use Python as **glue** to stick together bits of C code. In fact, many of the libraries you can use in Python actually run C behind the scenes to speed things up. \n",
    "\n",
    "This leads us to an important realisation about the best way to use Python. Many people have written efficient third-party libraries, many of which run C behind the scenes. The best Python code uses snippets of Python to glue these libraries together. We'll see this approach a lot in this bootcamp.\n",
    "\n",
    "### Installation\n",
    "\n",
    "Now we have (hopefully) motivated you to learn Python - let's look at how to install it on your own laptop."
   ]
  }
 ],
 "metadata": {
  "kernelspec": {
   "display_name": "Python 3",
   "language": "python",
   "name": "python3"
  },
  "language_info": {
   "codemirror_mode": {
    "name": "ipython",
    "version": 3
   },
   "file_extension": ".py",
   "mimetype": "text/x-python",
   "name": "python",
   "nbconvert_exporter": "python",
   "pygments_lexer": "ipython3",
   "version": "3.5.1"
  }
 },
 "nbformat": 4,
 "nbformat_minor": 0
}
