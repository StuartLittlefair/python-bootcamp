{
 "cells": [
  {
   "cell_type": "markdown",
   "metadata": {},
   "source": [
    "###### The cell below loads the style of this notebook."
   ]
  },
  {
   "cell_type": "code",
   "execution_count": 1,
   "metadata": {
    "collapsed": false
   },
   "outputs": [
    {
     "data": {
      "text/html": [
       "<link href='http://fonts.googleapis.com/css?family=Crimson+Text' rel='stylesheet' type='text/css'>\n",
       "<link href='http://fonts.googleapis.com/css?family=Kameron' rel='stylesheet' type='text/css'>\n",
       "<link href='http://fonts.googleapis.com/css?family=Lato:200,300,400' rel='stylesheet' type='text/css'>\n",
       "<link href='http://fonts.googleapis.com/css?family=Source+Code+Pro' rel='stylesheet' type='text/css'>\n",
       "<style>\n",
       "\n",
       "@font-face {\n",
       "    font-family: \"Computer Modern\";\n",
       "    src: url('http://mirrors.ctan.org/fonts/cm-unicode/fonts/otf/cmunss.otf');\n",
       "}\n",
       "\n",
       "#notebook_panel { /* main background */\n",
       "    background: rgb(245,245,245);\n",
       "}\n",
       "\n",
       "\n",
       "div #notebook { /* centre the content */\n",
       "    background: #fff; /* white background for content */\n",
       "    margin: auto;\n",
       "    padding-left: 0em;\n",
       "}\n",
       "\n",
       "\n",
       "#notebook li { /* More space between bullet points */\n",
       "    margin-top:0.8em;\n",
       "}\n",
       "\n",
       "/* draw border around running cells */\n",
       "div.cell.border-box-sizing.code_cell.running { \n",
       "    border: 1px solid #111;\n",
       "}\n",
       "\n",
       "/* Put a solid color box around each cell and its output, visually linking them*/\n",
       "div.cell.code_cell {\n",
       "    background-color: rgb(256,256,256); \n",
       "    border-radius: 0px; \n",
       "    /* width: 105ex; */\n",
       "    padding: 0.5em;\n",
       "    margin-left:1em;\n",
       "    margin-top: 1em;\n",
       "}\n",
       "\n",
       "div.input_area {\n",
       "    border-color: rgba(0,0,0,0.10);\n",
       "    background: rbga(0,0,0,0.5);\n",
       "}\n",
       "\n",
       "/*\n",
       "div.text_cell {\n",
       "    max-width: 105ex; /* instead of 100%, */\n",
       "}\n",
       "*/\n",
       "\n",
       "div.text_cell_render {\n",
       "    font-family: \"Crimson Text\";\n",
       "    font-size: 12pt;\n",
       "    line-height: 145%; /* added for some line spacing of text. */\n",
       "}\n",
       "\n",
       "div.text_cell_render h1,\n",
       "div.text_cell_render h2,\n",
       "div.text_cell_render h3,\n",
       "div.text_cell_render h4,\n",
       "div.text_cell_render h5,\n",
       "div.text_cell_render h6 {\n",
       "    font-family: 'Kameron';\n",
       "    font-weight: 300;\n",
       "}\n",
       "\n",
       "div.text_cell_render h1 {\n",
       "    font-size: 24pt;\n",
       "}\n",
       "\n",
       "div.text_cell_render h2 {\n",
       "    font-size: 18pt;\n",
       "}\n",
       "\n",
       "div.text_cell_render h3 {\n",
       "    font-size: 14pt;\n",
       "}\n",
       "\n",
       ".rendered_html pre,\n",
       ".rendered_html code {\n",
       "    font-size: medium;\n",
       "    background-color: rgba(246,246,246,1);\n",
       "    padding: 2px;\n",
       "}\n",
       "\n",
       ".rendered_html ol {\n",
       "    list-style:decimal;\n",
       "    margin: 1em 2em;\n",
       "}\n",
       "\n",
       ".CodeMirror pre{\n",
       "        font-family: 'Source Code Pro', Consolas, monocco, monospace;\n",
       "}\n",
       "\n",
       "/* Make space between the fa icon and the rest of the header */\n",
       ".panel-heading h1 span,\n",
       ".panel-heading h2 span,\n",
       ".panel-heading h3 span,\n",
       ".panel-heading h4 span,\n",
       ".panel-heading h5 span,\n",
       ".panel-heading h6 span {\n",
       "    padding-right: 10px;\n",
       "}\n",
       "\n",
       ".fa {\n",
       "    padding: 5px;\n",
       "    }\n",
       "   \n",
       "kbd {\n",
       "    padding:0.1em 0.6em;\n",
       "    border:1px solid #ccc;\n",
       "    font-size:11px;\n",
       "    font-family:Arial,Helvetica,sans-serif;\n",
       "    background-color:#f7f7f7;\n",
       "    color:#333;\n",
       "    -moz-box-shadow:0 1px 0px rgba(0, 0, 0, 0.2),0 0 0 2px #ffffff inset;\n",
       "    -webkit-box-shadow:0 1px 0px rgba(0, 0, 0, 0.2),0 0 0 2px #ffffff inset;\n",
       "    box-shadow:0 1px 0px rgba(0, 0, 0, 0.2),0 0 0 2px #ffffff inset;\n",
       "    -moz-border-radius:3px;\n",
       "    -webkit-border-radius:3px;\n",
       "    border-radius:3px;\n",
       "    display:inline-block;\n",
       "    margin:0 0.1em;\n",
       "    text-shadow:0 1px 0 #fff;\n",
       "    line-height:1.4;\n",
       "    white-space:nowrap;\n",
       "}\n",
       "\n",
       "</style>\n",
       "<script>\n",
       "    MathJax.Hub.Config({\n",
       "                        TeX: {\n",
       "                           extensions: [\"AMSmath.js\"],\n",
       "                           equationNumbers: { autoNumber: \"AMS\", useLabelIds: true}\n",
       "                           },\n",
       "                tex2jax: {\n",
       "                    inlineMath: [ ['$','$'], [\"\\\\(\",\"\\\\)\"] ],\n",
       "                    displayMath: [ ['$$','$$'], [\"\\\\[\",\"\\\\]\"] ]\n",
       "                },\n",
       "                displayAlign: 'center', // Change this to 'center' to center equations.\n",
       "                \"HTML-CSS\": {\n",
       "                    styles: {'.MathJax_Display': {\"margin\": 4}}\n",
       "                }\n",
       "        });\n",
       "</script>"
      ],
      "text/plain": [
       "<IPython.core.display.HTML object>"
      ]
     },
     "execution_count": 1,
     "metadata": {},
     "output_type": "execute_result"
    }
   ],
   "source": [
    "from IPython.core.display import HTML\n",
    "css_file = '../styles.css'\n",
    "HTML(open(css_file, \"r\").read())"
   ]
  },
  {
   "cell_type": "markdown",
   "metadata": {},
   "source": [
    "# Installing and Using Python\n",
    "-------------------------------------------------------------"
   ]
  },
  {
   "cell_type": "markdown",
   "metadata": {},
   "source": [
    "<section class=\"objectives panel panel-warning\">\n",
    "<div class=\"panel-heading\">\n",
    "<h2><span class=\"fa fa-certificate\"></span>Learning Objectives</h2>\n",
    "</div>\n",
    "</section>\n",
    "\n",
    "> - Install Python and a large range of 3rd party modules on your laptop\n",
    "> - Show you how to use Python on the University's Managed Desktop Machines\n",
    "> - Introduce you to the different ways of running Python\n",
    "> - A brief introduction to the Jupyter notebook\n",
    "\n",
    "---"
   ]
  },
  {
   "cell_type": "markdown",
   "metadata": {},
   "source": [
    "# Installing Python on your laptop\n",
    "--------------------------\n",
    "\n",
    "There are many ways and places to obtain Python. I strongly recommend downloading and installing the Anaconda Python distribution. As well as installing the Python language and it's standard library, the Anaconda package also installs most of the modules and libraries needed for scientific computing. \n",
    "\n",
    "Point your web-browser at the [Anaconda download page](http://continuum.io/downloads) and download the correct version for your machine. You almost certainly want the graphical installer for Python 3.X. Then follow the installation instructions for your O/S at http://docs.continuum.io/anaconda/install.html."
   ]
  },
  {
   "cell_type": "markdown",
   "metadata": {},
   "source": [
    "<section class=\"challenge panel panel-success\"> \n",
    "<div class=\"panel-heading\">\n",
    "<h2><span class=\"fa fa-pencil\"></span>Task</h2>\n",
    "</div>\n",
    "</section>\n",
    "\n",
    "> If you have a laptop, try and install Anaconda Python now.\n",
    "\n",
    "---"
   ]
  },
  {
   "cell_type": "markdown",
   "metadata": {},
   "source": [
    "# Python on CiCS Machines\n",
    "-----------------------------------------------------------------\n",
    "\n",
    "There is a version of Anaconda Python on the CiCS machines. This only works on 64-bit Windows so may not be available anywhere, but can be installed using the software centre.\n",
    "\n",
    "Take a look in the windows start menu. Click on \"All Programs\". If there is a menu item called \"Anaconda (64-bit)\", it is already installed. If there is a menu item called \"Anaconda Python\", you have an out-of-date Python2 package. Do not use this!\n",
    "\n",
    "If your Python is out of date, or there is no Python installed on your machine you can install the package called \"Anaconda-Python-3 - Install\" via the software centre"
   ]
  },
  {
   "cell_type": "markdown",
   "metadata": {},
   "source": [
    "<section class=\"challenge panel panel-success\"> \n",
    "<div class=\"panel-heading\">\n",
    "<h2><span class=\"fa fa-pencil\"></span>Task</h2>\n",
    "</div>\n",
    "</section>\n",
    "\n",
    "> If have access to a managed desktop PC, see if your Anaconda Python is up-to-date now. If not, install it via the software centre.\n",
    "\n",
    "---"
   ]
  },
  {
   "cell_type": "markdown",
   "metadata": {},
   "source": [
    "# Sage Math Cloud\n",
    "-----------------------------------------------------------------\n",
    "\n",
    "For the practical sessions associated with PHY241, and the homeworks associated with those sessions, you'll be using a service called [Sage Math Cloud](https://cloud.sagemath.com). \n",
    "\n",
    "You **should** have already received an invitation to Sage Math Cloud and have signed up to this service. In fact, you're most probably looking at these notes on Sage Math Cloud right now!\n",
    "\n",
    "Sage Math Cloud allows you to run the Jupyter notebook, which we'll discuss later. The Jupyter notebook is just one of three ways to use Python. All will be useful to you in your course, so we'll look at them now. "
   ]
  },
  {
   "cell_type": "markdown",
   "metadata": {},
   "source": [
    "# Three ways to run Python\n",
    "-----------------------------------------------------------------\n",
    "\n",
    "### 1. The IPython command-line interpreter\n",
    "### 2. Editing Python (.py) files\n",
    "### 3. The Jupyter notebook\n",
    "\n",
    "---"
   ]
  },
  {
   "cell_type": "markdown",
   "metadata": {
    "collapsed": true
   },
   "source": [
    "## 1. The IPython command-line interpreter\n",
    "\n",
    "The command line interpreter is a program where you can type Python code and see the results immediately. As such, I use the interpreter a **lot**. Normally when I am writing new code I will try out the code in the interpreter as I am going along, and check the results match my expectations. I **strongly** encourage this way of working.\n",
    "\n",
    "The interpreter is launched from the command-line. This is familiar to Linux/Unix users. Perhaps not so much for those used to Mac or Windows machines. To start the command line\n",
    "\n",
    "* Mac OS/X: In Finder/Applications, search for \"Terminal\"\n",
    "* Linux/Unix:  <kbd>Ctrl</kbd>-<kbd>Alt</kbd>-<kbd>t</kbd>\n",
    "* Windows: Start Menu -> Anaconda (64 bit) -> Anaconda Python 3\n",
    "* Sage Math Cloud: Click New on the toolbar, enter a name for the terminal and hit the <kbd>>_ Terminal</kbd> button.\n",
    "\n",
    "<img src=images/terminal-1.png width=450/>\n",
    "\n",
    "Type ```ipython``` at the command-line to start the interpreter\n",
    "\n",
    "<img src=images/terminal-2.png width=450/>\n",
    "\n",
    "Any python commands you type into the interpreter will be executed. For example, type ```print( \"Hello World!\" )```\n",
    "\n",
    "<img src=images/terminal-3.png width=450/>\n",
    "\n",
    "To close the terminal, either type ```exit()``` or <kbd>Ctrl</kbd>-<kbd>d</kbd>.\n"
   ]
  },
  {
   "cell_type": "markdown",
   "metadata": {},
   "source": [
    "<section class=\"challenge panel panel-success\"> \n",
    "<div class=\"panel-heading\">\n",
    "<h2><span class=\"fa fa-pencil\"></span>Exercise</h2>\n",
    "</div>\n",
    "</section>\n",
    "\n",
    "> Start the IPython interpreter, and get Python to print your name to the screen.\n",
    "\n",
    "---"
   ]
  },
  {
   "cell_type": "markdown",
   "metadata": {
    "collapsed": true
   },
   "source": [
    "The interpreter is most useful when you want to do some testing of an idea, or a quick calculation. The IPython interpreter has really nice [features](http://ipython.org/ipython-doc/3/interactive/tutorial.html), like **tab-completion of code**, and exensive **help** features (type help, or enter a question mark after the name of an object). Look at the URL above for more info.\n",
    "\n",
    "However, it's not easy to re-run code you've typed into the interpreter. If you want to write complex programs to execute later, you are better off writing Python (.py) files. \n",
    "\n",
    "\n",
    "## 2. Editing Python (.py) files\n",
    "\n",
    "Editing Python files requires using a text editor. The best ones will highlight your code for you and make it easier to read. I recommend Visual Studio Code from Microsoft, since it works on any computer. Sage Math Cloud has it's own editor built in.\n",
    "\n",
    "Creating a Python file is easy. On your own laptop, open your editor, write in the code you want to execute, and save it with a .py extension. On Sage Math Cloud, click on the \"Files\" icon in the top toolbar, enter a filename in the \"Filename\" box and make sure it has the .py extension, then hit \"Create\".\n",
    "\n",
    "In the example below I've used TextWrangler on OS X to save a file called ```hello_world.py```\n",
    "\n",
    "<img src=images/twrangler.png width=450/>\n",
    "\n",
    "To run the commands in the file, simply start a command-line session (see above) and type, for example, ```python hello_world.py```\n",
    "\n",
    "<img src=images/terminal-4.png width=450/>"
   ]
  },
  {
   "cell_type": "markdown",
   "metadata": {},
   "source": [
    "<section class=\"challenge panel panel-success\"> \n",
    "<div class=\"panel-heading\">\n",
    "<h2><span class=\"fa fa-pencil\"></span>Exercise</h2>\n",
    "</div>\n",
    "</section>\n",
    "\n",
    "> Create a file called \"hello_world.py\" containing the Python statements to print out your name. Save it and execute it using Python on your system \n",
    "\n",
    "---"
   ]
  },
  {
   "cell_type": "markdown",
   "metadata": {},
   "source": [
    "## 3. The Jupyter notebook\n",
    "\n",
    "The Jupyter notebook (formerly known as the IPython notebook) is a really nice way of running Python. It allows you to mix Python code, text comments, image display and nicely formatted equations. These notes were themselves written in the Jupyter notebook.\n",
    "\n",
    "You can start a notebook session from the command line by typing ```jupyter notebook```. Your web browser will open to an interactive notebook page. On CiCS machines, the notebook is launched from the start menu (All Programs -> Anaconda (64-bit) -> IPython (Py 3.4) Notebook).\n",
    "\n",
    "You should see a page a bit like the one below open in your web browser.\n",
    "\n",
    "<img src=\"images/ipython_nb.png\"/>\n",
    "\n",
    "For Sage Math Cloud things work slightly differently; there you can create individual notebooks the same way you create any other file."
   ]
  },
  {
   "cell_type": "markdown",
   "metadata": {},
   "source": [
    "<section class=\"objectives panel panel-warning\">\n",
    "<div class=\"panel-heading\">\n",
    "<h2><span class=\"fa fa-certificate\"></span>Conclusions</h2>\n",
    "</div>\n",
    "</section>\n",
    "\n",
    "> * We've installed Python on our own machines\n",
    "> * We've discussed different ways of running Python\n",
    "> * Coming next - a detailed look at the Jupyter Notebook"
   ]
  }
 ],
 "metadata": {
  "kernelspec": {
   "display_name": "Python 3",
   "language": "python",
   "name": "python3"
  },
  "language_info": {
   "codemirror_mode": {
    "name": "ipython",
    "version": 3
   },
   "file_extension": ".py",
   "mimetype": "text/x-python",
   "name": "python",
   "nbconvert_exporter": "python",
   "pygments_lexer": "ipython3",
   "version": "3.5.1"
  }
 },
 "nbformat": 4,
 "nbformat_minor": 0
}
