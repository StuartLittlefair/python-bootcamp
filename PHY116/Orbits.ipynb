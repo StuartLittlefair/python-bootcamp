{
 "metadata": {
  "name": "",
  "signature": "sha256:d2b818b970584f61198616b850012d7e2aa855526c200cdb7033d08333761859"
 },
 "nbformat": 3,
 "nbformat_minor": 0,
 "worksheets": [
  {
   "cells": [
    {
     "cell_type": "heading",
     "level": 1,
     "metadata": {},
     "source": [
      "Calculating Orbits With Python"
     ]
    },
    {
     "cell_type": "heading",
     "level": 2,
     "metadata": {},
     "source": [
      "Aims"
     ]
    },
    {
     "cell_type": "heading",
     "level": 3,
     "metadata": {},
     "source": [
      "Laboratory Skills"
     ]
    },
    {
     "cell_type": "markdown",
     "metadata": {},
     "source": [
      "This experiment is designed to develop your computing skills. Specifically you will learn:\n",
      "<ul>\n",
      "<li>the basics of the programming language Python;</li>\n",
      "<li>how to use Python to automate difficult calculations;</li>\n",
      "<li>an understanding of the trade-off between precision and computing time in simulations. </li>\n",
      "</ul>"
     ]
    },
    {
     "cell_type": "heading",
     "level": 3,
     "metadata": {},
     "source": [
      "Astronomical knowledge and understanding"
     ]
    },
    {
     "cell_type": "markdown",
     "metadata": {},
     "source": [
      "In addition, this experiment will help you:\n",
      "<ul>\n",
      "<li>to solve Newton\u2019s laws of motion for an orbiting planet;</li>\n",
      "<li>to gain an intuitive grasp of the nature of elliptical orbits.</li>\n",
      "</ul>"
     ]
    },
    {
     "cell_type": "heading",
     "level": 1,
     "metadata": {},
     "source": [
      "Introduction"
     ]
    },
    {
     "cell_type": "markdown",
     "metadata": {},
     "source": [
      "In PHY106 you have looked at the orbits of planets and other bodies in our solar system, whilst in PHY104 you will shortly see how clever manipulation of Newton\u2019s Law of Gravity allows astronomers to measure the masses of celestial objects from tiny dwarf planets to entire clusters of Galaxies. In this lab you\u2019ll directly examine the solutions to Newton\u2019s law of gravity by calculating the orbit of the Earth around the Sun, and investigating the consequences of minor perturbations to the Earth\u2019s orbital speed. Although Newton\u2019s laws can be solved exactly for a two-body system, here we will take a computational approach. Whilst not strictly necessary, a computational approach is easily generalised to a planetary system containing many planets, for which there is no analytical solution. \n",
      "\n",
      "The calculations in this lab are not simple. I\u2019m sure you\u2019ve all experienced \u201cbracket hell\u201d in Excel, where entering a complicated formula for a cell gives you a reference that looks something like this\n",
      "\n",
      "**=ABS(B2*SQRT((0.000005/A2)^2+(0.000003/1.3382282)^2 + (0.00025/2454365.9)^2)).**\n",
      "\n",
      "This formula is opaque, hard to debug if it doesn\u2019t work, and not even that complicated! What do you do if you want to perform more complicated calculations? Or to make plots not available in Excel? \n",
      "\n",
      "In our pre-lab session you\u2019re going to learn about Python, a powerful, but simple computing language. Python makes complex calculations easy, and allows you to do things otherwise impossible within Excel. Python will be used throughout your astronomy degree for small tasks - this lab serves as your introduction. Whilst you won\u2019t be expert in Python by the end of this lab, hopefully you will have a glimpse of how useful it can be. \n",
      "\n",
      "This is a short lab, and we will only cover the basics of Python programming. If you want to learn more, there is an excellent course [online](http://interactivepython.org/courselib/static/thinkcspy/index.html), and more detailed links at the bottom of this page. "
     ]
    },
    {
     "cell_type": "heading",
     "level": 1,
     "metadata": {},
     "source": [
      "Pre-Lab Exercise"
     ]
    },
    {
     "cell_type": "markdown",
     "metadata": {},
     "source": [
      "In the pre-lab we're going to learn some basics of the Python language. In the afternoon session we'll get our hands dirty using Python to compute orbits for planets around stars. Throughout this pre-lab exercise, **enter the code shown into your own Python session, so you can see it run for yourself.**"
     ]
    },
    {
     "cell_type": "heading",
     "level": 5,
     "metadata": {},
     "source": [
      "Is python installed on my managed desktop machine?"
     ]
    },
    {
     "cell_type": "markdown",
     "metadata": {},
     "source": [
      "Look for \"Python EPD\" under \"All Programs\". If it's there, then great. If not, there should be a \"Software Center\" icon on the desktop. Run the software center by double clicking this icon. Search for \"python\" and install Python-2.7, if it is not already installed."
     ]
    },
    {
     "cell_type": "heading",
     "level": 5,
     "metadata": {},
     "source": [
      "How to run Python"
     ]
    },
    {
     "cell_type": "markdown",
     "metadata": {},
     "source": [
      "There are two ways to run Python *shell mode* and *program mode*. In *shell mode* you enter commands into the *Python interpreter* and they are executed straight away. \n",
      "\n",
      "You can start the shell mode by looking for \"Python EPD\" in \"All Programs\" and running \"iPython\". The example below shows shell mode being used to do simple calculation. Have a go at this yourself."
     ]
    },
    {
     "cell_type": "code",
     "collapsed": false,
     "input": [
      "print 2+3"
     ],
     "language": "python",
     "metadata": {},
     "outputs": [
      {
       "output_type": "stream",
       "stream": "stdout",
       "text": [
        "5\n"
       ]
      }
     ],
     "prompt_number": 1
    },
    {
     "cell_type": "markdown",
     "metadata": {},
     "source": [
      "You can also write programs in Python using the *program mode*. Under \"Python EPD\" run \"IDLE\". This starts a Python shell. Click \"File->New Window\" and a blank window appears in which you can write, and save a python program. You can run a python program by double-clicking on the file in windows explorer, or by pressing F5 in IDLE. \n",
      "\n",
      "**Exercise: **Enter the code above and save it into a file called \"test.py\". Run it and see what happens. Note that you can also run your saved program by double-clicking on it from Windows Explorer.\n",
      "\n",
      "Python's *shell mode* is most useful when you want to play around, and see the results of what you are typing immediately. Writing a *python program* and saving it is more useful if you want to be able to run your code later, or have a saved record of what you did. "
     ]
    },
    {
     "cell_type": "heading",
     "level": 3,
     "metadata": {},
     "source": [
      "The power of Python"
     ]
    },
    {
     "cell_type": "markdown",
     "metadata": {},
     "source": [
      "The following is an example of how powerful Python can be. Don\u2019t worry if you don\u2019t understand what\u2019s happening at all - just follow along by running the code you see below in Python's *shell mode*. \n",
      "\n",
      "We will use Python to load and display an image"
     ]
    },
    {
     "cell_type": "code",
     "collapsed": true,
     "input": [
      "#ignore the first line! It makes plots appear in my notes\n",
      "%matplotlib inline  \n",
      "from scipy import misc\n",
      "image = misc.lena()\n",
      "import matplotlib.pyplot as plt\n",
      "plt.imshow(image,origin='upper',cmap='gray')\n",
      "plt.show()"
     ],
     "language": "python",
     "metadata": {},
     "outputs": [
      {
       "metadata": {},
       "output_type": "display_data",
       "png": "[encoded data removed]",
       "text": [
        "<matplotlib.figure.Figure at 0x110fbab10>"
       ]
      }
     ],
     "prompt_number": 2
    },
    {
     "cell_type": "markdown",
     "metadata": {},
     "source": [
      "We can use Python to blur the image..."
     ]
    },
    {
     "cell_type": "code",
     "collapsed": false,
     "input": [
      "from scipy import ndimage\n",
      "blurred_image = ndimage.gaussian_filter(image, sigma=3) \n",
      "plt.imshow(blurred_image,origin='upper',cmap='gray')\n",
      "plt.show()"
     ],
     "language": "python",
     "metadata": {},
     "outputs": [
      {
       "metadata": {},
       "output_type": "display_data",
       "png": "[encoded data removed]",
       "text": [
        "<matplotlib.figure.Figure at 0x10f68d2d0>"
       ]
      }
     ],
     "prompt_number": 3
    },
    {
     "cell_type": "markdown",
     "metadata": {},
     "source": [
      "And we can do lots of other complicated stuff very easily. However, we are getting ahead of ourselves. Let's go back to the basics."
     ]
    },
    {
     "cell_type": "heading",
     "level": 5,
     "metadata": {},
     "source": [
      "Variables"
     ]
    },
    {
     "cell_type": "markdown",
     "metadata": {},
     "source": [
      "The heart of any programming language is the *variable*. You can think of a variable as a labelled box in which you can store things. For example"
     ]
    },
    {
     "cell_type": "code",
     "collapsed": false,
     "input": [
      "x = 5"
     ],
     "language": "python",
     "metadata": {},
     "outputs": [],
     "prompt_number": 4
    },
    {
     "cell_type": "markdown",
     "metadata": {},
     "source": [
      "This statement says to the computer \"put the value of '5' inside the box labelled 'x'\". This is useful because we can use it later in calculations. For example:"
     ]
    },
    {
     "cell_type": "code",
     "collapsed": false,
     "input": [
      "y = 2*x\n",
      "print x\n",
      "print y"
     ],
     "language": "python",
     "metadata": {},
     "outputs": [
      {
       "output_type": "stream",
       "stream": "stdout",
       "text": [
        "5\n",
        "10\n"
       ]
      }
     ],
     "prompt_number": 5
    },
    {
     "cell_type": "markdown",
     "metadata": {},
     "source": [
      "shows how we can use variables in a programming language. Variables can store many different types of object; including integer numbers, decimal numbers, strings of characters and many more! For example, all of the following are OK."
     ]
    },
    {
     "cell_type": "code",
     "collapsed": false,
     "input": [
      "x = 5\n",
      "myName = 'Stuart'\n",
      "pi = 3.141592653589793"
     ],
     "language": "python",
     "metadata": {},
     "outputs": [],
     "prompt_number": 6
    },
    {
     "cell_type": "markdown",
     "metadata": {},
     "source": [
      "Python will keep track of what type of object is stored in each variable."
     ]
    },
    {
     "cell_type": "code",
     "collapsed": false,
     "input": [
      "print type(myName)\n",
      "print type(pi)\n",
      "print type(x)"
     ],
     "language": "python",
     "metadata": {},
     "outputs": [
      {
       "output_type": "stream",
       "stream": "stdout",
       "text": [
        "<type 'str'>\n",
        "<type 'float'>\n",
        "<type 'int'>\n"
       ]
      }
     ],
     "prompt_number": 7
    },
    {
     "cell_type": "markdown",
     "metadata": {},
     "source": [
      "The `type` of a variable is the type of the object it currently refers to.\n",
      "\n",
      "We use variables in a program to \u201cremember\u201d things, like the current score at the football game. But variables are variable. This means they can change over time. You can assign a value to a variable, and later assign a different value to the same variable."
     ]
    },
    {
     "cell_type": "code",
     "collapsed": false,
     "input": [
      "x = 5\n",
      "print x\n",
      "\n",
      "x = 10\n",
      "print x"
     ],
     "language": "python",
     "metadata": {},
     "outputs": [
      {
       "output_type": "stream",
       "stream": "stdout",
       "text": [
        "5\n",
        "10\n"
       ]
      }
     ],
     "prompt_number": 8
    },
    {
     "cell_type": "markdown",
     "metadata": {},
     "source": [
      "The statement `x=5` is not a mathematical equation. It's an instruction to the computer which means \"take the value on the RHS (5), and store it in a variable with the name on the LHS (x)\". The RHS is calculated first, then the result is put in the variable named on the left. Therefore, the following statment makes perfect sense in Python!"
     ]
    },
    {
     "cell_type": "code",
     "collapsed": false,
     "input": [
      "x = x + 3\n",
      "print x"
     ],
     "language": "python",
     "metadata": {},
     "outputs": [
      {
       "output_type": "stream",
       "stream": "stdout",
       "text": [
        "13\n"
       ]
      }
     ],
     "prompt_number": 9
    },
    {
     "cell_type": "heading",
     "level": 5,
     "metadata": {},
     "source": [
      "Operators"
     ]
    },
    {
     "cell_type": "markdown",
     "metadata": {},
     "source": [
      "Operators are how Python does division, multiplication etc. The following are all operators whose meaning is reasonably clear:"
     ]
    },
    {
     "cell_type": "code",
     "collapsed": true,
     "input": [
      "print 20 + 32\n",
      "print 5**2\n",
      "print 100/4\n",
      "print x*2 + 1"
     ],
     "language": "python",
     "metadata": {},
     "outputs": [
      {
       "output_type": "stream",
       "stream": "stdout",
       "text": [
        "52\n",
        "25\n",
        "25\n",
        "27\n"
       ]
      }
     ],
     "prompt_number": 10
    },
    {
     "cell_type": "markdown",
     "metadata": {},
     "source": [
      "Note the lack of brackets in the last example! Learning the order the operators work in can make your code easy to read. Powers (like squaring a number) are done first, then the multiplications, then the additions. Therefore the following two statements give the same result, but one is much easier to read!"
     ]
    },
    {
     "cell_type": "code",
     "collapsed": false,
     "input": [
      "x = 100\n",
      "y = 4\n",
      "print 100 + x * y**2\n",
      "print 100 + (x * (y**2))"
     ],
     "language": "python",
     "metadata": {},
     "outputs": [
      {
       "output_type": "stream",
       "stream": "stdout",
       "text": [
        "1700\n",
        "1700\n"
       ]
      }
     ],
     "prompt_number": 11
    },
    {
     "cell_type": "heading",
     "level": 5,
     "metadata": {},
     "source": [
      "A warning about division and integers"
     ]
    },
    {
     "cell_type": "markdown",
     "metadata": {},
     "source": [
      "Python has one pretty serious design flaw. Look at the code below and the output from it. Does it do what you expect?"
     ]
    },
    {
     "cell_type": "code",
     "collapsed": false,
     "input": [
      "new_value = 3/2\n",
      "print new_value"
     ],
     "language": "python",
     "metadata": {},
     "outputs": [
      {
       "output_type": "stream",
       "stream": "stdout",
       "text": [
        "1\n"
       ]
      }
     ],
     "prompt_number": 12
    },
    {
     "cell_type": "markdown",
     "metadata": {},
     "source": [
      "The problem is that when python divides integer numbers, the result is also an integer number! To get the behaviour we want, we need to make sure at least one number in the division is a decimal number, by including the decimal point"
     ]
    },
    {
     "cell_type": "code",
     "collapsed": false,
     "input": [
      "new_value = 3./2\n",
      "print new_value"
     ],
     "language": "python",
     "metadata": {},
     "outputs": [
      {
       "output_type": "stream",
       "stream": "stdout",
       "text": [
        "1.5\n"
       ]
      }
     ],
     "prompt_number": 13
    },
    {
     "cell_type": "heading",
     "level": 5,
     "metadata": {},
     "source": [
      "Modules"
     ]
    },
    {
     "cell_type": "markdown",
     "metadata": {},
     "source": [
      "Modules provide powerful features in Python, without us having to write the code to do it ourselves! Modules can be used to send email, post tweets, or fit complex models to data. The large number of modules available for scientific computing is what will make Python so useful to you over your degree. You've already seen an example of using modules when we manipulated the \"Lena\" image earlier. Modules are included in your code using the \"import\" statement"
     ]
    },
    {
     "cell_type": "code",
     "collapsed": false,
     "input": [
      "import math\n",
      "math.sqrt(100)"
     ],
     "language": "python",
     "metadata": {},
     "outputs": [
      {
       "metadata": {},
       "output_type": "pyout",
       "prompt_number": 14,
       "text": [
        "10.0"
       ]
      }
     ],
     "prompt_number": 14
    },
    {
     "cell_type": "markdown",
     "metadata": {},
     "source": [
      "The first line loads the `math` module. The dot notation in the second line means \"the sqrt function that is contained within the math module\". This statement uses this function to calculate the square root of 100. The math module contains many such functions, for calculating sines, cosines and converting degrees to radians, for example"
     ]
    },
    {
     "cell_type": "code",
     "collapsed": false,
     "input": [
      "print math.pi\n",
      "print math.log10(100)\n",
      "print math.sin(math.pi/2.0)\n",
      "print math.radians(90.0)"
     ],
     "language": "python",
     "metadata": {},
     "outputs": [
      {
       "output_type": "stream",
       "stream": "stdout",
       "text": [
        "3.14159265359\n",
        "2.0\n",
        "1.0\n",
        "1.57079632679\n"
       ]
      }
     ],
     "prompt_number": 15
    },
    {
     "cell_type": "markdown",
     "metadata": {},
     "source": [
      "You can find a complete list of modules that come with Python as standard [here](https://docs.python.org/2/py-modindex.html). A great rule-of-thumb in Python is, if you're writing code to do something complicated, stop. See if there's a module that does it for you. **The best learning tool for Python is google!**\n",
      "\n",
      "If you are using the iPython interpreter to run Python interactively, you can get help on any module or function by using the \"help\" function, e.g.\n",
      "\n",
      "```python\n",
      "help(math.radians)\n",
      "```"
     ]
    },
    {
     "cell_type": "heading",
     "level": 3,
     "metadata": {},
     "source": [
      "Exercise:"
     ]
    },
    {
     "cell_type": "markdown",
     "metadata": {},
     "source": [
      "*At the URL above, look up the documentation for the math module. Use it to calculate the factorials of 1, 2 and 3*"
     ]
    },
    {
     "cell_type": "heading",
     "level": 5,
     "metadata": {},
     "source": [
      "Lists and Iteration"
     ]
    },
    {
     "cell_type": "markdown",
     "metadata": {},
     "source": [
      "A **list** is a container for lots of values. The simplest way to create a list is to enclose the elements in square brackets. Lists can also be stored in variables."
     ]
    },
    {
     "cell_type": "code",
     "collapsed": false,
     "input": [
      "list_of_my_friends = [\"Mary\",\"Joe\",\"Midge\",\"Neil Armstrong\"]\n",
      "distances_in_au = [1.0,1.5,5.2,9.5]"
     ],
     "language": "python",
     "metadata": {},
     "outputs": [],
     "prompt_number": 16
    },
    {
     "cell_type": "markdown",
     "metadata": {},
     "source": [
      "Another useful way of using lists is to create an empty list, and *append* values to it"
     ]
    },
    {
     "cell_type": "code",
     "collapsed": false,
     "input": [
      "fruits = []\n",
      "fruits.append('apple')\n",
      "fruits.append('pear')\n",
      "fruits.append('kumquat')\n",
      "print fruits"
     ],
     "language": "python",
     "metadata": {},
     "outputs": [
      {
       "output_type": "stream",
       "stream": "stdout",
       "text": [
        "['apple', 'pear', 'kumquat']\n"
       ]
      }
     ],
     "prompt_number": 17
    },
    {
     "cell_type": "markdown",
     "metadata": {},
     "source": [
      "We can access the elements of a list by using the *index*. For example:"
     ]
    },
    {
     "cell_type": "code",
     "collapsed": false,
     "input": [
      "print fruits[0]\n",
      "print fruits[1]\n",
      "print fruits[2]\n",
      "print fruits[-1]"
     ],
     "language": "python",
     "metadata": {},
     "outputs": [
      {
       "output_type": "stream",
       "stream": "stdout",
       "text": [
        "apple\n",
        "pear\n",
        "kumquat\n",
        "kumquat\n"
       ]
      }
     ],
     "prompt_number": 18
    },
    {
     "cell_type": "markdown",
     "metadata": {},
     "source": [
      "Note the special index -1 above - this is a handy  way of accessing the last element in a list.\n",
      "\n",
      "Closely connected with the idea of lists is that of **iteration** - doing the same thing lots of times. We may want to repeat the same code for every item in a list, or keep adding things to a list whilst a condition is met. These things are pretty simple in Python. For example:"
     ]
    },
    {
     "cell_type": "code",
     "collapsed": false,
     "input": [
      "for friend in list_of_my_friends:\n",
      "    print 'Dear ', friend, ' will you come to my birthday?'"
     ],
     "language": "python",
     "metadata": {},
     "outputs": [
      {
       "output_type": "stream",
       "stream": "stdout",
       "text": [
        "Dear  Mary  will you come to my birthday?\n",
        "Dear  Joe  will you come to my birthday?\n",
        "Dear  Midge  will you come to my birthday?\n",
        "Dear  Neil Armstrong  will you come to my birthday?\n"
       ]
      }
     ],
     "prompt_number": 19
    },
    {
     "cell_type": "code",
     "collapsed": false,
     "input": [
      "while len(fruits) < 6:\n",
      "    fruits.append('banana')\n",
      "print fruits"
     ],
     "language": "python",
     "metadata": {},
     "outputs": [
      {
       "output_type": "stream",
       "stream": "stdout",
       "text": [
        "['apple', 'pear', 'kumquat', 'banana', 'banana', 'banana']\n"
       ]
      }
     ],
     "prompt_number": 20
    },
    {
     "cell_type": "markdown",
     "metadata": {},
     "source": [
      "Note that the code inside the loops above are *indented* by four spaces. This is how Python knows what code belongs to the loop, and what belongs to the main code. So in the `while` example, the `fruits.append` line is indented and gets repeated. The `print fruits` line is not indented. It belongs to the main code, and will only happen after the while loop has finished."
     ]
    },
    {
     "cell_type": "heading",
     "level": 5,
     "metadata": {},
     "source": [
      "Functions"
     ]
    },
    {
     "cell_type": "markdown",
     "metadata": {},
     "source": [
      "You've already seen how to **use** functions from the math module. How can you write your own functions? Functions are used to group together lines of code, so they can be re-used again and again. The definition of a function in python looks like this:"
     ]
    },
    {
     "cell_type": "markdown",
     "metadata": {},
     "source": [
      "<code>\n",
      "def name(argument1, argument2):\n",
      "    statements\n",
      "</code>"
     ]
    },
    {
     "cell_type": "markdown",
     "metadata": {},
     "source": [
      "Function names can be anything you like, but a good function name makes it clear what the function *does*. The *arguments* are a list of values that should be provided to the function for it to work. Each argument is separated by commas, and you can have as many as you like. Inside the function is a list of code statements. These define what the function actually *does*. Importantly, the statements in a function have to be embedded by four spaces - this is how Python knows what statements belong to a function, and which to the main code. Let's look at an example:"
     ]
    },
    {
     "cell_type": "code",
     "collapsed": false,
     "input": [
      "def metres2AU(distInMetres):\n",
      "    \"\"\"Converts a given distance in metres to the corresponding value in AU\"\"\"\n",
      "    AU = distInMetres/1.5e11\n",
      "    return AU"
     ],
     "language": "python",
     "metadata": {},
     "outputs": [],
     "prompt_number": 21
    },
    {
     "cell_type": "markdown",
     "metadata": {},
     "source": [
      "This function is called \"metres2AU\". It has one argument - the distance in metres. The statements inside the function calculate the distance in AU and then \"return\" the value to the user of the function. Below is an example of how this might be used"
     ]
    },
    {
     "cell_type": "code",
     "collapsed": false,
     "input": [
      "marsSunDistance = 2.279e11\n",
      "distInAU = metres2AU(marsSunDistance)\n",
      "print distInAU"
     ],
     "language": "python",
     "metadata": {},
     "outputs": [
      {
       "output_type": "stream",
       "stream": "stdout",
       "text": [
        "1.51933333333\n"
       ]
      }
     ],
     "prompt_number": 22
    },
    {
     "cell_type": "markdown",
     "metadata": {},
     "source": [
      "Since this is the most complicated bit of code you'll come across, let's break it down. We put the value 2.279e11 into a variable called `marsSunDistance`. We then call the function `metres2AU` with `marsSunDistance` as an argument. Since this is a variable containing the number 2.279e11, the function gets given the value 2.279e11 to work with.\n",
      "\n",
      "The function metres2AU executes the code we asked it to. When we wrote the function we called it's argument `distInMetres`. So the number 2.279e11 gets put into a variable called `distInMetres` for the function to use. The first statement in the function divides this number by 1.5e11 and *returns* this value to the user. We save this value in a new variable called distInAU, and print it out. \n",
      "\n",
      "If you can understand this example, you've cracked programming! If you can't understand it, then ask a demonstrator for help now - it will pay off later!"
     ]
    },
    {
     "cell_type": "heading",
     "level": 5,
     "metadata": {},
     "source": [
      "Plotting in Python"
     ]
    },
    {
     "cell_type": "markdown",
     "metadata": {},
     "source": [
      "Python is very nice for plotting data. It is much more flexible than Excel and provides nice plots that can be saved in almost any file format. Like most things in Python, plotting is handled via a module. In this case, the `matplotlib` module has a `pyplot` sub-module which is used for all types of plots. Full documentation and help for the matplotlib module is found [here](http://matplotlib.org/api/pyplot_summary.html), and a quick tutorial can be found [here](http://matplotlib.org/users/pyplot_tutorial.html).\n",
      "\n",
      "The code below gives an example of how to plot x-y data with Matplotlib. "
     ]
    },
    {
     "cell_type": "code",
     "collapsed": false,
     "input": [
      "# in python, comment lines start with a hash\n",
      "# these are ignored by the computer, \n",
      "# but make code more readable to humans!\n",
      "\n",
      "# make empty lists for our x-data and y-data\n",
      "x = []\n",
      "y = []\n",
      "\n",
      "# start at x = 0.0\n",
      "xval = 0.0\n",
      "\n",
      "# iterate while x is less than 10\n",
      "while xval < 10.0:\n",
      "    x.append(xval) # store this value of xval in our list of x data\n",
      "    y.append(xval**2) # store x**2 in our list of y-values\n",
      "    \n",
      "    # now increase the value stored in xval by 0.1\n",
      "    xval = xval + 0.1 \n",
      "\n",
      "# the remaining code is not indented, and does not get repeated!\n",
      "# import the matplotlib module, and rename it to save typing\n",
      "import matplotlib.pyplot as plt\n",
      "\n",
      "# plot the x-y data\n",
      "plt.plot(x,y,linewidth=2)\n",
      "\n",
      "# we can customize many aspects, such as using lines vs symbols\n",
      "# and colors. For example, the next command plots red dots instead\n",
      "# of a line\n",
      "plt.plot(x,y,'r.')\n",
      "\n",
      "# add labels\n",
      "plt.xlabel('x')\n",
      "plt.ylabel('y')\n",
      "\n",
      "# display plots with plt.show()\n",
      "plt.show()"
     ],
     "language": "python",
     "metadata": {},
     "outputs": [
      {
       "metadata": {},
       "output_type": "display_data",
       "png": "[encoded data removed]",
       "text": [
        "<matplotlib.figure.Figure at 0x113222f10>"
       ]
      }
     ],
     "prompt_number": 23
    },
    {
     "cell_type": "heading",
     "level": 3,
     "metadata": {},
     "source": [
      "Exercise:"
     ]
    },
    {
     "cell_type": "markdown",
     "metadata": {},
     "source": [
      "Write your own Python code to plot `y=sin(x)` for x values in the range 0 to pi. Save this code as a Python program. You will want to keep a copy for you lab book."
     ]
    },
    {
     "cell_type": "heading",
     "level": 3,
     "metadata": {},
     "source": [
      "Summary"
     ]
    },
    {
     "cell_type": "markdown",
     "metadata": {},
     "source": [
      "You now know just enough Python to be dangerous! In this afternoon's lesson we'll use Python to calculate the Earth's orbit around the Sun."
     ]
    },
    {
     "cell_type": "heading",
     "level": 1,
     "metadata": {},
     "source": [
      "Lab Session"
     ]
    },
    {
     "cell_type": "markdown",
     "metadata": {},
     "source": [
      "The goal of this lab session is to calculate the orbit of the Earth around the Sun, and then to see what happens to the orbit of the Earth if the Earth receives minor perturbations to its velocity."
     ]
    },
    {
     "cell_type": "heading",
     "level": 3,
     "metadata": {},
     "source": [
      "Theory"
     ]
    },
    {
     "cell_type": "markdown",
     "metadata": {},
     "source": [
      "In reality, two bodies orbit around a common centre of mass. For the Earth-Sun system, the centre of mass is well inside the Sun itself. We will start by making the assumption that the Sun is fixed in space. The gravitational acceleration on the Earth is then\n",
      "\n",
      "$$\\begin{equation}\n",
      "a = \\frac{GM_{\\odot}}{r^2} = \\frac{GM_{\\odot}}{x^2+y^2},\n",
      "\\end{equation}$$\n",
      "\n",
      "where $r$ is the distance between the Earth and Sun and $(x,y)$ are the Earth\u2019s cartesian co-ordinates, in a system where the sun is at $(0,0)$.\n",
      "You\u2019ll need to calculate the component of that acceleration in the x- and y-directions. \n",
      "\n",
      "**Exercise: **Using the diagram below, write equations for the amount of acceleration in the x- and y-directions.\n",
      "\n",
      "<img src=\"./Images/earthAccel.png\" width=\"450\">\n",
      "\n",
      "**Exercise: **Using the equations you've derived, write a python function that accepts the x and y position of the Earth as arguments, and returns the x and y acceleration of the Earth. Call your function 'accel', and save your python function in a file named 'orbit.py'"
     ]
    },
    {
     "cell_type": "markdown",
     "metadata": {},
     "source": [
      "*Hint: if you want to return several values from a function in Python, separate them with commas, as in the example below. You can use the same trick to store the results of the function in two variables...*"
     ]
    },
    {
     "cell_type": "code",
     "collapsed": false,
     "input": [
      "def twentyfourclock(time):\n",
      "    return time, time+12\n",
      "\n",
      "am, pm = twentyfourclock(7)\n",
      "print am, pm"
     ],
     "language": "python",
     "metadata": {},
     "outputs": [
      {
       "output_type": "stream",
       "stream": "stdout",
       "text": [
        "7 19\n"
       ]
      }
     ],
     "prompt_number": 24
    },
    {
     "cell_type": "heading",
     "level": 3,
     "metadata": {},
     "source": [
      "Method"
     ]
    },
    {
     "cell_type": "markdown",
     "metadata": {},
     "source": [
      "We now calculate the orbit numerically using the following method. Suppose that at some time, $t_0$, we know the $(x,y)$ position of the Earth $(x_0, y_0)$ and the velocity of the Earth $(V_{x,0}, V_{y,0})$. We want to know the position and velocity of the Earth after a small time, $\\delta t$. If we assume that the Earth moves with **constant acceleration** over this small time, we can write"
     ]
    },
    {
     "cell_type": "markdown",
     "metadata": {},
     "source": [
      "$$x_1 = x_0 + V_{x,0} \\delta t + \\frac{1}{2} a_{x,0} \\delta t^2\\\\\n",
      "V_{x,1} = V_{x,0} + a_{x,0} \\delta t\n",
      "$$"
     ]
    },
    {
     "cell_type": "markdown",
     "metadata": {},
     "source": [
      "where $x_1$ and $V_{x,1}$ are the position and velocity of the Earth after the small timestep, and $a_{x,0}$ is the x-acceleration at $t_0$. Similar equations hold in the y-direction.\n",
      "\n",
      "What should we adopt for our position and velocity at $t_0$? We will start with a circular orbit for the Earth. The size of the Earth\u2019s orbit is 1 AU = $1.5\\times10^{11}$ m. Say we take our starting point as when the Earth is on the x-axis, so its position is (1 AU, 0). We can also work out the speed of the Earth\u2019s orbit (along the y-direction at this position) by balancing the centrifugal force with the attraction of gravity.\n",
      "\n",
      "**Exercise: **The python code below uses your 'accel' function to calculate the orbit of the Earth over one year. **It is broken.** There are a few bugs. Some will cause the code not to run, some are more subtle. Copy the code as it is into your 'orbit.py' file and see if you can fix it. "
     ]
    },
    {
     "cell_type": "markdown",
     "metadata": {},
     "source": [
      "```python\n",
      "import math\n",
      "\n",
      "### INSERT YOUR VERSION OF THE ACCEL FUNCTION HERE ###\n",
      "\n",
      "yearInSecs = 24*60*60*365.256363004\n",
      "AU         = 1.49598e11\n",
      "bigG       = 6.673e-11\n",
      "Msun       = 1.98892e30\n",
      "\n",
      "# CIRCULAR ORBIT\n",
      "# Sun fixed at (0,0)\n",
      "xStart = AU\n",
      "yStart = 0.0\n",
      "\n",
      "# arrays for storing position. Put first values in\n",
      "xPos   = [xStart]\n",
      "yPos   = [yStart]\n",
      "\n",
      "# starting velocity\n",
      "vx = math.sqrt(bigG*Msun/AU)\n",
      "vy = 0.0\n",
      "\n",
      "# set timestep to 1/200th of a year\n",
      "dt = yearInsecs/200\n",
      "\n",
      "# loop over just longer than a year\n",
      "# each time we gor round the loop we \n",
      "# will calculate new positions\n",
      "t = 0.0\n",
      "while t < 1.5*yearInSecs:\n",
      "    t = t+dt\n",
      "    \n",
      "    # get easy access to previous step's X,Y positions\n",
      "    # by storing their values in variables x0, y0\n",
      "    x0 = xPos[-1] \n",
      "    y0 = yPos[-1]\n",
      "    \n",
      "    # calculate the acceleration at the current position\n",
      "    ax0,ay0 = accel(x0,y0)\n",
      "        \n",
      "    # calculate new positions using eqns of motion\n",
      "    x1 = x0 + vx*dt + 0.5*ax0*dt**2\n",
      "    y1 = y0 + vy*dt + 0.5*ax0*dt**2\n",
      "        \n",
      "    # calculate new velocities\n",
      "    # note how we store them back into vx, vy\n",
      "    # next time round the loop we will automatically\n",
      "    # be using updated velocities\n",
      "    vx = vx + ax0*dt\n",
      "    vy = vy + ax0*dt\n",
      "        \n",
      "    # save new x and y values in list for plotting later\n",
      "    xPos.append(x1)\n",
      "    yPos.append(y1)\n",
      "```"
     ]
    },
    {
     "cell_type": "markdown",
     "metadata": {},
     "source": [
      "**Exercise: **Once you've got the code working, you'll have lists full of data, but no way of knowing if it's right! Add more code to your program to plot the x position against the y position using matplotlib.\n",
      "\n",
      "*Hint: you can use*\n",
      "\n",
      "```python\n",
      "    plt.axis('equal')\n",
      "```\n",
      "\n",
      "*to set the x and y axes to be equal in scale*.\n",
      "\n",
      "**Question: **You should have a circular orbit. Do you? If your orbit is not circular can you think why this might be? *Answer this question before proceeding. If you cannot answer the question, ask a demonstrator*.\n",
      "\n",
      "**Exercise: **Change the timestep in your code to acheive a circular orbit."
     ]
    },
    {
     "cell_type": "heading",
     "level": 3,
     "metadata": {},
     "source": [
      "Elliptical Orbits"
     ]
    },
    {
     "cell_type": "markdown",
     "metadata": {},
     "source": [
      "Now we shall investigate what happens when the Earth receives a small change to it's initial speed. \n",
      "\n",
      "**Exercise: **Increase the initial speed of the Earth in the y-direction by 20%. Calculate the new orbit. You may have to increase the duration of the simulation. Plot the orbit on the same graph as your circular orbit from before.\n",
      "\n",
      "**Exercise: **Decrease the initial speed of the Earth in the y-direction by 20%. Calculate the new orbit. Decrease the timestep if necessary to get an accurate orbit . Plot the orbit on the same graph as your circular orbit from before.\n",
      "\n",
      "**Question: **Was your original timestep sufficient to get an accurate orbit, or did you need to decrease your timestep? Why might this orbit need a smaller timestep than the others?"
     ]
    },
    {
     "cell_type": "heading",
     "level": 3,
     "metadata": {},
     "source": [
      "Discussion"
     ]
    },
    {
     "cell_type": "markdown",
     "metadata": {},
     "source": [
      "You have seen that a body moving at a particular speed will make a circular orbit around the Sun, but that changes to the speed of that object send it on elliptical orbits. \n",
      "\n",
      "**Question:** How might the work you\u2019ve done here shed light on the origins of comets: icy bodies whose elliptical orbits bring them close to the Sun."
     ]
    },
    {
     "cell_type": "markdown",
     "metadata": {},
     "source": [
      "#Further Reading\n",
      "\n",
      "We've only scratched the surface of Python here. Python will be used throughout the rest of your course, and will be extremely useful for project work. If you want a really solid foundation in Python and some useful modules, I suggest looking at some of the following links.\n",
      "\n",
      "* http://www.learnpython.org/ \n",
      "* http://interactivepython.org/courselib/static/thinkcspy/index.html \n",
      "* http://www.codecademy.com/tracks/python\n",
      "* [matplotlib tutorial](http://www.loria.fr/~rougier/teaching/matplotlib/) \n",
      "* [numpy tutorial](http://wiki.scipy.org/Tentative_NumPy_Tutorial)\n",
      "* http://www.astropy.org/ (A python module for astronomers)"
     ]
    },
    {
     "cell_type": "markdown",
     "metadata": {},
     "source": [
      "-------------------------------\n",
      "######The cell below loads the style of this notebook. Please ignore it."
     ]
    },
    {
     "cell_type": "code",
     "collapsed": false,
     "input": [
      "from IPython.core.display import HTML\n",
      "css_file = '../styles.css'\n",
      "HTML(open(css_file, \"r\").read())"
     ],
     "language": "python",
     "metadata": {},
     "outputs": [
      {
       "html": [
        "<link href='http://fonts.googleapis.com/css?family=Crimson+Text' rel='stylesheet' type='text/css'>\n",
        "<link href='http://fonts.googleapis.com/css?family=Kameron' rel='stylesheet' type='text/css'>\n",
        "<link href='http://fonts.googleapis.com/css?family=Lato:200,300,400' rel='stylesheet' type='text/css'>\n",
        "<link href='http://fonts.googleapis.com/css?family=Source+Code+Pro' rel='stylesheet' type='text/css'>\n",
        "<style>\n",
        "\n",
        "@font-face {\n",
        "    font-family: \"Computer Modern\";\n",
        "    src: url('http://mirrors.ctan.org/fonts/cm-unicode/fonts/otf/cmunss.otf');\n",
        "}\n",
        "\n",
        "#notebook_panel { /* main background */\n",
        "    background: rgb(245,245,245);\n",
        "}\n",
        "\n",
        "div.cell { /* set cell width */\n",
        "    width: 600px;\n",
        "}\n",
        "\n",
        "div #notebook { /* centre the content */\n",
        "    background: #fff; /* white background for content */\n",
        "    width: 800px;\n",
        "    margin: auto;\n",
        "    padding-left: 0em;\n",
        "}\n",
        "\n",
        "#notebook li { /* More space between bullet points */\n",
        "    margin-top:0.8em;\n",
        "}\n",
        "\n",
        "/* draw border around running cells */\n",
        "div.cell.border-box-sizing.code_cell.running { \n",
        "    border: 1px solid #111;\n",
        "}\n",
        "\n",
        "/* Put a solid color box around each cell and its output, visually linking them*/\n",
        "div.cell.code_cell {\n",
        "    background-color: rgb(256,256,256); \n",
        "    border-radius: 0px; \n",
        "    padding: 0.5em;\n",
        "    margin-left:1em;\n",
        "    margin-top: 1em;\n",
        "}\n",
        "\n",
        "div.text_cell_render{\n",
        "    width:650px;\n",
        "    margin-left:auto;\n",
        "    margin-right:auto;\n",
        "}\n",
        "\n",
        "div.input_area {\n",
        "    border-color: rgba(0,0,0,0.10);\n",
        "    background: rbga(0,0,0,0.5);\n",
        "}\n",
        "\n",
        "/*\n",
        "div.text_cell {\n",
        "    max-width: 105ex; /* instead of 100%, */\n",
        "}\n",
        "*/\n",
        "\n",
        "div.text_cell_render {\n",
        "    font-family: \"Crimson Text\";\n",
        "    font-size: 12pt;\n",
        "    line-height: 145%; /* added for some line spacing of text. */\n",
        "}\n",
        "\n",
        "div.text_cell_render h1,\n",
        "div.text_cell_render h2,\n",
        "div.text_cell_render h3,\n",
        "div.text_cell_render h4,\n",
        "div.text_cell_render h5,\n",
        "div.text_cell_render h6 {\n",
        "    font-family: 'Kameron';\n",
        "    font-weight: 300;\n",
        "}\n",
        "\n",
        "div.text_cell_render h1 {\n",
        "    font-size: 24pt;\n",
        "}\n",
        "\n",
        "div.text_cell_render h2 {\n",
        "    font-size: 18pt;\n",
        "}\n",
        "\n",
        "div.text_cell_render h3 {\n",
        "    font-size: 14pt;\n",
        "}\n",
        "\n",
        ".rendered_html pre,\n",
        ".rendered_html code {\n",
        "    font-size: medium;\n",
        "}\n",
        "\n",
        ".rendered_html ol {\n",
        "    list-style:decimal;\n",
        "    margin: 1em 2em;\n",
        "}\n",
        "\n",
        ".CodeMirror pre{\n",
        "        font-family: 'Source Code Pro', Consolas, monocco, monospace;\n",
        "}\n",
        "\n",
        "</style>\n",
        "<script>\n",
        "    MathJax.Hub.Config({\n",
        "                        TeX: {\n",
        "                           extensions: [\"AMSmath.js\"],\n",
        "                           equationNumbers: { autoNumber: \"AMS\", useLabelIds: true}\n",
        "                           },\n",
        "                tex2jax: {\n",
        "                    inlineMath: [ ['$','$'], [\"\\\\(\",\"\\\\)\"] ],\n",
        "                    displayMath: [ ['$$','$$'], [\"\\\\[\",\"\\\\]\"] ]\n",
        "                },\n",
        "                displayAlign: 'center', // Change this to 'center' to center equations.\n",
        "                \"HTML-CSS\": {\n",
        "                    styles: {'.MathJax_Display': {\"margin\": 4}}\n",
        "                }\n",
        "        });\n",
        "</script>"
       ],
       "metadata": {},
       "output_type": "pyout",
       "prompt_number": 25,
       "text": [
        "<IPython.core.display.HTML at 0x1138163d0>"
       ]
      }
     ],
     "prompt_number": 25
    }
   ],
   "metadata": {}
  }
 ]
}