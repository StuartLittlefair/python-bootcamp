{
 "cells": [
  {
   "cell_type": "markdown",
   "metadata": {},
   "source": [
    "######Run the cell below to load the visual style of this notebook."
   ]
  },
  {
   "cell_type": "code",
   "execution_count": 3,
   "metadata": {
    "collapsed": false
   },
   "outputs": [
    {
     "data": {
      "text/html": [
       "<link href='http://fonts.googleapis.com/css?family=Crimson+Text' rel='stylesheet' type='text/css'>\n",
       "<link href='http://fonts.googleapis.com/css?family=Kameron' rel='stylesheet' type='text/css'>\n",
       "<link href='http://fonts.googleapis.com/css?family=Lato:200,300,400' rel='stylesheet' type='text/css'>\n",
       "<link href='http://fonts.googleapis.com/css?family=Source+Code+Pro' rel='stylesheet' type='text/css'>\n",
       "<style>\n",
       "\n",
       "@font-face {\n",
       "    font-family: \"Computer Modern\";\n",
       "    src: url('http://mirrors.ctan.org/fonts/cm-unicode/fonts/otf/cmunss.otf');\n",
       "}\n",
       "\n",
       "#notebook_panel { /* main background */\n",
       "    background: rgb(245,245,245);\n",
       "}\n",
       "\n",
       "\n",
       "div #notebook { /* centre the content */\n",
       "    background: #fff; /* white background for content */\n",
       "    margin: auto;\n",
       "    padding-left: 0em;\n",
       "}\n",
       "\n",
       "\n",
       "#notebook li { /* More space between bullet points */\n",
       "    margin-top:0.8em;\n",
       "}\n",
       "\n",
       "/* draw border around running cells */\n",
       "div.cell.border-box-sizing.code_cell.running { \n",
       "    border: 1px solid #111;\n",
       "}\n",
       "\n",
       "/* Put a solid color box around each cell and its output, visually linking them*/\n",
       "div.cell.code_cell {\n",
       "    background-color: rgb(256,256,256); \n",
       "    border-radius: 0px; \n",
       "    width: 105ex;\n",
       "    padding: 0.5em;\n",
       "    margin-left:1em;\n",
       "    margin-top: 1em;\n",
       "}\n",
       "\n",
       "div.input_area {\n",
       "    border-color: rgba(0,0,0,0.10);\n",
       "    background: rbga(0,0,0,0.5);\n",
       "}\n",
       "\n",
       "\n",
       "div.text_cell {\n",
       "    max-width: 105ex; /* instead of 100%, */\n",
       "}\n",
       "\n",
       "\n",
       "div.text_cell_render {\n",
       "    font-family: \"Crimson Text\";\n",
       "    font-size: 12pt;\n",
       "    line-height: 145%; /* added for some line spacing of text. */\n",
       "}\n",
       "\n",
       "div.text_cell_render h1,\n",
       "div.text_cell_render h2,\n",
       "div.text_cell_render h3,\n",
       "div.text_cell_render h4,\n",
       "div.text_cell_render h5,\n",
       "div.text_cell_render h6 {\n",
       "    font-family: 'Kameron';\n",
       "    font-weight: 300;\n",
       "}\n",
       "\n",
       "div.text_cell_render h1 {\n",
       "    font-size: 24pt;\n",
       "}\n",
       "\n",
       "div.text_cell_render h2 {\n",
       "    font-size: 18pt;\n",
       "}\n",
       "\n",
       "div.text_cell_render h3 {\n",
       "    font-size: 14pt;\n",
       "}\n",
       "\n",
       ".rendered_html pre,\n",
       ".rendered_html code {\n",
       "    font-size: medium;\n",
       "}\n",
       "\n",
       ".rendered_html ol {\n",
       "    list-style:decimal;\n",
       "    margin: 1em 2em;\n",
       "}\n",
       "\n",
       ".CodeMirror pre{\n",
       "        font-family: 'Source Code Pro', Consolas, monocco, monospace;\n",
       "}\n",
       "\n",
       "/* Make space between the fa icon and the rest of the header */\n",
       ".panel-heading h1 span,\n",
       ".panel-heading h2 span,\n",
       ".panel-heading h3 span,\n",
       ".panel-heading h4 span,\n",
       ".panel-heading h5 span,\n",
       ".panel-heading h6 span {\n",
       "    padding-right: 10px;\n",
       "}\n",
       "\n",
       "</style>\n",
       "<script>\n",
       "    MathJax.Hub.Config({\n",
       "                        TeX: {\n",
       "                           extensions: [\"AMSmath.js\"],\n",
       "                           equationNumbers: { autoNumber: \"AMS\", useLabelIds: true}\n",
       "                           },\n",
       "                tex2jax: {\n",
       "                    inlineMath: [ ['$','$'], [\"\\\\(\",\"\\\\)\"] ],\n",
       "                    displayMath: [ ['$$','$$'], [\"\\\\[\",\"\\\\]\"] ]\n",
       "                },\n",
       "                displayAlign: 'center', // Change this to 'center' to center equations.\n",
       "                \"HTML-CSS\": {\n",
       "                    styles: {'.MathJax_Display': {\"margin\": 4}}\n",
       "                }\n",
       "        });\n",
       "</script>"
      ],
      "text/plain": [
       "<IPython.core.display.HTML object>"
      ]
     },
     "execution_count": 3,
     "metadata": {},
     "output_type": "execute_result"
    }
   ],
   "source": [
    "from IPython.core.display import HTML\n",
    "css_file = '../styles.css'\n",
    "HTML(open(css_file, \"r\").read())"
   ]
  },
  {
   "cell_type": "markdown",
   "metadata": {},
   "source": [
    "# Calculating Orbits With Python"
   ]
  },
  {
   "cell_type": "markdown",
   "metadata": {},
   "source": [
    "<section class=\"objectives panel panel-warning\">\n",
    "<div class=\"panel-heading\">\n",
    "<h2><span class=\"fa fa-certificate\"></span>Learning Objectives</h2>\n",
    "</div>\n",
    "</section>"
   ]
  },
  {
   "cell_type": "markdown",
   "metadata": {},
   "source": [
    "This experiment is designed to develop your computing skills. Specifically you will learn:\n",
    "\n",
    "###Computing Skils\n",
    "- the basics of the programming language Python;\n",
    "- how to use Python to automate difficult calculations;\n",
    "- an understanding of the trade-off between precision and computing time in simulations. \n",
    "\n",
    "###Astronomy knowledge\n",
    "In addition, this experiment will help you:\n",
    "\n",
    "- to solve Newton’s laws of motion for an orbiting planet;\n",
    "- to gain an intuitive grasp of the nature of elliptical orbits.\n",
    "\n",
    "----"
   ]
  },
  {
   "cell_type": "markdown",
   "metadata": {},
   "source": [
    "# Introduction"
   ]
  },
  {
   "cell_type": "markdown",
   "metadata": {},
   "source": [
    "In PHY106 you have looked at the orbits of planets and other bodies in our solar system, whilst in PHY104 you will shortly see how clever manipulation of Newton’s Law of Gravity allows astronomers to measure the masses of celestial objects from tiny dwarf planets to entire clusters of Galaxies. In this lab you’ll directly examine the solutions to Newton’s law of gravity by calculating the orbit of the Earth around the Sun, and investigating the consequences of minor perturbations to the Earth’s orbital speed. Although Newton’s laws can be solved exactly for a two-body system, here we will take a computational approach. Whilst not strictly necessary, a computational approach is easily generalised to a planetary system containing many planets, for which there is no analytical solution. \n",
    "\n",
    "The calculations in this lab are not simple. I’m sure you’ve all experienced “bracket hell” in Excel, where entering a complicated formula for a cell gives you a reference that looks something like this\n",
    "\n",
    "**=ABS(B2*SQRT((0.000005/A2)^2+(0.000003/1.3382282)^2 + (0.00025/2454365.9)^2)).**\n",
    "\n",
    "This formula is opaque, hard to debug if it doesn’t work, and not even that complicated! What do you do if you want to perform more complicated calculations? Or to make plots not available in Excel? \n",
    "\n",
    "In our pre-lab session you’re going to learn about Python, a powerful, but simple computing language. Python makes complex calculations easy, and allows you to do things otherwise impossible within Excel. Python will be used throughout your astronomy degree for small tasks - this lab serves as your introduction. Whilst you won’t be expert in Python by the end of this lab, hopefully you will have a glimpse of how useful it can be. \n",
    "\n",
    "This is a short lab, and we will only cover the basics of Python programming. If you want to learn more, there is an excellent course [online](http://interactivepython.org/courselib/static/thinkcspy/index.html), and more detailed links at the bottom of this page. "
   ]
  },
  {
   "cell_type": "markdown",
   "metadata": {},
   "source": [
    "# Pre-Lab Exercise"
   ]
  },
  {
   "cell_type": "markdown",
   "metadata": {},
   "source": [
    "In the pre-lab we're going to learn some basics of the Python language. In the afternoon session we'll get our hands dirty using Python to compute orbits for planets around stars. Throughout this pre-lab exercise, **enter the code shown into your own Python session, so you can see it run for yourself.**"
   ]
  },
  {
   "cell_type": "markdown",
   "metadata": {},
   "source": [
    "<section class=\"challenge panel panel-success\"> \n",
    "<div class=\"panel-heading\">\n",
    "<h2><span class=\"fa fa-pencil\"></span>Getting Python Running</h2>\n",
    "</div>\n",
    "</section>"
   ]
  },
  {
   "cell_type": "markdown",
   "metadata": {},
   "source": [
    "##### Is python installed on my managed desktop machine?"
   ]
  },
  {
   "cell_type": "markdown",
   "metadata": {},
   "source": [
    "Look for \"Python EPD\" under \"All Programs\". If it's there, then great. If not, there should be a \"Software Center\" icon on the desktop. Run the software center by double clicking this icon. Search for \"python\" and install Python-2.7, if it is not already installed."
   ]
  },
  {
   "cell_type": "markdown",
   "metadata": {},
   "source": [
    "##### How to run Python"
   ]
  },
  {
   "cell_type": "markdown",
   "metadata": {},
   "source": [
    "There are two ways to run Python *shell mode* and *program mode*. In *shell mode* you enter commands into the *Python interpreter* and they are executed straight away. \n",
    "\n",
    "You can start the shell mode by looking for \"Python EPD\" in \"All Programs\" and running \"iPython\". The example below shows shell mode being used to do simple calculation. Have a go at this yourself."
   ]
  },
  {
   "cell_type": "code",
   "execution_count": 1,
   "metadata": {
    "collapsed": false
   },
   "outputs": [
    {
     "name": "stdout",
     "output_type": "stream",
     "text": [
      "5\n"
     ]
    }
   ],
   "source": [
    "print( 2+3 )"
   ]
  },
  {
   "cell_type": "markdown",
   "metadata": {},
   "source": [
    "You can also write programs in Python using the *program mode*. Under \"Python EPD\" run \"IDLE\". This starts a Python shell. Click \"File->New Window\" and a blank window appears in which you can write, and save a python program. You can run a python program by double-clicking on the file in windows explorer, or by pressing F5 in IDLE. \n",
    "\n",
    "**Exercise: **Enter the code above and save it into a file called \"test.py\". Run it and see what happens. Note that you can also run your saved program by double-clicking on it from Windows Explorer.\n",
    "\n",
    "Python's *shell mode* is most useful when you want to play around, and see the results of what you are typing immediately. Writing a *python program* and saving it is more useful if you want to be able to run your code later, or have a saved record of what you did. "
   ]
  },
  {
   "cell_type": "markdown",
   "metadata": {},
   "source": [
    "### The power of Python"
   ]
  },
  {
   "cell_type": "markdown",
   "metadata": {},
   "source": [
    "The following is an example of how powerful Python can be. Don’t worry if you don’t understand what’s happening at all - just follow along by running the code you see below in Python's *shell mode*. \n",
    "\n",
    "We will use Python to load and display an image"
   ]
  },
  {
   "cell_type": "code",
   "execution_count": 2,
   "metadata": {
    "collapsed": false
   },
   "outputs": [
    {
     "data": {
      "image/png": "[encoded data removed]",
      "text/plain": [
       "<matplotlib.figure.Figure at 0x107960e80>"
      ]
     },
     "metadata": {},
     "output_type": "display_data"
    }
   ],
   "source": [
    "#ignore the first line! It makes plots appear in my notes\n",
    "%matplotlib inline  \n",
    "from scipy import misc\n",
    "image = misc.lena()\n",
    "import matplotlib.pyplot as plt\n",
    "plt.imshow(image,origin='upper',cmap='gray')\n",
    "plt.show()"
   ]
  },
  {
   "cell_type": "markdown",
   "metadata": {},
   "source": [
    "We can use Python to blur the image..."
   ]
  },
  {
   "cell_type": "code",
   "execution_count": 3,
   "metadata": {
    "collapsed": false
   },
   "outputs": [
    {
     "data": {
      "image/png": "[encoded data removed]",
      "text/plain": [
       "<matplotlib.figure.Figure at 0x104044da0>"
      ]
     },
     "metadata": {},
     "output_type": "display_data"
    }
   ],
   "source": [
    "from scipy import ndimage\n",
    "blurred_image = ndimage.gaussian_filter(image, sigma=3) \n",
    "plt.imshow(blurred_image,origin='upper',cmap='gray')\n",
    "plt.show()"
   ]
  },
  {
   "cell_type": "markdown",
   "metadata": {},
   "source": [
    "And we can do lots of other complicated stuff very easily. However, we are getting ahead of ourselves. Let's go back to the basics."
   ]
  },
  {
   "cell_type": "markdown",
   "metadata": {},
   "source": [
    "##### Variables"
   ]
  },
  {
   "cell_type": "markdown",
   "metadata": {},
   "source": [
    "The heart of any programming language is the *variable*. You can think of a variable as a labelled box in which you can store things. For example"
   ]
  },
  {
   "cell_type": "code",
   "execution_count": 4,
   "metadata": {
    "collapsed": false
   },
   "outputs": [],
   "source": [
    "x = 5"
   ]
  },
  {
   "cell_type": "markdown",
   "metadata": {},
   "source": [
    "This statement says to the computer \"put the value of '5' inside the box labelled 'x'\". This is useful because we can use it later in calculations. For example:"
   ]
  },
  {
   "cell_type": "code",
   "execution_count": 5,
   "metadata": {
    "collapsed": false
   },
   "outputs": [
    {
     "name": "stdout",
     "output_type": "stream",
     "text": [
      "5\n",
      "10\n"
     ]
    }
   ],
   "source": [
    "y = 2*x\n",
    "print(x)\n",
    "print(y)"
   ]
  },
  {
   "cell_type": "markdown",
   "metadata": {},
   "source": [
    "shows how we can use variables in a programming language. Variables can store many different types of object; including integer numbers, decimal numbers, strings of characters and many more! For example, all of the following are OK."
   ]
  },
  {
   "cell_type": "code",
   "execution_count": 6,
   "metadata": {
    "collapsed": false
   },
   "outputs": [],
   "source": [
    "x = 5\n",
    "myName = 'Stuart'\n",
    "pi = 3.141592653589793"
   ]
  },
  {
   "cell_type": "markdown",
   "metadata": {},
   "source": [
    "Python will keep track of what type of object is stored in each variable."
   ]
  },
  {
   "cell_type": "code",
   "execution_count": 7,
   "metadata": {
    "collapsed": false
   },
   "outputs": [
    {
     "name": "stdout",
     "output_type": "stream",
     "text": [
      "<class 'str'>\n",
      "<class 'float'>\n",
      "<class 'int'>\n"
     ]
    }
   ],
   "source": [
    "print( type(myName) )\n",
    "print( type(pi) )\n",
    "print( type(x) )"
   ]
  },
  {
   "cell_type": "markdown",
   "metadata": {},
   "source": [
    "The `type` of a variable is the type of the object it currently refers to.\n",
    "\n",
    "We use variables in a program to “remember” things, like the current score at the football game. But variables are variable. This means they can change over time. You can assign a value to a variable, and later assign a different value to the same variable."
   ]
  },
  {
   "cell_type": "code",
   "execution_count": 8,
   "metadata": {
    "collapsed": false
   },
   "outputs": [
    {
     "name": "stdout",
     "output_type": "stream",
     "text": [
      "5\n",
      "10\n"
     ]
    }
   ],
   "source": [
    "x = 5\n",
    "print(x)\n",
    "\n",
    "x = 10\n",
    "print(x)"
   ]
  },
  {
   "cell_type": "markdown",
   "metadata": {},
   "source": [
    "The statement `x=5` is not a mathematical equation. It's an instruction to the computer which means \"take the value on the RHS (5), and store it in a variable with the name on the LHS (x)\". The RHS is calculated first, then the result is put in the variable named on the left. Therefore, the following statment makes perfect sense in Python!"
   ]
  },
  {
   "cell_type": "code",
   "execution_count": 9,
   "metadata": {
    "collapsed": false
   },
   "outputs": [
    {
     "name": "stdout",
     "output_type": "stream",
     "text": [
      "13\n"
     ]
    }
   ],
   "source": [
    "x = x + 3\n",
    "print(x)"
   ]
  },
  {
   "cell_type": "markdown",
   "metadata": {},
   "source": [
    "<section class=\"challenge panel panel-success\"> \n",
    "<div class=\"panel-heading\">\n",
    "<h2><span class=\"fa fa-pencil\"></span>Excercise:</h2>\n",
    "</div>\n",
    "</section>"
   ]
  },
  {
   "cell_type": "markdown",
   "metadata": {},
   "source": [
    "In the cell below, create a variable named 'pi' to store the value 3.141. Create a string variable 'myName' to store your name, and another variable 'twopi' to store $2\\pi$."
   ]
  },
  {
   "cell_type": "code",
   "execution_count": null,
   "metadata": {
    "collapsed": true
   },
   "outputs": [],
   "source": [
    "# ENTER YOUR CODE HERE"
   ]
  },
  {
   "cell_type": "markdown",
   "metadata": {},
   "source": [
    "---"
   ]
  },
  {
   "cell_type": "markdown",
   "metadata": {},
   "source": [
    "##### Operators"
   ]
  },
  {
   "cell_type": "markdown",
   "metadata": {},
   "source": [
    "Operators are how Python does division, multiplication etc. The following are all operators whose meaning is reasonably clear:"
   ]
  },
  {
   "cell_type": "code",
   "execution_count": 10,
   "metadata": {
    "collapsed": false
   },
   "outputs": [
    {
     "name": "stdout",
     "output_type": "stream",
     "text": [
      "52\n",
      "25\n",
      "25.0\n",
      "27\n"
     ]
    }
   ],
   "source": [
    "print(20 + 32)\n",
    "print(5**2)\n",
    "print(100/4)\n",
    "print(x*2 + 1)"
   ]
  },
  {
   "cell_type": "markdown",
   "metadata": {},
   "source": [
    "Note the lack of brackets in the last example! Learning the order the operators work in can make your code easy to read. Powers (like squaring a number) are done first, then the multiplications, then the additions. Therefore the following two statements give the same result, but one is much easier to read!"
   ]
  },
  {
   "cell_type": "code",
   "execution_count": 11,
   "metadata": {
    "collapsed": false
   },
   "outputs": [
    {
     "name": "stdout",
     "output_type": "stream",
     "text": [
      "1700\n",
      "1700\n"
     ]
    }
   ],
   "source": [
    "x = 100\n",
    "y = 4\n",
    "print( 100 + x * y**2 )\n",
    "print( 100 + (x * (y**2)) )"
   ]
  },
  {
   "cell_type": "markdown",
   "metadata": {},
   "source": [
    "##### A warning about division and integers"
   ]
  },
  {
   "cell_type": "markdown",
   "metadata": {},
   "source": [
    "Any computing language has it's pain points. One of Python's nasty little secrets is that there are two versions of the language, Python2 and Python3. We will be learning Python 3. However, you should be aware that if you divide two integers in Python 2, the result is also an integer. Therefore if your computer has Python 2 installed, typing\n",
    "```python\n",
    "new_value = 3/2\n",
    "print( new_value )\n",
    "```\n",
    "would print 1!\n",
    "\n",
    "You can get round this by making one of the numbers a decimal number, e.g \n",
    "```python\n",
    "new_value = 3./2\n",
    "print( new_value )\n",
    "```"
   ]
  },
  {
   "cell_type": "markdown",
   "metadata": {},
   "source": [
    "##### Modules"
   ]
  },
  {
   "cell_type": "markdown",
   "metadata": {},
   "source": [
    "Modules provide powerful features in Python, without us having to write the code to do it ourselves! Modules can be used to send email, post tweets, or fit complex models to data. The large number of modules available for scientific computing is what will make Python so useful to you over your degree. You've already seen an example of using modules when we manipulated the \"Lena\" image earlier. Modules are included in your code using the \"import\" statement"
   ]
  },
  {
   "cell_type": "code",
   "execution_count": 12,
   "metadata": {
    "collapsed": false
   },
   "outputs": [
    {
     "data": {
      "text/plain": [
       "10.0"
      ]
     },
     "execution_count": 12,
     "metadata": {},
     "output_type": "execute_result"
    }
   ],
   "source": [
    "import math\n",
    "math.sqrt(100)"
   ]
  },
  {
   "cell_type": "markdown",
   "metadata": {},
   "source": [
    "The first line loads the `math` module. The dot notation in the second line means \"the sqrt function that is contained within the math module\". This statement uses this function to calculate the square root of 100. The math module contains many such functions, for calculating sines, cosines and converting degrees to radians, for example"
   ]
  },
  {
   "cell_type": "code",
   "execution_count": 13,
   "metadata": {
    "collapsed": false
   },
   "outputs": [
    {
     "name": "stdout",
     "output_type": "stream",
     "text": [
      "3.141592653589793\n",
      "2.0\n",
      "1.0\n",
      "1.5707963267948966\n"
     ]
    }
   ],
   "source": [
    "print( math.pi )\n",
    "print( math.log10(100) )\n",
    "print( math.sin(math.pi/2.0) )\n",
    "print( math.radians(90.0) )"
   ]
  },
  {
   "cell_type": "markdown",
   "metadata": {},
   "source": [
    "You can find a complete list of modules that come with Python as standard [here](https://docs.python.org/2/py-modindex.html). A great rule-of-thumb in Python is, if you're writing code to do something complicated, stop. See if there's a module that does it for you. **The best learning tool for Python is google!**\n",
    "\n",
    "If you are using the iPython interpreter to run Python interactively, you can get help on any module or function by using the \"help\" function, e.g."
   ]
  },
  {
   "cell_type": "code",
   "execution_count": 14,
   "metadata": {
    "collapsed": false
   },
   "outputs": [
    {
     "name": "stdout",
     "output_type": "stream",
     "text": [
      "Help on built-in function sin in module math:\n",
      "\n",
      "sin(...)\n",
      "    sin(x)\n",
      "    \n",
      "    Return the sine of x (measured in radians).\n",
      "\n"
     ]
    }
   ],
   "source": [
    "help(math.sin)"
   ]
  },
  {
   "cell_type": "markdown",
   "metadata": {},
   "source": [
    "<section class=\"challenge panel panel-success\"> \n",
    "<div class=\"panel-heading\">\n",
    "<h2><span class=\"fa fa-pencil\"></span>Exercise</h2>\n",
    "</div>\n",
    "</section>"
   ]
  },
  {
   "cell_type": "markdown",
   "metadata": {},
   "source": [
    "At the URL above, look up the documentation for the math module. Use it to calculate the factorials of 1, 2 and 3"
   ]
  },
  {
   "cell_type": "code",
   "execution_count": null,
   "metadata": {
    "collapsed": true
   },
   "outputs": [],
   "source": [
    "# ENTER YOUR CODE HERE"
   ]
  },
  {
   "cell_type": "markdown",
   "metadata": {},
   "source": [
    "##### Lists and Iteration"
   ]
  },
  {
   "cell_type": "markdown",
   "metadata": {},
   "source": [
    "A **list** is a container for lots of values. The simplest way to create a list is to enclose the elements in square brackets. Lists can also be stored in variables."
   ]
  },
  {
   "cell_type": "code",
   "execution_count": 15,
   "metadata": {
    "collapsed": false
   },
   "outputs": [],
   "source": [
    "list_of_my_friends = [\"Mary\",\"Joe\",\"Midge\",\"Neil Armstrong\"]\n",
    "distances_in_au = [1.0,1.5,5.2,9.5]"
   ]
  },
  {
   "cell_type": "markdown",
   "metadata": {},
   "source": [
    "Another useful way of using lists is to create an empty list, and *append* values to it"
   ]
  },
  {
   "cell_type": "code",
   "execution_count": 16,
   "metadata": {
    "collapsed": false
   },
   "outputs": [
    {
     "name": "stdout",
     "output_type": "stream",
     "text": [
      "['apple', 'pear', 'kumquat']\n"
     ]
    }
   ],
   "source": [
    "fruits = []\n",
    "fruits.append('apple')\n",
    "fruits.append('pear')\n",
    "fruits.append('kumquat')\n",
    "print( fruits )"
   ]
  },
  {
   "cell_type": "markdown",
   "metadata": {},
   "source": [
    "We can access the elements of a list by using the *index*. For example:"
   ]
  },
  {
   "cell_type": "code",
   "execution_count": 17,
   "metadata": {
    "collapsed": false
   },
   "outputs": [
    {
     "name": "stdout",
     "output_type": "stream",
     "text": [
      "apple\n",
      "pear\n",
      "kumquat\n",
      "kumquat\n"
     ]
    }
   ],
   "source": [
    "print( fruits[0] )\n",
    "print( fruits[1] )\n",
    "print( fruits[2] )\n",
    "print( fruits[-1] )"
   ]
  },
  {
   "cell_type": "markdown",
   "metadata": {},
   "source": [
    "Note the special index -1 above - this is a handy  way of accessing the last element in a list.\n",
    "\n",
    "Closely connected with the idea of lists is that of **iteration** - doing the same thing lots of times. We may want to repeat the same code for every item in a list, or keep adding things to a list whilst a condition is met. These things are pretty simple in Python. For example:"
   ]
  },
  {
   "cell_type": "code",
   "execution_count": 18,
   "metadata": {
    "collapsed": false
   },
   "outputs": [
    {
     "name": "stdout",
     "output_type": "stream",
     "text": [
      "Dear  Mary  will you come to my birthday?\n",
      "Dear  Joe  will you come to my birthday?\n",
      "Dear  Midge  will you come to my birthday?\n",
      "Dear  Neil Armstrong  will you come to my birthday?\n"
     ]
    }
   ],
   "source": [
    "for friend in list_of_my_friends:\n",
    "    print ('Dear ', friend, ' will you come to my birthday?')"
   ]
  },
  {
   "cell_type": "code",
   "execution_count": 20,
   "metadata": {
    "collapsed": false
   },
   "outputs": [
    {
     "name": "stdout",
     "output_type": "stream",
     "text": [
      "['apple', 'pear', 'kumquat', 'banana', 'banana', 'banana']\n"
     ]
    }
   ],
   "source": [
    "while len(fruits) < 6:\n",
    "    fruits.append('banana')\n",
    "print(fruits)"
   ]
  },
  {
   "cell_type": "markdown",
   "metadata": {},
   "source": [
    "Note that the code inside the loops above are *indented* by four spaces. This is how Python knows what code belongs to the loop, and what belongs to the main code. So in the `while` example, the `fruits.append` line is indented and gets repeated. The `print fruits` line is not indented. It belongs to the main code, and will only happen after the while loop has finished."
   ]
  },
  {
   "cell_type": "markdown",
   "metadata": {},
   "source": [
    "##### Functions"
   ]
  },
  {
   "cell_type": "markdown",
   "metadata": {},
   "source": [
    "You've already seen how to **use** functions from the math module. How can you write your own functions? Functions are used to group together lines of code, so they can be re-used again and again. The definition of a function in python looks like this:"
   ]
  },
  {
   "cell_type": "markdown",
   "metadata": {},
   "source": [
    "<code>\n",
    "def name(argument1, argument2):\n",
    "    statements\n",
    "</code>"
   ]
  },
  {
   "cell_type": "markdown",
   "metadata": {},
   "source": [
    "Function names can be anything you like, but a good function name makes it clear what the function *does*. The *arguments* are a list of values that should be provided to the function for it to work. Each argument is separated by commas, and you can have as many as you like. Inside the function is a list of code statements. These define what the function actually *does*. Importantly, the statements in a function have to be embedded by four spaces - this is how Python knows what statements belong to a function, and which to the main code. Let's look at an example:"
   ]
  },
  {
   "cell_type": "code",
   "execution_count": 21,
   "metadata": {
    "collapsed": false
   },
   "outputs": [],
   "source": [
    "def metres2AU(distInMetres):\n",
    "    \"\"\"Converts a given distance in metres to the corresponding value in AU\"\"\"\n",
    "    AU = distInMetres/1.5e11\n",
    "    return AU"
   ]
  },
  {
   "cell_type": "markdown",
   "metadata": {},
   "source": [
    "This function is called \"metres2AU\". It has one argument - the distance in metres. The statements inside the function calculate the distance in AU and then \"return\" the value to the user of the function. Below is an example of how this might be used"
   ]
  },
  {
   "cell_type": "code",
   "execution_count": 22,
   "metadata": {
    "collapsed": false
   },
   "outputs": [
    {
     "name": "stdout",
     "output_type": "stream",
     "text": [
      "1.5193333333333334\n"
     ]
    }
   ],
   "source": [
    "marsSunDistance = 2.279e11\n",
    "distInAU = metres2AU(marsSunDistance)\n",
    "print(distInAU)"
   ]
  },
  {
   "cell_type": "markdown",
   "metadata": {},
   "source": [
    "Since this is the most complicated bit of code you'll come across, let's break it down. We put the value 2.279e11 into a variable called `marsSunDistance`. We then call the function `metres2AU` with `marsSunDistance` as an argument. Since this is a variable containing the number 2.279e11, the function gets given the value 2.279e11 to work with.\n",
    "\n",
    "The function metres2AU executes the code we asked it to. When we wrote the function we called it's argument `distInMetres`. So the number 2.279e11 gets put into a variable called `distInMetres` for the function to use. The first statement in the function divides this number by 1.5e11 and *returns* this value to the user. We save this value in a new variable called distInAU, and print it out. \n",
    "\n",
    "If you can understand this example, you've cracked programming! If you can't understand it, then ask a demonstrator for help now - it will pay off later!"
   ]
  },
  {
   "cell_type": "markdown",
   "metadata": {},
   "source": [
    "##### Plotting in Python"
   ]
  },
  {
   "cell_type": "markdown",
   "metadata": {},
   "source": [
    "Python is very nice for plotting data. It is much more flexible than Excel and provides nice plots that can be saved in almost any file format. Like most things in Python, plotting is handled via a module. In this case, the `matplotlib` module has a `pyplot` sub-module which is used for all types of plots. Full documentation and help for the matplotlib module is found [here](http://matplotlib.org/api/pyplot_summary.html), and a quick tutorial can be found [here](http://matplotlib.org/users/pyplot_tutorial.html).\n",
    "\n",
    "The code below gives an example of how to plot x-y data with Matplotlib. "
   ]
  },
  {
   "cell_type": "code",
   "execution_count": 23,
   "metadata": {
    "collapsed": false
   },
   "outputs": [
    {
     "data": {
      "image/png": "[encoded data removed]",
      "text/plain": [
       "<matplotlib.figure.Figure at 0x111848e10>"
      ]
     },
     "metadata": {},
     "output_type": "display_data"
    }
   ],
   "source": [
    "# in python, comment lines start with a hash\n",
    "# these are ignored by the computer, \n",
    "# but make code more readable to humans!\n",
    "\n",
    "# make empty lists for our x-data and y-data\n",
    "x = []\n",
    "y = []\n",
    "\n",
    "# start at x = 0.0\n",
    "xval = 0.0\n",
    "\n",
    "# iterate while x is less than 10\n",
    "while xval < 10.0:\n",
    "    x.append(xval) # store this value of xval in our list of x data\n",
    "    y.append(xval**2) # store x**2 in our list of y-values\n",
    "    \n",
    "    # now increase the value stored in xval by 0.1\n",
    "    xval = xval + 0.1 \n",
    "\n",
    "# the remaining code is not indented, and does not get repeated!\n",
    "# import the matplotlib module, and rename it to save typing\n",
    "import matplotlib.pyplot as plt\n",
    "\n",
    "# plot the x-y data\n",
    "plt.plot(x,y,linewidth=2)\n",
    "\n",
    "# we can customize many aspects, such as using lines vs symbols\n",
    "# and colors. For example, the next command plots red dots instead\n",
    "# of a line\n",
    "plt.plot(x,y,'r.')\n",
    "\n",
    "# add labels\n",
    "plt.xlabel('x')\n",
    "plt.ylabel('y')\n",
    "\n",
    "# display plots with plt.show()\n",
    "plt.show()"
   ]
  },
  {
   "cell_type": "markdown",
   "metadata": {},
   "source": [
    "<section class=\"challenge panel panel-success\"> \n",
    "<div class=\"panel-heading\">\n",
    "<h2><span class=\"fa fa-pencil\"></span>Exercise:</h2>\n",
    "</div>\n",
    "</section>"
   ]
  },
  {
   "cell_type": "markdown",
   "metadata": {},
   "source": [
    "Write your own Python code to plot `y=sin(x)` for x values in the range 0 to $\\pi$. "
   ]
  },
  {
   "cell_type": "code",
   "execution_count": 23,
   "metadata": {
    "collapsed": true
   },
   "outputs": [],
   "source": [
    "#ENTER CODE HERE TO PLOT y = sin(x)"
   ]
  },
  {
   "cell_type": "markdown",
   "metadata": {},
   "source": [
    "---"
   ]
  },
  {
   "cell_type": "markdown",
   "metadata": {},
   "source": [
    "### Summary"
   ]
  },
  {
   "cell_type": "markdown",
   "metadata": {},
   "source": [
    "You now know just enough Python to be dangerous! In this afternoon's lesson we'll use Python to calculate the Earth's orbit around the Sun."
   ]
  },
  {
   "cell_type": "markdown",
   "metadata": {},
   "source": [
    "# Lab Session"
   ]
  },
  {
   "cell_type": "markdown",
   "metadata": {},
   "source": [
    "The goal of this lab session is to calculate the orbit of the Earth around the Sun, and then to see what happens to the orbit of the Earth if the Earth receives minor perturbations to its velocity."
   ]
  },
  {
   "cell_type": "markdown",
   "metadata": {},
   "source": [
    "### Theory"
   ]
  },
  {
   "cell_type": "markdown",
   "metadata": {},
   "source": [
    "In reality, two bodies orbit around a common centre of mass. For the Earth-Sun system, the centre of mass is well inside the Sun itself. We will start by making the assumption that the Sun is fixed in space. The gravitational acceleration on the Earth is then\n",
    "\n",
    "$$\\begin{equation}\n",
    "a = \\frac{GM_{\\odot}}{r^2} = \\frac{GM_{\\odot}}{x^2+y^2},\n",
    "\\end{equation}$$\n",
    "\n",
    "where $r$ is the distance between the Earth and Sun and $(x,y)$ are the Earth’s cartesian co-ordinates, in a system where the sun is at $(0,0)$.\n",
    "You’ll need to calculate the component of that acceleration in the x- and y-directions. "
   ]
  },
  {
   "cell_type": "markdown",
   "metadata": {},
   "source": [
    "<section class=\"challenge panel panel-success\"> \n",
    "<div class=\"panel-heading\">\n",
    "<h2><span class=\"fa fa-pencil\"></span>Exercise</h2>\n",
    "</div>\n",
    "</section>"
   ]
  },
  {
   "cell_type": "markdown",
   "metadata": {},
   "source": [
    "Using the diagram below, write equations for the components of acceleration in the x- and y-directions.\n",
    "\n",
    "<img src=\"./Images/earthAccel.png\" width=\"450\">"
   ]
  },
  {
   "cell_type": "markdown",
   "metadata": {},
   "source": [
    "<section class=\"challenge panel panel-success\"> \n",
    "<div class=\"panel-heading\">\n",
    "<h2><span class=\"fa fa-pencil\"></span>Exercise</h2>\n",
    "</div>\n",
    "</section>"
   ]
  },
  {
   "cell_type": "markdown",
   "metadata": {},
   "source": [
    "Using the equations you've derived, write a *single* python function that accepts the x and y position of the Earth as arguments, and returns the x and y acceleration of the Earth.'"
   ]
  },
  {
   "cell_type": "code",
   "execution_count": null,
   "metadata": {
    "collapsed": true
   },
   "outputs": [],
   "source": [
    "# WRITE YOUR ACCEL FUNCTION HERE"
   ]
  },
  {
   "cell_type": "markdown",
   "metadata": {},
   "source": [
    "---"
   ]
  },
  {
   "cell_type": "markdown",
   "metadata": {},
   "source": [
    "<aside class=\"callout panel panel-info\">\n",
    "<div class=\"panel-heading\">\n",
    "<h2><span class=\"fa fa-thumb-tack\"></span>Hint</h2>\n",
    "</div>\n",
    "</aside>"
   ]
  },
  {
   "cell_type": "markdown",
   "metadata": {},
   "source": [
    "If you want to return several values from a function in Python, separate them with commas, as in the example below. You can use the same trick to store the results of the function in two variables..."
   ]
  },
  {
   "cell_type": "code",
   "execution_count": 25,
   "metadata": {
    "collapsed": false
   },
   "outputs": [
    {
     "name": "stdout",
     "output_type": "stream",
     "text": [
      "7 19\n"
     ]
    }
   ],
   "source": [
    "def twentyfourclock(time):\n",
    "    return time, time+12\n",
    "\n",
    "am, pm = twentyfourclock(7)\n",
    "print(am, pm)"
   ]
  },
  {
   "cell_type": "markdown",
   "metadata": {},
   "source": [
    "---"
   ]
  },
  {
   "cell_type": "markdown",
   "metadata": {},
   "source": [
    "### Method"
   ]
  },
  {
   "cell_type": "markdown",
   "metadata": {},
   "source": [
    "We now calculate the orbit numerically using the following method. Suppose that at some time, $t_0$, we know the $(x,y)$ position of the Earth $(x_0, y_0)$ and the velocity of the Earth $(V_{x,0}, V_{y,0})$. We want to know the position and velocity of the Earth after a small time, $\\delta t$. If we assume that the Earth moves with **constant acceleration** over this small time, we can write"
   ]
  },
  {
   "cell_type": "markdown",
   "metadata": {},
   "source": [
    "$$x_1 = x_0 + V_{x,0} \\delta t + \\frac{1}{2} a_{x,0} \\delta t^2\\\\\n",
    "V_{x,1} = V_{x,0} + a_{x,0} \\delta t\n",
    "$$"
   ]
  },
  {
   "cell_type": "markdown",
   "metadata": {},
   "source": [
    "where $x_1$ and $V_{x,1}$ are the position and velocity of the Earth after the small timestep, and $a_{x,0}$ is the x-acceleration at $t_0$. Similar equations hold in the y-direction.\n",
    "\n",
    "What should we adopt for our position and velocity at $t_0$? We will start with a circular orbit for the Earth. The size of the Earth’s orbit is 1 AU = $1.5\\times10^{11}$ m. Say we take our starting point as when the Earth is on the x-axis, so its position is (1 AU, 0). We can also work out the speed of the Earth’s orbit (along the y-direction at this position) by balancing the centrifugal force with the attraction of gravity.\n"
   ]
  },
  {
   "cell_type": "markdown",
   "metadata": {},
   "source": [
    "<section class=\"challenge panel panel-success\"> \n",
    "<div class=\"panel-heading\">\n",
    "<h2><span class=\"fa fa-pencil\"></span>Exercise</h2>\n",
    "</div>\n",
    "</section>"
   ]
  },
  {
   "cell_type": "markdown",
   "metadata": {},
   "source": [
    "The python code below uses your 'accel' function to calculate the orbit of the Earth over one year. **It is broken.** There are a few bugs. Some will cause the code not to run, some are more subtle. See if you can fix it.\n",
    "\n",
    "---"
   ]
  },
  {
   "cell_type": "code",
   "execution_count": null,
   "metadata": {
    "collapsed": true
   },
   "outputs": [],
   "source": [
    "import math\n",
    "\n",
    "yearInSecs = 24*60*60*365.256363004\n",
    "AU         = 1.49598e11\n",
    "bigG       = 6.673e-11\n",
    "Msun       = 1.98892e30\n",
    "\n",
    "# CIRCULAR ORBIT\n",
    "# Sun fixed at (0,0)\n",
    "xStart = AU\n",
    "yStart = 0.0\n",
    "\n",
    "# arrays for storing position. Put first values in\n",
    "xPos   = [xStart]\n",
    "yPos   = [yStart]\n",
    "\n",
    "# starting velocity\n",
    "vx = math.sqrt(bigG*Msun/AU)\n",
    "vy = 0.0\n",
    "\n",
    "# set timestep to 1/200th of a year\n",
    "dt = yearInsecs/200\n",
    "\n",
    "# loop over just longer than a year\n",
    "# each time we gor round the loop we \n",
    "# will calculate new positions\n",
    "t = 0.0\n",
    "while t < 1.5*yearInSecs:\n",
    "    t = t+dt\n",
    "    \n",
    "    # get easy access to previous step's X,Y positions\n",
    "    # by storing their values in variables x0, y0\n",
    "    x0 = xPos[-1] \n",
    "    y0 = yPos[-1]\n",
    "    \n",
    "    # calculate the acceleration at the current position\n",
    "    ax0,ay0 = accel(x0,y0)\n",
    "        \n",
    "    # calculate new positions using eqns of motion\n",
    "    x1 = x0 + vx*dt + 0.5*ax0*dt**2\n",
    "    y1 = y0 + vy*dt + 0.5*ax0*dt**2\n",
    "        \n",
    "    # calculate new velocities\n",
    "    # note how we store them back into vx, vy\n",
    "    # next time round the loop we will automatically\n",
    "    # be using updated velocities\n",
    "    vx = vx + ax0*dt\n",
    "    vy = vy + ax0*dt\n",
    "        \n",
    "    # save new x and y values in list for plotting later\n",
    "    xPos.append(x1)\n",
    "    yPos.append(y1)"
   ]
  },
  {
   "cell_type": "markdown",
   "metadata": {},
   "source": [
    "<section class=\"challenge panel panel-success\"> \n",
    "<div class=\"panel-heading\">\n",
    "<h2><span class=\"fa fa-pencil\"></span>Exercise</h2>\n",
    "</div>\n",
    "</section>"
   ]
  },
  {
   "cell_type": "markdown",
   "metadata": {},
   "source": [
    "Once you've got the code working, you'll have lists full of data, but no way of knowing if it's right! Add more code to your program to plot the x position against the y position using matplotlib.\n",
    "\n",
    "*Hint: you can use*\n",
    "\n",
    "```python\n",
    "    plt.axis('equal')\n",
    "```\n",
    "\n",
    "*to set the x and y axes to be equal in scale*.\n",
    "\n",
    "---"
   ]
  },
  {
   "cell_type": "markdown",
   "metadata": {},
   "source": [
    "<section class=\"challenge panel panel-success\"> \n",
    "<div class=\"panel-heading\">\n",
    "<h2><span class=\"fa fa-question\"></span>Question</h2>\n",
    "</div>\n",
    "</section>"
   ]
  },
  {
   "cell_type": "markdown",
   "metadata": {},
   "source": [
    "You should have a circular orbit. Do you? If your orbit is not circular can you think why this might be? *Answer this question before proceeding. If you cannot answer the question, ask a demonstrator*.\n",
    "\n",
    "---"
   ]
  },
  {
   "cell_type": "markdown",
   "metadata": {},
   "source": [
    "*Write your answer here*"
   ]
  },
  {
   "cell_type": "markdown",
   "metadata": {},
   "source": [
    "<section class=\"challenge panel panel-success\"> \n",
    "<div class=\"panel-heading\">\n",
    "<h2><span class=\"fa fa-pencil\"></span>Exercise</h2>\n",
    "</div>\n",
    "</section>"
   ]
  },
  {
   "cell_type": "markdown",
   "metadata": {},
   "source": [
    "Change the timestep in your code to acheive a circular orbit.\n",
    "\n",
    "---"
   ]
  },
  {
   "cell_type": "markdown",
   "metadata": {},
   "source": [
    "<section class=\"objectives panel panel-warning\">\n",
    "<div class=\"panel-heading\">\n",
    "<h2><span class=\"fa fa-certificate\"></span>Extra Credit: Elliptical Orbits</h2>\n",
    "</div>\n",
    "</section>"
   ]
  },
  {
   "cell_type": "markdown",
   "metadata": {},
   "source": [
    "Now we shall investigate what happens when the Earth receives a small change to it's initial speed. To do this, we will have to re-use the code that calculates the Earth's position several times. If we are re-using code, it is very good practise to use *functions*. Otherwise we will copy-and-paste a lot of code. This makes our programs too long, and a mistake somewhere will have to be corrected many times."
   ]
  },
  {
   "cell_type": "markdown",
   "metadata": {},
   "source": [
    "<section class=\"challenge panel panel-success\"> \n",
    "<div class=\"panel-heading\">\n",
    "<h2><span class=\"fa fa-pencil\"></span>Exercise</h2>\n",
    "</div>\n",
    "</section>"
   ]
  },
  {
   "cell_type": "markdown",
   "metadata": {},
   "source": [
    "Edit the code above, so that you make a *function* that accepts the Earth's initial speed in the y-direction as one argument, and has two more arguments for the duration of the simulation, and the number of timesteps.\n",
    "\n",
    "Your function should return two lists; the x and y positions of the Earth over the simulation.\n",
    "\n",
    "Change your code to re-create a plot of the Earth's orbit, using this function.\n",
    "\n",
    "---"
   ]
  },
  {
   "cell_type": "markdown",
   "metadata": {},
   "source": [
    "<section class=\"challenge panel panel-success\"> \n",
    "<div class=\"panel-heading\">\n",
    "<h2><span class=\"fa fa-pencil\"></span>Exercise</h2>\n",
    "</div>\n",
    "</section>"
   ]
  },
  {
   "cell_type": "markdown",
   "metadata": {},
   "source": [
    "\n",
    "Increase the initial speed of the Earth in the y-direction by 20%. Calculate the new orbit. You may have to increase the duration of the simulation. Plot the orbit on the same graph as your circular orbit from before.\n",
    "\n",
    "---"
   ]
  },
  {
   "cell_type": "markdown",
   "metadata": {},
   "source": [
    "<section class=\"challenge panel panel-success\"> \n",
    "<div class=\"panel-heading\">\n",
    "<h2><span class=\"fa fa-pencil\"></span>Exercise</h2>\n",
    "</div>\n",
    "</section>"
   ]
  },
  {
   "cell_type": "markdown",
   "metadata": {},
   "source": [
    "Decrease the initial speed of the Earth in the y-direction by 20%. Calculate the new orbit. Decrease the timestep if necessary to get an accurate orbit . Plot the orbit on the same graph as your circular orbit from before.\n",
    "\n",
    "---"
   ]
  },
  {
   "cell_type": "markdown",
   "metadata": {},
   "source": [
    "<section class=\"challenge panel panel-success\"> \n",
    "<div class=\"panel-heading\">\n",
    "<h2><span class=\"fa fa-question\"></span>Question</h2>\n",
    "</div>\n",
    "</section>"
   ]
  },
  {
   "cell_type": "markdown",
   "metadata": {},
   "source": [
    "Was your original timestep sufficient to get an accurate orbit, or did you need to decrease your timestep? Why might this orbit need a smaller timestep than the others?\n",
    "\n",
    "---"
   ]
  },
  {
   "cell_type": "markdown",
   "metadata": {},
   "source": [
    "*Write your answer here*"
   ]
  },
  {
   "cell_type": "markdown",
   "metadata": {},
   "source": [
    "## Discussion"
   ]
  },
  {
   "cell_type": "markdown",
   "metadata": {},
   "source": [
    "<section class=\"challenge panel panel-success\"> \n",
    "<div class=\"panel-heading\">\n",
    "<h2><span class=\"fa fa-question\"></span>Question</h2>\n",
    "</div>\n",
    "</section>"
   ]
  },
  {
   "cell_type": "markdown",
   "metadata": {},
   "source": [
    "You have seen that a body moving at a particular speed will make a circular orbit around the Sun, but that changes to the speed of that object send it on elliptical orbits. \n",
    "\n",
    "How might the work you’ve done here shed light on the origins of comets: icy bodies whose elliptical orbits bring them close to the Sun?"
   ]
  },
  {
   "cell_type": "markdown",
   "metadata": {},
   "source": [
    "*Write your answer here*"
   ]
  },
  {
   "cell_type": "markdown",
   "metadata": {},
   "source": [
    "#Further Reading\n",
    "\n",
    "We've only scratched the surface of Python here. Python will be used throughout the rest of your course, and will be extremely useful for project work. If you want a really solid foundation in Python and some useful modules, I suggest looking at some of the following links.\n",
    "\n",
    "* http://interactivepython.org/courselib/static/thinkcspy/index.html \n",
    "* http://www.codecademy.com/tracks/python\n",
    "* [matplotlib tutorial](http://www.loria.fr/~rougier/teaching/matplotlib/) \n",
    "* [numpy tutorial](http://wiki.scipy.org/Tentative_NumPy_Tutorial)\n",
    "* http://www.astropy.org/ (A python module for astronomers)"
   ]
  }
 ],
 "metadata": {
  "kernelspec": {
   "display_name": "IPython (Python 3)",
   "language": "python",
   "name": "python3"
  },
  "language_info": {
   "codemirror_mode": {
    "name": "ipython",
    "version": 3
   },
   "file_extension": ".py",
   "mimetype": "text/x-python",
   "name": "python",
   "nbconvert_exporter": "python",
   "pygments_lexer": "ipython3",
   "version": "3.4.3"
  }
 },
 "nbformat": 4,
 "nbformat_minor": 0
}
