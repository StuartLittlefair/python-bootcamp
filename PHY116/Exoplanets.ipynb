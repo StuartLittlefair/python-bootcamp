{
 "metadata": {
  "name": "",
  "signature": "sha256:498f011b8252bd4ed00b65127bb6e458b68753cf2198f18dc61d19b46c8f6071"
 },
 "nbformat": 3,
 "nbformat_minor": 0,
 "worksheets": [
  {
   "cells": [
    {
     "cell_type": "heading",
     "level": 1,
     "metadata": {},
     "source": [
      "Fitting a model to data"
     ]
    },
    {
     "cell_type": "markdown",
     "metadata": {},
     "source": [
      "So we want to fit a straight line to data using python, and plot the results. This is very simple. First we need to import the relevant modules"
     ]
    },
    {
     "cell_type": "code",
     "collapsed": false,
     "input": [
      "%matplotlib inline  \n",
      "import numpy as np\n",
      "import matplotlib.pyplot as plt"
     ],
     "language": "python",
     "metadata": {},
     "outputs": [],
     "prompt_number": 1
    },
    {
     "cell_type": "markdown",
     "metadata": {},
     "source": [
      "Now we wish to load in the data to fit. This is stored in a comma separated file. The <code>loadtxt</code> function in numpy will do this simply and will load each column into arrays called x, y and e."
     ]
    },
    {
     "cell_type": "code",
     "collapsed": false,
     "input": [
      "x,y,e = np.loadtxt('data.csv',delimiter=\",\",unpack=True)"
     ],
     "language": "python",
     "metadata": {},
     "outputs": [],
     "prompt_number": 2
    },
    {
     "cell_type": "markdown",
     "metadata": {},
     "source": [
      "Now we have our arrays of data we can use numpy's polynomial fitting routines to fit a straight line. First of all we'll use it in the most basic form to fit the x and y data, ignoring the uncertainties."
     ]
    },
    {
     "cell_type": "code",
     "collapsed": false,
     "input": [
      "degree = 1 # order of the polynomial to fit.\n",
      "poly_params = np.polyfit(x,y,degree)\n",
      "print poly_params"
     ],
     "language": "python",
     "metadata": {},
     "outputs": [
      {
       "output_type": "stream",
       "stream": "stdout",
       "text": [
        "[ 2.49862402  3.02590994]\n"
       ]
      }
     ],
     "prompt_number": 3
    },
    {
     "cell_type": "markdown",
     "metadata": {},
     "source": [
      "Note two things: that the polyfit routine returns a list of the polynomial parameters, and that numpy refers to a straight line as a polynomial of order 1.\n",
      "\n",
      "Now we have our fit, let's plot it on top of the data. First, we create a polynomial function from our best-fit parameters"
     ]
    },
    {
     "cell_type": "code",
     "collapsed": false,
     "input": [
      "poly = np.poly1d(poly_params)"
     ],
     "language": "python",
     "metadata": {},
     "outputs": [],
     "prompt_number": 4
    },
    {
     "cell_type": "markdown",
     "metadata": {},
     "source": [
      "This creates a function, called poly, which we can evaulate at our data points to create a new array of our best fit values"
     ]
    },
    {
     "cell_type": "code",
     "collapsed": false,
     "input": [
      "yfit = poly(x)"
     ],
     "language": "python",
     "metadata": {},
     "outputs": [],
     "prompt_number": 5
    },
    {
     "cell_type": "markdown",
     "metadata": {},
     "source": [
      "Now we'll plot this as a straight line on top of our data"
     ]
    },
    {
     "cell_type": "code",
     "collapsed": false,
     "input": [
      "plt.errorbar(x,y,yerr=e,fmt='.')\n",
      "plt.plot(x,yfit)\n",
      "plt.xlabel('x')\n",
      "plt.ylabel('y3')\n",
      "plt.show()"
     ],
     "language": "python",
     "metadata": {},
     "outputs": [
      {
       "metadata": {},
       "output_type": "display_data",
       "png": "[encoded data removed]",
       "text": [
        "<matplotlib.figure.Figure at 0x1134b7a50>"
       ]
      }
     ],
     "prompt_number": 10
    },
    {
     "cell_type": "markdown",
     "metadata": {},
     "source": [
      "What if we don't want to ignore the errors? We can use them as <b>weights</b> in the fit. We want to weight each point by the inverse of the variance."
     ]
    },
    {
     "cell_type": "code",
     "collapsed": false,
     "input": [
      "weights = 1./e**2\n",
      "poly_params = np.polyfit(x,y,degree,w=weights)\n",
      "print poly_params"
     ],
     "language": "python",
     "metadata": {},
     "outputs": [
      {
       "output_type": "stream",
       "stream": "stdout",
       "text": [
        "[ 2.49862402  3.02590994]\n"
       ]
      }
     ],
     "prompt_number": 11
    },
    {
     "cell_type": "markdown",
     "metadata": {},
     "source": [
      "What if we want to know the uncertainties on our best fit? This will be true most of the time! We can ask the polyfit routine to return the <em>covariance matrix</em> for our parameters. The diagonal elements of this matrix are our uncertainties, and can easily be extracted using numpy's <code>diag</code> function"
     ]
    },
    {
     "cell_type": "code",
     "collapsed": false,
     "input": [
      "poly_params, covar_mat = np.polyfit(x,y,degree,w=weights,cov=True)\n",
      "print covar_mat"
     ],
     "language": "python",
     "metadata": {},
     "outputs": [
      {
       "output_type": "stream",
       "stream": "stdout",
       "text": [
        "[[  5.52461693e-05  -2.76230846e-04]\n",
        " [ -2.76230846e-04   1.87990437e-03]]\n"
       ]
      }
     ],
     "prompt_number": 10
    },
    {
     "cell_type": "code",
     "collapsed": false,
     "input": [
      "param_errs = np.diag(covar_mat)\n",
      "print param_errs"
     ],
     "language": "python",
     "metadata": {},
     "outputs": [
      {
       "output_type": "stream",
       "stream": "stdout",
       "text": [
        "[  5.52461693e-05   1.87990437e-03]\n"
       ]
      }
     ],
     "prompt_number": 11
    },
    {
     "cell_type": "markdown",
     "metadata": {},
     "source": [
      "In the next notebook we'll look at another way of doing the same thing, which is easily expanded to fitting any general model."
     ]
    }
   ],
   "metadata": {}
  }
 ]
}